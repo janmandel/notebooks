{
  "nbformat": 4,
  "nbformat_minor": 0,
  "metadata": {
    "colab": {
      "name": "04-mesowest_demo.ipynb",
      "provenance": [],
      "collapsed_sections": []
    },
    "kernelspec": {
      "name": "python3",
      "display_name": "Python 3"
    },
    "language_info": {
      "name": "python"
    }
  },
  "cells": [
    {
      "cell_type": "markdown",
      "metadata": {
        "id": "NWVBxb_gnZEa"
      },
      "source": [
        "### Python exercise - accessing weather station data by API, plus using dictionaries and jsons ###\n",
        "See the [wrfxpy](https://github.com/openwfm/wrfxpy/blob/e5fa3fd5d67b4c3db493033f4940eda650ddc867/src/fmda/fuel_moisture_da.py#L124) code for a full version"
      ]
    },
    {
      "cell_type": "markdown",
      "metadata": {
        "id": "6uXVJj9koGF2"
      },
      "source": [
        "First, make the API available"
      ]
    },
    {
      "cell_type": "code",
      "metadata": {
        "id": "w5I8Hz20nXMQ"
      },
      "source": [
        "!pip install MesoPy\n",
        "from MesoPy import Meso"
      ],
      "execution_count": null,
      "outputs": []
    },
    {
      "cell_type": "markdown",
      "metadata": {
        "id": "s1HVOT-soL_e"
      },
      "source": [
        "Specify the time interval and the bounding box to get the data from: "
      ]
    },
    {
      "cell_type": "code",
      "metadata": {
        "id": "uBp6J9gRc83D"
      },
      "source": [
        "time_start = \"202006010800\"  # June 1 2020 08:00 in format yyyymmddHHMM \n",
        "time_end   = \"202006010900\"  # June 1 2020 09:00 in format yyyymmddHHMM \n",
        "bounding_box = \"-115, 38, -110, 40\"  # min longtitude, latitude\n"
      ],
      "execution_count": null,
      "outputs": []
    },
    {
      "cell_type": "markdown",
      "metadata": {
        "id": "U7-BOmVEokEj"
      },
      "source": [
        "Call the API"
      ]
    },
    {
      "cell_type": "code",
      "metadata": {
        "id": "I8pZ1IYrqOxf"
      },
      "source": [
        "meso_token=\"b40cb52cbdef43ef81329b84e8fd874f\"       # you should get your own if you do more of this\n",
        "m = Meso(meso_token)                                     # create a Meso object\n",
        "meso_obss = m.timeseries(time_start, time_end, bbox=bounding_box, showemptystations = '0', vars='fuel_moisture')   # ask the object for data"
      ],
      "execution_count": null,
      "outputs": []
    },
    {
      "cell_type": "markdown",
      "metadata": {
        "id": "VGv5pfNSrLce"
      },
      "source": [
        "Print the result:"
      ]
    },
    {
      "cell_type": "code",
      "metadata": {
        "id": "aggTETGIrOyK"
      },
      "source": [
        "print(meso_obss)"
      ],
      "execution_count": null,
      "outputs": []
    },
    {
      "cell_type": "markdown",
      "metadata": {
        "id": "85Mx4ANVsAN1"
      },
      "source": [
        "This long line does not look very good! But we see the structure: { key: value, key: value,...}. It is a **dictionary**. The value can be a dictionary itself, or a list, or some other kind of object. \n",
        "First let's see if we can pretty print the dictionary in a more human friendly form: "
      ]
    },
    {
      "cell_type": "code",
      "metadata": {
        "id": "HE-r6GlnjWY7"
      },
      "source": [
        "import json\n",
        "print(json.dumps(meso_obss, indent=4))\n"
      ],
      "execution_count": null,
      "outputs": []
    },
    {
      "cell_type": "markdown",
      "metadata": {
        "id": "spCF7VdhvIIn"
      },
      "source": [
        "Scrolling to the top, we see key \"STATION\". Try to retrieve its value:"
      ]
    },
    {
      "cell_type": "code",
      "metadata": {
        "id": "dPbrsJMtkiKx"
      },
      "source": [
        "stations=meso_obss['STATION']\n",
        "print(stations)"
      ],
      "execution_count": null,
      "outputs": []
    },
    {
      "cell_type": "markdown",
      "metadata": {
        "id": "3bXopS3btyz0"
      },
      "source": [
        "This is a list. Its first item is:"
      ]
    },
    {
      "cell_type": "code",
      "metadata": {
        "id": "FgKsHsDstoxg"
      },
      "source": [
        "print(stations[0])"
      ],
      "execution_count": null,
      "outputs": []
    },
    {
      "cell_type": "markdown",
      "metadata": {
        "id": "Qkkuse_UuiMH"
      },
      "source": [
        "Looks like a dictionary.\n",
        "**Exercise: pretty print this dictionary using json.dumps like above** "
      ]
    },
    {
      "cell_type": "code",
      "metadata": {
        "id": "3iWjymYMvWJM"
      },
      "source": [
        "your code here"
      ],
      "execution_count": null,
      "outputs": []
    }
  ]
}
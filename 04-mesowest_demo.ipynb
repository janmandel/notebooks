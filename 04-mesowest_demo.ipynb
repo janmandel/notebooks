{
 "cells": [
  {
   "cell_type": "markdown",
   "metadata": {
    "id": "NWVBxb_gnZEa"
   },
   "source": [
    "### Python exercise - accessing weather station data by API, plus using dictionaries and jsons ###\n",
    "See the [wrfxpy](https://github.com/openwfm/wrfxpy/blob/e5fa3fd5d67b4c3db493033f4940eda650ddc867/src/fmda/fuel_moisture_da.py#L124) code for a full version"
   ]
  },
  {
   "cell_type": "markdown",
   "metadata": {
    "id": "6uXVJj9koGF2"
   },
   "source": [
    "First, make the API available"
   ]
  },
  {
   "cell_type": "code",
   "execution_count": 1,
   "metadata": {
    "id": "w5I8Hz20nXMQ"
   },
   "outputs": [
    {
     "name": "stdout",
     "output_type": "stream",
     "text": [
      "Collecting MesoPy\n",
      "  Using cached MesoPy-2.0.3.tar.gz (7.2 kB)\n",
      "Building wheels for collected packages: MesoPy\n",
      "  Building wheel for MesoPy (setup.py) ... \u001b[?25ldone\n",
      "\u001b[?25h  Created wheel for MesoPy: filename=MesoPy-2.0.3-py3-none-any.whl size=7793 sha256=9bfc494f18d1ac50e9a6c2eccbd4ac5b0ebd4f9178898e77988b3883e25feed4\n",
      "  Stored in directory: /Users/jmandel/Library/Caches/pip/wheels/7f/80/61/2ee3a120b67e51c9355a931f83649887ae5fb349a4a996f1a1\n",
      "Successfully built MesoPy\n",
      "Installing collected packages: MesoPy\n",
      "Successfully installed MesoPy-2.0.3\n"
     ]
    }
   ],
   "source": [
    "!pip install MesoPy\n",
    "from MesoPy import Meso"
   ]
  },
  {
   "cell_type": "markdown",
   "metadata": {
    "id": "s1HVOT-soL_e"
   },
   "source": [
    "Specify the time interval and the bounding box to get the data from: "
   ]
  },
  {
   "cell_type": "code",
   "execution_count": 2,
   "metadata": {
    "id": "uBp6J9gRc83D"
   },
   "outputs": [],
   "source": [
    "time_start = \"202006010800\"  # June 1 2020 08:00 in format yyyymmddHHMM \n",
    "time_end   = \"202006010900\"  # June 1 2020 09:00 in format yyyymmddHHMM \n",
    "bounding_box = \"-115, 38, -110, 40\"  # min longtitude, latitude\n"
   ]
  },
  {
   "cell_type": "markdown",
   "metadata": {
    "id": "U7-BOmVEokEj"
   },
   "source": [
    "Call the API"
   ]
  },
  {
   "cell_type": "code",
   "execution_count": 3,
   "metadata": {
    "id": "I8pZ1IYrqOxf"
   },
   "outputs": [],
   "source": [
    "meso_token=\"b40cb52cbdef43ef81329b84e8fd874f\"       # you should get your own if you do more of this\n",
    "m = Meso(meso_token)                                     # create a Meso object\n",
    "meso_obss = m.timeseries(time_start, time_end, bbox=bounding_box, showemptystations = '0', vars='fuel_moisture')   # ask the object for data"
   ]
  },
  {
   "cell_type": "markdown",
   "metadata": {
    "id": "VGv5pfNSrLce"
   },
   "source": [
    "Print the result:"
   ]
  },
  {
   "cell_type": "code",
   "execution_count": 4,
   "metadata": {
    "id": "aggTETGIrOyK"
   },
   "outputs": [
    {
     "name": "stdout",
     "output_type": "stream",
     "text": [
      "{'UNITS': {'position': 'ft', 'fuel_moisture': 'gm', 'elevation': 'ft'}, 'QC_SUMMARY': {'QC_CHECKS_APPLIED': ['sl_range_check'], 'TOTAL_OBSERVATIONS_FLAGGED': 0.0, 'PERCENT_OF_TOTAL_OBSERVATIONS_FLAGGED': 0.0}, 'STATION': [{'STATUS': 'ACTIVE', 'MNET_ID': '2', 'PERIOD_OF_RECORD': {'start': '1997-01-01T00:00:00Z', 'end': '2021-10-23T19:27:00Z'}, 'ELEVATION': '6493', 'NAME': 'BLACK CEDAR', 'STID': 'BKCU1', 'SENSOR_VARIABLES': {'date_time': {'date_time': {}}, 'fuel_moisture': {'fuel_moisture_set_1': {'position': '0.98'}}}, 'ELEV_DEM': '6499.3', 'LONGITUDE': '-112.238864', 'STATE': 'UT', 'OBSERVATIONS': {'date_time': ['2020-06-01T08:27:00Z'], 'fuel_moisture_set_1': [4.5]}, 'RESTRICTED': False, 'QC_FLAGGED': False, 'LATITUDE': '38.979242', 'TIMEZONE': 'America/Denver', 'ID': '2328'}, {'STATUS': 'ACTIVE', 'MNET_ID': '2', 'PERIOD_OF_RECORD': {'start': '1998-07-30T00:00:00Z', 'end': '2021-10-23T19:12:00Z'}, 'ELEVATION': '8530', 'NAME': 'HORSE RIDGE', 'STID': 'HSRU1', 'SENSOR_VARIABLES': {'date_time': {'date_time': {}}, 'fuel_moisture': {'fuel_moisture_set_1': {'position': '0.98'}}}, 'ELEV_DEM': '8517.1', 'LONGITUDE': '-110.861944', 'STATE': 'UT', 'OBSERVATIONS': {'date_time': ['2020-06-01T08:12:00Z'], 'fuel_moisture_set_1': [8.7]}, 'RESTRICTED': False, 'QC_FLAGGED': False, 'LATITUDE': '39.933889', 'TIMEZONE': 'America/Denver', 'ID': '2341'}, {'STATUS': 'ACTIVE', 'MNET_ID': '2', 'PERIOD_OF_RECORD': {'start': '1997-01-01T00:00:00Z', 'end': '2021-10-23T19:16:00Z'}, 'ELEVATION': '8700', 'NAME': 'JOES VALLEY', 'STID': 'JVAU1', 'SENSOR_VARIABLES': {'date_time': {'date_time': {}}, 'fuel_moisture': {'fuel_moisture_set_1': {'position': '0.98'}}}, 'ELEV_DEM': '8710.6', 'LONGITUDE': '-111.322778', 'STATE': 'UT', 'OBSERVATIONS': {'date_time': ['2020-06-01T08:16:00Z'], 'fuel_moisture_set_1': [7.4]}, 'RESTRICTED': False, 'QC_FLAGGED': False, 'LATITUDE': '39.309444', 'TIMEZONE': 'America/Denver', 'ID': '2343'}, {'STATUS': 'ACTIVE', 'MNET_ID': '2', 'PERIOD_OF_RECORD': {'start': '2002-03-27T00:00:00Z', 'end': '2021-10-12T23:12:00Z'}, 'ELEVATION': '8625', 'NAME': 'H-T PORTABLE #3', 'STID': 'TR421', 'SENSOR_VARIABLES': {'date_time': {'date_time': {}}, 'fuel_moisture': {'fuel_moisture_set_1': {'position': '0.98'}}}, 'ELEV_DEM': '8638.5', 'LONGITUDE': '-114.669417', 'STATE': 'NV', 'OBSERVATIONS': {'date_time': ['2020-06-01T08:12:00Z'], 'fuel_moisture_set_1': [5.0]}, 'RESTRICTED': False, 'QC_FLAGGED': False, 'LATITUDE': '39.603583', 'TIMEZONE': 'America/Los_Angeles', 'ID': '3747'}, {'STATUS': 'ACTIVE', 'MNET_ID': '2', 'PERIOD_OF_RECORD': {'start': '2004-09-10T00:00:00Z', 'end': '2021-10-23T19:45:00Z'}, 'ELEVATION': '8112', 'NAME': 'ROCKY QD', 'STID': 'TS305', 'SENSOR_VARIABLES': {'date_time': {'date_time': {}}, 'fuel_moisture': {'fuel_moisture_set_1': {'position': '0.98'}}}, 'ELEV_DEM': '8123.4', 'LONGITUDE': '-110.950000', 'STATE': 'UT', 'OBSERVATIONS': {'date_time': ['2020-06-01T08:45:00Z'], 'fuel_moisture_set_1': [10.4]}, 'RESTRICTED': False, 'QC_FLAGGED': False, 'LATITUDE': '39.851083', 'TIMEZONE': 'America/Denver', 'ID': '11224'}, {'STATUS': 'ACTIVE', 'MNET_ID': '2', 'PERIOD_OF_RECORD': {'start': '2013-02-20T00:00:00Z', 'end': '2021-10-23T19:22:00Z'}, 'ELEVATION': '5790', 'NAME': 'FISHLAKE D1 PT #1', 'STID': 'TT156', 'SENSOR_VARIABLES': {'date_time': {'date_time': {}}, 'fuel_moisture': {'fuel_moisture_set_1': {'position': '0.98'}}}, 'ELEV_DEM': '5872.7', 'LONGITUDE': '-112.271383', 'STATE': 'UT', 'OBSERVATIONS': {'date_time': ['2020-06-01T08:22:00Z'], 'fuel_moisture_set_1': [4.3]}, 'RESTRICTED': False, 'QC_FLAGGED': False, 'LATITUDE': '38.941717', 'TIMEZONE': 'America/Denver', 'ID': '34260'}], 'SUMMARY': {'DATA_QUERY_TIME': '315.973997116 ms', 'RESPONSE_CODE': 1, 'RESPONSE_MESSAGE': 'OK', 'METADATA_RESPONSE_TIME': '105.997085571 ms', 'DATA_PARSING_TIME': '2.4139881134 ms', 'TOTAL_DATA_TIME': '318.388938904 ms', 'NUMBER_OF_OBJECTS': 6, 'FUNCTION_USED': 'time_data_parser'}}\n"
     ]
    }
   ],
   "source": [
    "print(meso_obss)"
   ]
  },
  {
   "cell_type": "markdown",
   "metadata": {
    "id": "85Mx4ANVsAN1"
   },
   "source": [
    "This long line does not look very good! But we see the structure: { key: value, key: value,...}. It is a **dictionary**. The value can be a dictionary itself, or a list, or some other kind of object. \n",
    "First let's see if we can pretty print the dictionary in a more human friendly form: "
   ]
  },
  {
   "cell_type": "code",
   "execution_count": 5,
   "metadata": {
    "id": "HE-r6GlnjWY7"
   },
   "outputs": [
    {
     "name": "stdout",
     "output_type": "stream",
     "text": [
      "{\n",
      "    \"UNITS\": {\n",
      "        \"position\": \"ft\",\n",
      "        \"fuel_moisture\": \"gm\",\n",
      "        \"elevation\": \"ft\"\n",
      "    },\n",
      "    \"QC_SUMMARY\": {\n",
      "        \"QC_CHECKS_APPLIED\": [\n",
      "            \"sl_range_check\"\n",
      "        ],\n",
      "        \"TOTAL_OBSERVATIONS_FLAGGED\": 0.0,\n",
      "        \"PERCENT_OF_TOTAL_OBSERVATIONS_FLAGGED\": 0.0\n",
      "    },\n",
      "    \"STATION\": [\n",
      "        {\n",
      "            \"STATUS\": \"ACTIVE\",\n",
      "            \"MNET_ID\": \"2\",\n",
      "            \"PERIOD_OF_RECORD\": {\n",
      "                \"start\": \"1997-01-01T00:00:00Z\",\n",
      "                \"end\": \"2021-10-23T19:27:00Z\"\n",
      "            },\n",
      "            \"ELEVATION\": \"6493\",\n",
      "            \"NAME\": \"BLACK CEDAR\",\n",
      "            \"STID\": \"BKCU1\",\n",
      "            \"SENSOR_VARIABLES\": {\n",
      "                \"date_time\": {\n",
      "                    \"date_time\": {}\n",
      "                },\n",
      "                \"fuel_moisture\": {\n",
      "                    \"fuel_moisture_set_1\": {\n",
      "                        \"position\": \"0.98\"\n",
      "                    }\n",
      "                }\n",
      "            },\n",
      "            \"ELEV_DEM\": \"6499.3\",\n",
      "            \"LONGITUDE\": \"-112.238864\",\n",
      "            \"STATE\": \"UT\",\n",
      "            \"OBSERVATIONS\": {\n",
      "                \"date_time\": [\n",
      "                    \"2020-06-01T08:27:00Z\"\n",
      "                ],\n",
      "                \"fuel_moisture_set_1\": [\n",
      "                    4.5\n",
      "                ]\n",
      "            },\n",
      "            \"RESTRICTED\": false,\n",
      "            \"QC_FLAGGED\": false,\n",
      "            \"LATITUDE\": \"38.979242\",\n",
      "            \"TIMEZONE\": \"America/Denver\",\n",
      "            \"ID\": \"2328\"\n",
      "        },\n",
      "        {\n",
      "            \"STATUS\": \"ACTIVE\",\n",
      "            \"MNET_ID\": \"2\",\n",
      "            \"PERIOD_OF_RECORD\": {\n",
      "                \"start\": \"1998-07-30T00:00:00Z\",\n",
      "                \"end\": \"2021-10-23T19:12:00Z\"\n",
      "            },\n",
      "            \"ELEVATION\": \"8530\",\n",
      "            \"NAME\": \"HORSE RIDGE\",\n",
      "            \"STID\": \"HSRU1\",\n",
      "            \"SENSOR_VARIABLES\": {\n",
      "                \"date_time\": {\n",
      "                    \"date_time\": {}\n",
      "                },\n",
      "                \"fuel_moisture\": {\n",
      "                    \"fuel_moisture_set_1\": {\n",
      "                        \"position\": \"0.98\"\n",
      "                    }\n",
      "                }\n",
      "            },\n",
      "            \"ELEV_DEM\": \"8517.1\",\n",
      "            \"LONGITUDE\": \"-110.861944\",\n",
      "            \"STATE\": \"UT\",\n",
      "            \"OBSERVATIONS\": {\n",
      "                \"date_time\": [\n",
      "                    \"2020-06-01T08:12:00Z\"\n",
      "                ],\n",
      "                \"fuel_moisture_set_1\": [\n",
      "                    8.7\n",
      "                ]\n",
      "            },\n",
      "            \"RESTRICTED\": false,\n",
      "            \"QC_FLAGGED\": false,\n",
      "            \"LATITUDE\": \"39.933889\",\n",
      "            \"TIMEZONE\": \"America/Denver\",\n",
      "            \"ID\": \"2341\"\n",
      "        },\n",
      "        {\n",
      "            \"STATUS\": \"ACTIVE\",\n",
      "            \"MNET_ID\": \"2\",\n",
      "            \"PERIOD_OF_RECORD\": {\n",
      "                \"start\": \"1997-01-01T00:00:00Z\",\n",
      "                \"end\": \"2021-10-23T19:16:00Z\"\n",
      "            },\n",
      "            \"ELEVATION\": \"8700\",\n",
      "            \"NAME\": \"JOES VALLEY\",\n",
      "            \"STID\": \"JVAU1\",\n",
      "            \"SENSOR_VARIABLES\": {\n",
      "                \"date_time\": {\n",
      "                    \"date_time\": {}\n",
      "                },\n",
      "                \"fuel_moisture\": {\n",
      "                    \"fuel_moisture_set_1\": {\n",
      "                        \"position\": \"0.98\"\n",
      "                    }\n",
      "                }\n",
      "            },\n",
      "            \"ELEV_DEM\": \"8710.6\",\n",
      "            \"LONGITUDE\": \"-111.322778\",\n",
      "            \"STATE\": \"UT\",\n",
      "            \"OBSERVATIONS\": {\n",
      "                \"date_time\": [\n",
      "                    \"2020-06-01T08:16:00Z\"\n",
      "                ],\n",
      "                \"fuel_moisture_set_1\": [\n",
      "                    7.4\n",
      "                ]\n",
      "            },\n",
      "            \"RESTRICTED\": false,\n",
      "            \"QC_FLAGGED\": false,\n",
      "            \"LATITUDE\": \"39.309444\",\n",
      "            \"TIMEZONE\": \"America/Denver\",\n",
      "            \"ID\": \"2343\"\n",
      "        },\n",
      "        {\n",
      "            \"STATUS\": \"ACTIVE\",\n",
      "            \"MNET_ID\": \"2\",\n",
      "            \"PERIOD_OF_RECORD\": {\n",
      "                \"start\": \"2002-03-27T00:00:00Z\",\n",
      "                \"end\": \"2021-10-12T23:12:00Z\"\n",
      "            },\n",
      "            \"ELEVATION\": \"8625\",\n",
      "            \"NAME\": \"H-T PORTABLE #3\",\n",
      "            \"STID\": \"TR421\",\n",
      "            \"SENSOR_VARIABLES\": {\n",
      "                \"date_time\": {\n",
      "                    \"date_time\": {}\n",
      "                },\n",
      "                \"fuel_moisture\": {\n",
      "                    \"fuel_moisture_set_1\": {\n",
      "                        \"position\": \"0.98\"\n",
      "                    }\n",
      "                }\n",
      "            },\n",
      "            \"ELEV_DEM\": \"8638.5\",\n",
      "            \"LONGITUDE\": \"-114.669417\",\n",
      "            \"STATE\": \"NV\",\n",
      "            \"OBSERVATIONS\": {\n",
      "                \"date_time\": [\n",
      "                    \"2020-06-01T08:12:00Z\"\n",
      "                ],\n",
      "                \"fuel_moisture_set_1\": [\n",
      "                    5.0\n",
      "                ]\n",
      "            },\n",
      "            \"RESTRICTED\": false,\n",
      "            \"QC_FLAGGED\": false,\n",
      "            \"LATITUDE\": \"39.603583\",\n",
      "            \"TIMEZONE\": \"America/Los_Angeles\",\n",
      "            \"ID\": \"3747\"\n",
      "        },\n",
      "        {\n",
      "            \"STATUS\": \"ACTIVE\",\n",
      "            \"MNET_ID\": \"2\",\n",
      "            \"PERIOD_OF_RECORD\": {\n",
      "                \"start\": \"2004-09-10T00:00:00Z\",\n",
      "                \"end\": \"2021-10-23T19:45:00Z\"\n",
      "            },\n",
      "            \"ELEVATION\": \"8112\",\n",
      "            \"NAME\": \"ROCKY QD\",\n",
      "            \"STID\": \"TS305\",\n",
      "            \"SENSOR_VARIABLES\": {\n",
      "                \"date_time\": {\n",
      "                    \"date_time\": {}\n",
      "                },\n",
      "                \"fuel_moisture\": {\n",
      "                    \"fuel_moisture_set_1\": {\n",
      "                        \"position\": \"0.98\"\n",
      "                    }\n",
      "                }\n",
      "            },\n",
      "            \"ELEV_DEM\": \"8123.4\",\n",
      "            \"LONGITUDE\": \"-110.950000\",\n",
      "            \"STATE\": \"UT\",\n",
      "            \"OBSERVATIONS\": {\n",
      "                \"date_time\": [\n",
      "                    \"2020-06-01T08:45:00Z\"\n",
      "                ],\n",
      "                \"fuel_moisture_set_1\": [\n",
      "                    10.4\n",
      "                ]\n",
      "            },\n",
      "            \"RESTRICTED\": false,\n",
      "            \"QC_FLAGGED\": false,\n",
      "            \"LATITUDE\": \"39.851083\",\n",
      "            \"TIMEZONE\": \"America/Denver\",\n",
      "            \"ID\": \"11224\"\n",
      "        },\n",
      "        {\n",
      "            \"STATUS\": \"ACTIVE\",\n",
      "            \"MNET_ID\": \"2\",\n",
      "            \"PERIOD_OF_RECORD\": {\n",
      "                \"start\": \"2013-02-20T00:00:00Z\",\n",
      "                \"end\": \"2021-10-23T19:22:00Z\"\n",
      "            },\n",
      "            \"ELEVATION\": \"5790\",\n",
      "            \"NAME\": \"FISHLAKE D1 PT #1\",\n",
      "            \"STID\": \"TT156\",\n",
      "            \"SENSOR_VARIABLES\": {\n",
      "                \"date_time\": {\n",
      "                    \"date_time\": {}\n",
      "                },\n",
      "                \"fuel_moisture\": {\n",
      "                    \"fuel_moisture_set_1\": {\n",
      "                        \"position\": \"0.98\"\n",
      "                    }\n",
      "                }\n",
      "            },\n",
      "            \"ELEV_DEM\": \"5872.7\",\n",
      "            \"LONGITUDE\": \"-112.271383\",\n",
      "            \"STATE\": \"UT\",\n",
      "            \"OBSERVATIONS\": {\n",
      "                \"date_time\": [\n",
      "                    \"2020-06-01T08:22:00Z\"\n",
      "                ],\n",
      "                \"fuel_moisture_set_1\": [\n",
      "                    4.3\n",
      "                ]\n",
      "            },\n",
      "            \"RESTRICTED\": false,\n",
      "            \"QC_FLAGGED\": false,\n",
      "            \"LATITUDE\": \"38.941717\",\n",
      "            \"TIMEZONE\": \"America/Denver\",\n",
      "            \"ID\": \"34260\"\n",
      "        }\n",
      "    ],\n",
      "    \"SUMMARY\": {\n",
      "        \"DATA_QUERY_TIME\": \"315.973997116 ms\",\n",
      "        \"RESPONSE_CODE\": 1,\n",
      "        \"RESPONSE_MESSAGE\": \"OK\",\n",
      "        \"METADATA_RESPONSE_TIME\": \"105.997085571 ms\",\n",
      "        \"DATA_PARSING_TIME\": \"2.4139881134 ms\",\n",
      "        \"TOTAL_DATA_TIME\": \"318.388938904 ms\",\n",
      "        \"NUMBER_OF_OBJECTS\": 6,\n",
      "        \"FUNCTION_USED\": \"time_data_parser\"\n",
      "    }\n",
      "}\n"
     ]
    }
   ],
   "source": [
    "import json\n",
    "print(json.dumps(meso_obss, indent=4))\n"
   ]
  },
  {
   "cell_type": "markdown",
   "metadata": {
    "id": "spCF7VdhvIIn"
   },
   "source": [
    "Scrolling to the top, we see key \"STATION\". Try to retrieve its value:"
   ]
  },
  {
   "cell_type": "code",
   "execution_count": 6,
   "metadata": {
    "id": "dPbrsJMtkiKx"
   },
   "outputs": [
    {
     "name": "stdout",
     "output_type": "stream",
     "text": [
      "[{'STATUS': 'ACTIVE', 'MNET_ID': '2', 'PERIOD_OF_RECORD': {'start': '1997-01-01T00:00:00Z', 'end': '2021-10-23T19:27:00Z'}, 'ELEVATION': '6493', 'NAME': 'BLACK CEDAR', 'STID': 'BKCU1', 'SENSOR_VARIABLES': {'date_time': {'date_time': {}}, 'fuel_moisture': {'fuel_moisture_set_1': {'position': '0.98'}}}, 'ELEV_DEM': '6499.3', 'LONGITUDE': '-112.238864', 'STATE': 'UT', 'OBSERVATIONS': {'date_time': ['2020-06-01T08:27:00Z'], 'fuel_moisture_set_1': [4.5]}, 'RESTRICTED': False, 'QC_FLAGGED': False, 'LATITUDE': '38.979242', 'TIMEZONE': 'America/Denver', 'ID': '2328'}, {'STATUS': 'ACTIVE', 'MNET_ID': '2', 'PERIOD_OF_RECORD': {'start': '1998-07-30T00:00:00Z', 'end': '2021-10-23T19:12:00Z'}, 'ELEVATION': '8530', 'NAME': 'HORSE RIDGE', 'STID': 'HSRU1', 'SENSOR_VARIABLES': {'date_time': {'date_time': {}}, 'fuel_moisture': {'fuel_moisture_set_1': {'position': '0.98'}}}, 'ELEV_DEM': '8517.1', 'LONGITUDE': '-110.861944', 'STATE': 'UT', 'OBSERVATIONS': {'date_time': ['2020-06-01T08:12:00Z'], 'fuel_moisture_set_1': [8.7]}, 'RESTRICTED': False, 'QC_FLAGGED': False, 'LATITUDE': '39.933889', 'TIMEZONE': 'America/Denver', 'ID': '2341'}, {'STATUS': 'ACTIVE', 'MNET_ID': '2', 'PERIOD_OF_RECORD': {'start': '1997-01-01T00:00:00Z', 'end': '2021-10-23T19:16:00Z'}, 'ELEVATION': '8700', 'NAME': 'JOES VALLEY', 'STID': 'JVAU1', 'SENSOR_VARIABLES': {'date_time': {'date_time': {}}, 'fuel_moisture': {'fuel_moisture_set_1': {'position': '0.98'}}}, 'ELEV_DEM': '8710.6', 'LONGITUDE': '-111.322778', 'STATE': 'UT', 'OBSERVATIONS': {'date_time': ['2020-06-01T08:16:00Z'], 'fuel_moisture_set_1': [7.4]}, 'RESTRICTED': False, 'QC_FLAGGED': False, 'LATITUDE': '39.309444', 'TIMEZONE': 'America/Denver', 'ID': '2343'}, {'STATUS': 'ACTIVE', 'MNET_ID': '2', 'PERIOD_OF_RECORD': {'start': '2002-03-27T00:00:00Z', 'end': '2021-10-12T23:12:00Z'}, 'ELEVATION': '8625', 'NAME': 'H-T PORTABLE #3', 'STID': 'TR421', 'SENSOR_VARIABLES': {'date_time': {'date_time': {}}, 'fuel_moisture': {'fuel_moisture_set_1': {'position': '0.98'}}}, 'ELEV_DEM': '8638.5', 'LONGITUDE': '-114.669417', 'STATE': 'NV', 'OBSERVATIONS': {'date_time': ['2020-06-01T08:12:00Z'], 'fuel_moisture_set_1': [5.0]}, 'RESTRICTED': False, 'QC_FLAGGED': False, 'LATITUDE': '39.603583', 'TIMEZONE': 'America/Los_Angeles', 'ID': '3747'}, {'STATUS': 'ACTIVE', 'MNET_ID': '2', 'PERIOD_OF_RECORD': {'start': '2004-09-10T00:00:00Z', 'end': '2021-10-23T19:45:00Z'}, 'ELEVATION': '8112', 'NAME': 'ROCKY QD', 'STID': 'TS305', 'SENSOR_VARIABLES': {'date_time': {'date_time': {}}, 'fuel_moisture': {'fuel_moisture_set_1': {'position': '0.98'}}}, 'ELEV_DEM': '8123.4', 'LONGITUDE': '-110.950000', 'STATE': 'UT', 'OBSERVATIONS': {'date_time': ['2020-06-01T08:45:00Z'], 'fuel_moisture_set_1': [10.4]}, 'RESTRICTED': False, 'QC_FLAGGED': False, 'LATITUDE': '39.851083', 'TIMEZONE': 'America/Denver', 'ID': '11224'}, {'STATUS': 'ACTIVE', 'MNET_ID': '2', 'PERIOD_OF_RECORD': {'start': '2013-02-20T00:00:00Z', 'end': '2021-10-23T19:22:00Z'}, 'ELEVATION': '5790', 'NAME': 'FISHLAKE D1 PT #1', 'STID': 'TT156', 'SENSOR_VARIABLES': {'date_time': {'date_time': {}}, 'fuel_moisture': {'fuel_moisture_set_1': {'position': '0.98'}}}, 'ELEV_DEM': '5872.7', 'LONGITUDE': '-112.271383', 'STATE': 'UT', 'OBSERVATIONS': {'date_time': ['2020-06-01T08:22:00Z'], 'fuel_moisture_set_1': [4.3]}, 'RESTRICTED': False, 'QC_FLAGGED': False, 'LATITUDE': '38.941717', 'TIMEZONE': 'America/Denver', 'ID': '34260'}]\n"
     ]
    }
   ],
   "source": [
    "stations=meso_obss['STATION']\n",
    "print(stations)"
   ]
  },
  {
   "cell_type": "markdown",
   "metadata": {
    "id": "3bXopS3btyz0"
   },
   "source": [
    "This is a list. Its first item is:"
   ]
  },
  {
   "cell_type": "code",
   "execution_count": 9,
   "metadata": {
    "id": "FgKsHsDstoxg"
   },
   "outputs": [
    {
     "name": "stdout",
     "output_type": "stream",
     "text": [
      "{'STATUS': 'ACTIVE', 'MNET_ID': '2', 'PERIOD_OF_RECORD': {'start': '1997-01-01T00:00:00Z', 'end': '2021-10-23T19:27:00Z'}, 'ELEVATION': '6493', 'NAME': 'BLACK CEDAR', 'STID': 'BKCU1', 'SENSOR_VARIABLES': {'date_time': {'date_time': {}}, 'fuel_moisture': {'fuel_moisture_set_1': {'position': '0.98'}}}, 'ELEV_DEM': '6499.3', 'LONGITUDE': '-112.238864', 'STATE': 'UT', 'OBSERVATIONS': {'date_time': ['2020-06-01T08:27:00Z'], 'fuel_moisture_set_1': [4.5]}, 'RESTRICTED': False, 'QC_FLAGGED': False, 'LATITUDE': '38.979242', 'TIMEZONE': 'America/Denver', 'ID': '2328'}\n"
     ]
    }
   ],
   "source": [
    "print(stations[0])"
   ]
  },
  {
   "cell_type": "markdown",
   "metadata": {
    "id": "Qkkuse_UuiMH"
   },
   "source": [
    "Looks like a dictionary.\n",
    "**Exercise: pretty print this dictionary using json.dumps like above** "
   ]
  },
  {
   "cell_type": "code",
   "execution_count": 10,
   "metadata": {
    "id": "3iWjymYMvWJM"
   },
   "outputs": [
    {
     "name": "stdout",
     "output_type": "stream",
     "text": [
      "{\n",
      "    \"STATUS\": \"ACTIVE\",\n",
      "    \"MNET_ID\": \"2\",\n",
      "    \"PERIOD_OF_RECORD\": {\n",
      "        \"start\": \"1997-01-01T00:00:00Z\",\n",
      "        \"end\": \"2021-10-23T19:27:00Z\"\n",
      "    },\n",
      "    \"ELEVATION\": \"6493\",\n",
      "    \"NAME\": \"BLACK CEDAR\",\n",
      "    \"STID\": \"BKCU1\",\n",
      "    \"SENSOR_VARIABLES\": {\n",
      "        \"date_time\": {\n",
      "            \"date_time\": {}\n",
      "        },\n",
      "        \"fuel_moisture\": {\n",
      "            \"fuel_moisture_set_1\": {\n",
      "                \"position\": \"0.98\"\n",
      "            }\n",
      "        }\n",
      "    },\n",
      "    \"ELEV_DEM\": \"6499.3\",\n",
      "    \"LONGITUDE\": \"-112.238864\",\n",
      "    \"STATE\": \"UT\",\n",
      "    \"OBSERVATIONS\": {\n",
      "        \"date_time\": [\n",
      "            \"2020-06-01T08:27:00Z\"\n",
      "        ],\n",
      "        \"fuel_moisture_set_1\": [\n",
      "            4.5\n",
      "        ]\n",
      "    },\n",
      "    \"RESTRICTED\": false,\n",
      "    \"QC_FLAGGED\": false,\n",
      "    \"LATITUDE\": \"38.979242\",\n",
      "    \"TIMEZONE\": \"America/Denver\",\n",
      "    \"ID\": \"2328\"\n",
      "}\n"
     ]
    }
   ],
   "source": [
    "print(json.dumps(stations[0], indent=4))"
   ]
  },
  {
   "cell_type": "code",
   "execution_count": null,
   "metadata": {},
   "outputs": [],
   "source": []
  }
 ],
 "metadata": {
  "colab": {
   "collapsed_sections": [],
   "name": "04-mesowest_demo.ipynb",
   "provenance": []
  },
  "kernelspec": {
   "display_name": "Python 3",
   "language": "python",
   "name": "python3"
  },
  "language_info": {
   "codemirror_mode": {
    "name": "ipython",
    "version": 3
   },
   "file_extension": ".py",
   "mimetype": "text/x-python",
   "name": "python",
   "nbconvert_exporter": "python",
   "pygments_lexer": "ipython3",
   "version": "3.8.5"
  }
 },
 "nbformat": 4,
 "nbformat_minor": 1
}

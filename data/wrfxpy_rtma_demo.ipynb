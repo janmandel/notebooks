{
 "cells": [
  {
   "cell_type": "code",
   "execution_count": null,
   "metadata": {
    "id": "eec180b9QCSB"
   },
   "outputs": [],
   "source": [
    "import os\n",
    "if not os.path.exists('wrfxpy'):\n",
    "   ! git clone https://github.com/openwfm/wrfxpy.git\n",
    "! cd wrfxpy; git checkout jm; git pull;  git log | head\n",
    "! pip install pygrib\n"
   ]
  },
  {
   "cell_type": "code",
   "execution_count": null,
   "metadata": {
    "colab": {
     "base_uri": "https://localhost:8080/"
    },
    "id": "52aO7XXn7TI_",
    "outputId": "c607cdf2-6a8c-4f1a-b8aa-646b7f9b46d1"
   },
   "outputs": [],
   "source": [
    "!apt install libgrib-api-dev libgrib2c-dev\n",
    "!pip install pyproj\n",
    "!pip install pygrib"
   ]
  },
  {
   "cell_type": "code",
   "execution_count": null,
   "metadata": {
    "id": "rc7RnvGZQQXh"
   },
   "outputs": [],
   "source": [
    "import json\n",
    "cfg = json.load(open('wrfxpy/etc/conf.json.initial'))\n",
    "# make changes to the cfg dictionary here if desired\n",
    "json.dump(cfg, open('wrfxpy/etc/conf.json', 'w'), indent=4, separators=(',', ': '))"
   ]
  },
  {
   "cell_type": "code",
   "execution_count": null,
   "metadata": {
    "id": "TPkRrtHVQqLX"
   },
   "outputs": [],
   "source": [
    "import sys\n",
    "sys.path.append('wrfxpy/src')     # source root\n",
    "import ingest.rtma_source\n"
   ]
  },
  {
   "cell_type": "code",
   "execution_count": null,
   "metadata": {
    "colab": {
     "base_uri": "https://localhost:8080/",
     "height": 305
    },
    "id": "-STU9kXtwogO",
    "outputId": "58ade569-8e6f-49d4-a94a-9307cc2686e9"
   },
   "outputs": [],
   "source": [
    "import pygrib"
   ]
  }
 ],
 "metadata": {
  "colab": {
   "collapsed_sections": [],
   "name": "wrfxpy-rtma-demo.ipynb",
   "provenance": []
  },
  "kernelspec": {
   "display_name": "Python 3",
   "language": "python",
   "name": "python3"
  },
  "language_info": {
   "codemirror_mode": {
    "name": "ipython",
    "version": 3
   },
   "file_extension": ".py",
   "mimetype": "text/x-python",
   "name": "python",
   "nbconvert_exporter": "python",
   "pygments_lexer": "ipython3",
   "version": "3.8.5"
  }
 },
 "nbformat": 4,
 "nbformat_minor": 1
}

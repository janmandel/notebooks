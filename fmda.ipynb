{
  "nbformat": 4,
  "nbformat_minor": 0,
  "metadata": {
    "colab": {
      "name": "fmda.ipynb",
      "provenance": [],
      "collapsed_sections": [
        "jivOYEhiXMi5",
        "Uvsbbv2XZ2Hd"
      ]
    },
    "kernelspec": {
      "display_name": "Python 3",
      "name": "python3"
    },
    "language_info": {
      "name": "python"
    }
  },
  "cells": [
    {
      "cell_type": "markdown",
      "metadata": {
        "id": "X9rvlymMZdJg"
      },
      "source": [
        "## Kalman filter"
      ]
    },
    {
      "cell_type": "code",
      "metadata": {
        "colab": {
          "background_save": true
        },
        "id": "-bvUtJ_OLwQA"
      },
      "source": [
        "import numpy as np\n",
        "\n",
        "def d2(a):\n",
        "  # convenience function\n",
        "  return np.atleast_2d(a)\n",
        "\n",
        "def ext_kf(u,P,F,Q,d=None,H=None,R=None):\n",
        "  \"\"\"\n",
        "  One step of the extended Kalman filter. \n",
        "  If there is no data, only advance in time.\n",
        "  :param u:   the state vector, shape n\n",
        "  :param P:   the state covariance, shape (n,n)\n",
        "  :param Q:   the process model noise covariance, shape (n,n)\n",
        "  :param F:   the model function, maps vector u to vector F(u) and Jacobian J(u)\n",
        "  :param d:   data vector, shape (m)\n",
        "  :param H:   observation matrix, shape (m,n)\n",
        "  :param R:   data error covariance, shape (n,n)\n",
        "  :return ua: the analysis state vector, shape (n)\n",
        "  :return Pa: the analysis covariance matrix, shape (n,n)\n",
        "  \"\"\"\n",
        "  # forecast\n",
        "  uf, J  = F(u)          # advance the model state in time and get the Jacobian\n",
        "  Pf  = d2(J.T @ P) @ J + Q  # advance the state covariance Pf = J' * P * J + Q\n",
        "  # analysis\n",
        "  if d is None or not d.size :  # no data, no analysis\n",
        "    return uf, Pf\n",
        "  # K = P H' * inverse(H P H' + R) = (inverse(H P H' + R)*(H P))' \n",
        "  HP  = d2(H @ P)            # precompute a part used twice  \n",
        "  K   = np.linalg.solve( d2(HP @ H.T) + R, HP).T  # Kalman gain\n",
        "  ua = uf - K @ (H @ uf - d) # analysis mean\n",
        "  Pa = Pf - K @ H @ P        # analysis covariance\n",
        "  return ua, Pa\n"
      ],
      "execution_count": null,
      "outputs": []
    },
    {
      "cell_type": "markdown",
      "metadata": {
        "id": "K9pD9grsAJMq"
      },
      "source": [
        "##  A basic exponential decay model"
      ]
    },
    {
      "cell_type": "markdown",
      "metadata": {
        "id": "EHGMoaVWao89"
      },
      "source": [
        "The model is defined by solving the differential equation on interval $\\left[\n",
        "t_{0},t_{1}\\right]  $,\n",
        "$$\n",
        "\\frac{dm}{dt}=\\frac{E-m(t)}{T},\\quad m(t_{0})=m_{0}.\n",
        "$$\n",
        "where the initial fuel moisture content $m_{0}=m\\left(  t_{0}\\right)  $ is the\n",
        "input, and $m_{1}=m(t_{1})$ is the output. The parameters of the model are\n",
        "fuel moisture equilibrium $E$, assumed constant over the interval $\\left[\n",
        "t_{0},t_{1}\\right]  $, the characteristic decay time $T$, and the length of\n",
        "the interval, $t_{1}-t_{0}$. \n",
        "\n",
        "We can build the general model by calling this simple model with different\n",
        "equilibria and time constants (drying, wetting, rain).\n",
        "\n",
        "Since $E$ is constant in time, the solution can be found\n",
        "analytically,\n",
        "$$\n",
        "m\\left(  t\\right)  =E+\\left(  m_{0}-E\\right)  e^{-t/T}%\n",
        "$$\n",
        "For convenience, we use $T_{1}=1/T$ instead of $T$, and the model becomes\n",
        "$$\n",
        "m_{1}=E+\\left(  m_{0}-E\\right)  e^{-\\left(  t_{1}-t_{0}\\right)  T_{1}}%\n",
        "$$\n",
        "In the extended Kalman filter, we will need the partial derivatives of $m_{1}$\n",
        "with respect to the input and the parameters. Compute\n",
        "$$\n",
        "\\frac{dm_{1}}{d_{m0}}=e^{-\\left(  t_{1}-t_{0}\\right)  T_{1}}\n",
        "$$\n",
        "$$\n",
        "\\frac{dm_{1}}{dE}=1-e^{-\\left(  t_{1}-t_{0}\\right)  T_{1}}\n",
        "$$\n",
        "$$\n",
        "\\frac{dm_{1}}{dT_{1}}=-\\left(  m_{0}-E\\right)  \\left(  t_{1}-t_{0}\\right)\n",
        "e^{-\\left(  t_{1}-t_{0}\\right)  T_{1}}\n",
        "$$\n",
        "At the moment, we need only ${dm_{1}}/{dm_{0}}$ but we put in the code all partials for possible use infuture.\n"
      ]
    },
    {
      "cell_type": "code",
      "metadata": {
        "id": "eqcs0zEiAn0j"
      },
      "source": [
        "import numpy as np\n",
        "def model_decay(m0,E,partials=0,T1=0.1,tlen=1):\n",
        "  exp_t = np.exp(-tlen*T1)                  # compute this subexpression only once\n",
        "  m1 = E + (m0 - E)*exp_t                   # the solution at end\n",
        "  if partials==0:\n",
        "    return m1\n",
        "  dm1_dm0 = exp_t\n",
        "  if partials==1:\n",
        "    return m1, np.array([dm1_dm0])          # return value and Jacobian\n",
        "  dm1_dE = 1 - exp_t                        # partial derivative dm1 / dE\n",
        "  dm1_dT1 = -(m0 - E)*tlen*exp_t            # partial derivative dm1 / dT1\n",
        "  return m1, dm1_dm0, dm1_dE, dm1_dT1       # return value and all partial derivatives wrt m1 and parameters\n",
        "  "
      ],
      "execution_count": null,
      "outputs": []
    },
    {
      "cell_type": "markdown",
      "metadata": {
        "id": "hLPJT3FcA2a7"
      },
      "source": [
        "## Kalman filter demonstration"
      ]
    },
    {
      "cell_type": "markdown",
      "metadata": {
        "id": "bBv10PTiChhm"
      },
      "source": [
        "### Create synthetic data"
      ]
    },
    {
      "cell_type": "code",
      "metadata": {
        "id": "-_pz-wXnCMnP"
      },
      "source": [
        "import numpy as np, random\n",
        "days = 10       \n",
        "hours = days*24\n",
        "day = np.array(range(hours))/24.\n",
        "# artificial equilibrium data\n",
        "E = np.power(np.sin(np.pi*day),4) # diurnal curve\n",
        "E = 0.05+0.25*E # scale \n",
        "# FMC free run\n",
        "m_f = np.zeros(hours)\n",
        "m_f[0] = 0.1         # initial FMC\n",
        "for t in range(hours-1):\n",
        "  m_f[t+1] = max(0.,model_decay(m_f[t],E[t])  + random.gauss(0,0.005) )\n",
        "data = m_f + np.random.normal(loc=0,scale=0.02,size=hours)    \n",
        "\n",
        "%matplotlib inline\n",
        "import matplotlib.pyplot as plt \n",
        "plt.plot(day,E,linestyle='--',c='r',label='Equilibrium')\n",
        "plt.plot(day,m_f,linestyle='-',c='k',label='10-h fuel truth')\n",
        "plt.scatter(day,data,c='b',label='10-h fuel data')\n",
        " "
      ],
      "execution_count": null,
      "outputs": []
    },
    {
      "cell_type": "markdown",
      "metadata": {
        "id": "z-3WLAEpD2yJ"
      },
      "source": [
        "### Run Kalman filter"
      ]
    },
    {
      "cell_type": "code",
      "metadata": {
        "id": "_-CjONZkD18n"
      },
      "source": [
        "import numpy as np\n",
        "def jmul(a,b):\n",
        "  c = a @ b  # numpy matrix multiplication gives scalar\n",
        "  \n",
        "\n",
        "\n",
        "m = np.zeros(hours)\n",
        "m[0]=0.1             # background state                  \n",
        "P = np.array([0.03]) # background state variance\n",
        "Q = np.array([0.02]) # process noise variance\n",
        "H = np.array([1.])   # all observed\n",
        "R = np.array([0.02]) # data variance\n",
        "\n",
        "DeltaE = 0.          # \n",
        "for t in range(hours - 1):\n",
        "  # use lambda construction to pass additional arguments to the model \n",
        "  m[t+1],P = ext_kf(m[t],P,lambda u: model_decay(u,E[t]+DeltaE,partials=1),Q,\n",
        "                    d=data[t],H=H,R=R)"
      ],
      "execution_count": null,
      "outputs": []
    },
    {
      "cell_type": "code",
      "metadata": {
        "id": "vqyB2Yz3uCsD"
      },
      "source": [
        "%debug\n",
        "a=np.array([1.,1])\n",
        "print(a.shape)\n",
        "b=np.array([1.,1]).T\n",
        "print(b.shape)\n",
        "c = a @ b\n",
        "print(c)"
      ],
      "execution_count": null,
      "outputs": []
    },
    {
      "cell_type": "code",
      "metadata": {
        "id": "DQeF7J8T4j2i"
      },
      "source": [
        ""
      ],
      "execution_count": null,
      "outputs": []
    },
    {
      "cell_type": "markdown",
      "metadata": {
        "id": "jivOYEhiXMi5"
      },
      "source": [
        "## Model with extended state\n",
        "In reality, the equilibrium moisture $E$ computed from atmospheric conditions\n",
        "generally does not agree with the data. We want to add a correction $\\Delta\n",
        "E$, constant in time, and identify the new parameter $\\Delta E$ from data.\n",
        "Define a composite state $u=\\left[\n",
        "\\begin{array}\n",
        "[c]{c}\n",
        "m\\\\\n",
        "\\Delta E\n",
        "\\end{array}\n",
        "\\right]  .$ Since $\\Delta E$ is constant in time, it satisfies the\n",
        "differential equation $\\frac{d\\Delta E}{dt}=0.$ So, we want to estimate the\n",
        "state $u$ governed by the\n",
        "$$\n",
        "\\frac{d}{dt}\\left[\n",
        "\\begin{array}\n",
        "[c]{c}\n",
        "m\\\\\n",
        "\\Delta E\n",
        "\\end{array}\n",
        "\\right]  =\\left[\n",
        "\\begin{array}\n",
        "[c]{c}\n",
        "\\frac{E+\\Delta E-m(t)}{T}\\\\\n",
        "0\n",
        "\\end{array}\n",
        "\\right]  ,\n",
        "$$\n",
        "which we write as $\\frac{du}{dt}=F(u),$ where\n",
        "$$\n",
        "F(u)=\\left[\n",
        "\\begin{array}\n",
        "[c]{c}\n",
        "F_{1}\\left(  u\\right)  \\\\\n",
        "F_{2}\\left(  u\\right)\n",
        "\\end{array}\n",
        "\\right]  =F\\left(  \\left[\n",
        "\\begin{array}\n",
        "[c]{c}\n",
        "m\\\\\n",
        "\\Delta E\n",
        "\\end{array}\n",
        "\\right]  \\right)  =\\left[\n",
        "\\begin{array}\n",
        "[c]{c}\n",
        "\\left(  E+\\Delta E-m(t)\\right)  T_{1}\\\\\n",
        "0\n",
        "\\end{array}\n",
        "\\right]  ,\\quad T_{1}=\\frac{1}{T}.\n",
        "$$\n",
        "The Jacobian of $F$ is\n",
        "$$\n",
        "\\left[\n",
        "\\begin{array}\n",
        "[c]{cc}\n",
        "\\frac{\\partial F_{1}}{\\partial u_{1}} & \\frac{\\partial F_{1}}{\\partial u_{2}\n",
        "}\\\\\n",
        "\\frac{\\partial F_{2}}{\\partial u_{1}} & \\frac{\\partial F_{2}}{\\partial u_{2}}\n",
        "\\end{array}\n",
        "\\right]  =\\left[\n",
        "\\begin{array}\n",
        "[c]{cc}\n",
        "\\frac{\\partial m_{1}}{\\partial m_{0}} & \\frac{\\partial m_{1}}{\\partial E}\\\\\n",
        "\\frac{\\partial\\Delta E}{\\partial m_{0}} & \\frac{\\partial\\Delta E}\n",
        "{\\partial\\Delta E}\n",
        "\\end{array}\n",
        "\\right]  =\\left[\n",
        "\\begin{array}\n",
        "[c]{cc}\n",
        "\\frac{\\partial m_{1}}{\\partial m_{0}} & \\frac{\\partial m_{1}}{\\partial E}\\\\\n",
        "0 & 1\n",
        "\\end{array}\n",
        "\\right]\n",
        "$$\n",
        "Here is a function that implements the extended model $F$. The input is\n",
        "$u_{0}$ and the output is $u_{1}$ and the Jacobian $du_{1}/du_{0}$."
      ]
    },
    {
      "cell_type": "code",
      "metadata": {
        "id": "GHtAaGp9WSHT"
      },
      "source": [
        "def model_extended(u0,E,T1,tlen=1):\n",
        "  # state u is the vector [m,dE] with dE correction to equilibrium\n",
        "  m0 = u0[0]  # decompose u0\n",
        "  dE = u0[1]\n",
        "  m1, dm1_dm0, dm1_dE, dm1_dT1  = model_decay(m0,E + dE,T1,tlen=tlen)\n",
        "  u1 = np.array([m1,dE])\n",
        "  J = np.array([dm1_dm0, dm1_dE],\n",
        "               [0.     ,     1.])\n",
        "  return m0, J"
      ],
      "execution_count": null,
      "outputs": []
    },
    {
      "cell_type": "markdown",
      "metadata": {
        "id": "8SuVNg8TsW4d"
      },
      "source": [
        ""
      ]
    },
    {
      "cell_type": "code",
      "metadata": {
        "id": "1No3g6HyAEh_"
      },
      "source": [
        "a=np.array([1,2])\n",
        "print(a[0])"
      ],
      "execution_count": null,
      "outputs": []
    },
    {
      "cell_type": "code",
      "metadata": {
        "id": "ESJQ8dWiiork"
      },
      "source": [
        ""
      ],
      "execution_count": null,
      "outputs": []
    },
    {
      "cell_type": "code",
      "metadata": {
        "id": "CJDcq4QvNhJI"
      },
      "source": [
        "d=np.array([])\n",
        "if d:\n",
        "  print('yes')"
      ],
      "execution_count": null,
      "outputs": []
    },
    {
      "cell_type": "code",
      "metadata": {
        "id": "Y4_pVyy_IOHm"
      },
      "source": [
        "for d in range(24):\n",
        "  print(d)"
      ],
      "execution_count": null,
      "outputs": []
    },
    {
      "cell_type": "markdown",
      "metadata": {
        "id": "t8tMN3qOx3IP"
      },
      "source": [
        "# With real data"
      ]
    },
    {
      "cell_type": "code",
      "metadata": {
        "id": "2IAGpfAiFtRu"
      },
      "source": [
        "! pip install intergrid\n",
        "from intergrid.intergrid import Intergrid  # docs https://pypi.org/project/intergrid/\n",
        "from datetime import date\n",
        "import pandas as pd\n",
        "start_date = date(2018,5,19)\n",
        "end_date = date(2020,6,1)\n",
        "for d in pd.date_range(start_date,end_date,freq=\"1h\"):\n",
        "    path = d.strftime(\"%Y%m%d/%H\")\n",
        "    print(path)"
      ],
      "execution_count": null,
      "outputs": []
    },
    {
      "cell_type": "markdown",
      "metadata": {
        "id": "sQhxXLtbC5mc"
      },
      "source": [
        "#Experiments"
      ]
    },
    {
      "cell_type": "code",
      "metadata": {
        "id": "IavCNH4AC23l"
      },
      "source": [
        "import numpy as np\n",
        "a = np.array([1.])\n",
        "b = np.array([2.])\n",
        "c  = a @ b\n",
        "print('a',a)\n",
        "print('b',b)\n",
        "print('c=a@b',c)"
      ],
      "execution_count": null,
      "outputs": []
    },
    {
      "cell_type": "markdown",
      "metadata": {
        "id": "Uvsbbv2XZ2Hd"
      },
      "source": [
        "# Testers"
      ]
    },
    {
      "cell_type": "code",
      "metadata": {
        "id": "OsOqvQk6ZXZV"
      },
      "source": [
        "# a basic ext_kf test\n",
        "import numpy as np\n",
        "u = [1,\n",
        "     2]\n",
        "P = [[2 , -1],\n",
        "    [-1 , 2]]\n",
        "A = [ [1 ,2],\n",
        "      [3 ,4]]\n",
        "u = np.array(u)      \n",
        "Q = np.array([[1,0],[0,1]])\n",
        "A = np.array(A)\n",
        "def fun(u):\n",
        "  return A @ u, A\n",
        "F = lambda u: fun(u)\n",
        "H = [[1, 0],\n",
        "     [0, 1]]\n",
        "d = [2,\n",
        "    3]\n",
        "R = [[2, 0],\n",
        "    [0, 2]]\n",
        "H = np.array(H)      \n",
        "d = np.array(d)\n",
        "R = np.array(R)\n",
        "ua,Pa = ext_kf(u,P,F,Q)\n",
        "print('ua=',ua)\n",
        "print('Pa=',Pa)\n",
        "ua,Pa = ext_kf(u,P,F,Q,d,H,R)\n",
        "print('ua=',ua)\n",
        "print('Pa=',Pa)\n"
      ],
      "execution_count": null,
      "outputs": []
    }
  ]
}
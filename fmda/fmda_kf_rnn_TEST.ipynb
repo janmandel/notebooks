{
 "cells": [
  {
   "cell_type": "markdown",
   "id": "2df12521-bde5-45bd-bd4b-4308982bda85",
   "metadata": {},
   "source": [
    "# Kalman Filtering and Recurrent Neural Networks for Fuel Moisture"
   ]
  },
  {
   "cell_type": "code",
   "execution_count": null,
   "id": "b5e167a4-394b-4da1-a007-a4ddb6947d51",
   "metadata": {},
   "outputs": [],
   "source": [
    "# Environment\n",
    "import numpy as np\n",
    "import pandas as pd\n",
    "from MesoPy import Meso\n",
    "import matplotlib.pyplot as plt\n",
    "from datetime import datetime, timedelta, time\n",
    "import pytz\n",
    "# Local modules for handling data and running moisture models\n",
    "import data_funcs as datf\n",
    "import moisture_models as mod\n",
    "\n",
    "meso_token=\"4192c18707b848299783d59a9317c6e1\"\n",
    "m=Meso(meso_token)"
   ]
  },
  {
   "cell_type": "markdown",
   "id": "0d5ad773-560c-4c6b-81cc-2aea20ac9544",
   "metadata": {},
   "source": [
    "### RAWS Data"
   ]
  },
  {
   "cell_type": "code",
   "execution_count": null,
   "id": "e5d62511-2332-4a2e-900d-4baf40db04ff",
   "metadata": {},
   "outputs": [],
   "source": [
    "vars='air_temp,relative_humidity,precip_accum,fuel_moisture'\n",
    "time_start = \"201806010800\"  # June 1 2018 08:00 in format yyyymmddHHMM\n",
    "time_end   = \"201907200900\"  # June 20 2018 09:00 in format yyyymmddHHMM \n",
    "\n",
    "meso_ts = m.timeseries(time_start, time_end, \n",
    "                       stid=\"BKCU1\", vars=vars)\n",
    "station = meso_ts['STATION'][0]"
   ]
  },
  {
   "cell_type": "code",
   "execution_count": null,
   "id": "18eff59e-ac59-4ce1-baa6-95ad69adc48a",
   "metadata": {},
   "outputs": [],
   "source": [
    "raws_dat = datf.format_raws(station)"
   ]
  },
  {
   "cell_type": "code",
   "execution_count": null,
   "id": "80e307d5-1bb1-4801-a93b-204446db1fee",
   "metadata": {},
   "outputs": [],
   "source": [
    "%matplotlib inline\n",
    "plt.figure(figsize=(16,4))\n",
    "plt.plot(raws_dat['fm'],linestyle='-',c='k',label='10-h fuel data')\n",
    "plt.title(station['STID'] + ' 10 h fuel moisture data')\n",
    "plt.xlabel('Time (hours)') \n",
    "plt.ylabel('Fuel moisture content (%)')\n",
    "plt.legend()"
   ]
  },
  {
   "cell_type": "markdown",
   "id": "2551cae2-0110-4531-afea-0d336ddaeb02",
   "metadata": {},
   "source": [
    "### RTMA Data"
   ]
  },
  {
   "cell_type": "code",
   "execution_count": null,
   "id": "e9d3e1ef-8177-474d-ba0b-48f79eb97d47",
   "metadata": {},
   "outputs": [],
   "source": [
    "import subprocess,os\n",
    "def load_rtma(path,file,reload=0):\n",
    "    url='http://math.ucdenver.edu/~jmandel/rtma/' + path \n",
    "    if os.path.exists(file):\n",
    "      if reload:\n",
    "        print(file + ' already exists, removing')\n",
    "        os.remove(file)\n",
    "      else:\n",
    "        print(file + ' already exists, exiting')\n",
    "        # add checking size here\n",
    "        return 0\n",
    "    try:\n",
    "      ret = subprocess.check_output(['wget','--no-clobber','--output-document='+ file, url,],stderr=subprocess.STDOUT).decode() # execute command from python strings\n",
    "      if os.path.exists(file):\n",
    "        print('loaded ' + url + ' as ' + file)\n",
    "        return 0\n",
    "      else: \n",
    "        print('file transfer completed, but the file is missing? ' + url)  \n",
    "      return 1\n",
    "    except:\n",
    "      print('file transfer failed: ' + url)\n",
    "      return 2"
   ]
  },
  {
   "cell_type": "code",
   "execution_count": null,
   "id": "6de9878c-0d3f-4829-a90b-dbb52aa17f74",
   "metadata": {},
   "outputs": [],
   "source": [
    "def rtma_grib(t,var):\n",
    "    tpath = '%4i%02i%02i/%02i' % (t.year, t.month, t.day, t.hour)  # remote path on server\n",
    "    tstr  = '%4i%02i%02i%02i_' % (t.year, t.month, t.day, t.hour)  # time string for local path\n",
    "    gribfile = os.path.join('data',tstr + var + '.grib')\n",
    "    remote = tpath + '/' + var + '.grib'\n",
    "    if load_rtma(remote,gribfile):\n",
    "        print('cannot load remote file',remote,'as',gribfile)\n",
    "        return []\n",
    "    else:\n",
    "        try:\n",
    "            gf=GribFile(gribfile)\n",
    "            v = np.array(gf[1].values())\n",
    "        except:\n",
    "            print('cannot read grib file',gribfile)\n",
    "            return []\n",
    "        print('loaded ',gribfile,' containing array shape ',v.shape)\n",
    "        return gf[1]   # grib message\n"
   ]
  },
  {
   "cell_type": "code",
   "execution_count": null,
   "id": "1ea21298-7411-461c-86b2-6f0ec0056f80",
   "metadata": {},
   "outputs": [],
   "source": [
    "times = pd.date_range(start=time_start,end=time_end,freq='1H')\n",
    "varnames=['temp','td','precipa']\n",
    "j =    read_interp_rtma(varnames,times,obs_lat,obs_lon)      # temperature\n",
    "for varname in varnames:\n",
    "    j[varname]=j[varname].tolist() \n",
    "j['obs_lat']=obs_lat\n",
    "j['obs_lon']=obs_lon\n",
    "json.dump(j,open('rtma.json','w'),indent=4)\n",
    "print('done')"
   ]
  },
  {
   "cell_type": "code",
   "execution_count": null,
   "id": "7c8ddf6b-155e-4d3d-98b1-48b55a9fb4ef",
   "metadata": {},
   "outputs": [],
   "source": []
  }
 ],
 "metadata": {
  "kernelspec": {
   "display_name": "Python 3 (ipykernel)",
   "language": "python",
   "name": "python3"
  },
  "language_info": {
   "codemirror_mode": {
    "name": "ipython",
    "version": 3
   },
   "file_extension": ".py",
   "mimetype": "text/x-python",
   "name": "python",
   "nbconvert_exporter": "python",
   "pygments_lexer": "ipython3",
   "version": "3.9.12"
  }
 },
 "nbformat": 4,
 "nbformat_minor": 5
}

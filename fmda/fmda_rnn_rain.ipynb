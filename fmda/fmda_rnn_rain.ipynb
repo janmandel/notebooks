{
 "cells": [
  {
   "cell_type": "code",
   "execution_count": null,
   "id": "c7291842-a72d-4c4e-9312-6c0c31df18e0",
   "metadata": {},
   "outputs": [],
   "source": [
    "# Environment\n",
    "import numpy as np\n",
    "import pandas as pd\n",
    "from MesoPy import Meso\n",
    "import matplotlib.pyplot as plt\n",
    "from datetime import datetime, timedelta, time\n",
    "import pytz\n",
    "# Local modules for handling data and running moisture models\n",
    "import data_funcs as datf\n",
    "from data_funcs import format_precip, fixnan\n",
    "import moisture_models as mod\n",
    "\n",
    "meso_token=\"4192c18707b848299783d59a9317c6e1\"\n",
    "m=Meso(meso_token)"
   ]
  },
  {
   "cell_type": "markdown",
   "id": "8320fb68-771e-4441-8849-e5bdec432bd1",
   "metadata": {},
   "source": [
    "## Retrieve RAWS Function"
   ]
  },
  {
   "cell_type": "code",
   "execution_count": null,
   "id": "4760ae44-d063-4543-b751-631a62bc9c88",
   "metadata": {},
   "outputs": [],
   "source": [
    "raws_vars='air_temp,relative_humidity,precip_accum,fuel_moisture'\n",
    "time_start = \"201806010800\"  # June 1 2018 08:00 in format yyyymmddHHMM\n",
    "time_end   = \"201907200900\"  # June 20 2018 09:00 in format yyyymmddHHMM "
   ]
  },
  {
   "cell_type": "code",
   "execution_count": null,
   "id": "23241817-80d7-49b5-88c4-9803441bdaa1",
   "metadata": {},
   "outputs": [],
   "source": [
    "def format_raws(stn, fix_names = True):\n",
    "    raws_dat = stn['OBSERVATIONS']\n",
    "    \n",
    "    # Convert to Numpy arrays, check data type for floats\n",
    "    for key in [*stn['OBSERVATIONS'].keys()]:\n",
    "        if type(stn['OBSERVATIONS'][key][0]) is float:\n",
    "            raws_dat[key] = np.array(stn['OBSERVATIONS'][key], dtype = 'float64')\n",
    "        else:\n",
    "            raws_dat[key] = np.array(stn['OBSERVATIONS'][key])\n",
    "    \n",
    "    # Transform Data\n",
    "    raws_dat['air_temp_set_1'] = raws_dat['air_temp_set_1'] + 273.15 ## convert C to K\n",
    "    if 'precip_accum_set_1' in raws_dat.keys():\n",
    "        raws_dat['precip_accum_set_1'] = format_precip(raws_dat['precip_accum_set_1']) ## format precip data, accumulated to hourly\n",
    "    \n",
    "    \n",
    "    # Calculate Equilibrium Temps\n",
    "    raws_dat['Ed'] = 0.924*raws_dat['relative_humidity_set_1']**0.679 + 0.000499*np.exp(0.1*raws_dat['relative_humidity_set_1']) + 0.18*(21.1 + 273.15 - raws_dat['air_temp_set_1'])*(1 - np.exp(-0.115*raws_dat['relative_humidity_set_1']))\n",
    "    raws_dat['Ew'] = 0.618*raws_dat['relative_humidity_set_1']**0.753 + 0.000454*np.exp(0.1*raws_dat['relative_humidity_set_1']) + 0.18*(21.1 + 273.15 - raws_dat['air_temp_set_1'])*(1 - np.exp(-0.115*raws_dat['relative_humidity_set_1']))\n",
    "    \n",
    "    # Fix nan values\n",
    "    for key in [*raws_dat.keys()]:\n",
    "        if type(raws_dat[key][0]) is float:\n",
    "            raws_dat[key] = fixnan(raws_dat[key], 2)\n",
    "    \n",
    "    return raws_dat"
   ]
  },
  {
   "cell_type": "code",
   "execution_count": null,
   "id": "fc2329fe-a45d-424a-a3d8-9bd1929798ed",
   "metadata": {},
   "outputs": [],
   "source": [
    "def retrieve_raws(stid, raws_vars, time1, time2):\n",
    "    meso_ts = m.timeseries(time1, time2, \n",
    "                       stid=stid, vars=raws_vars)\n",
    "    station = meso_ts['STATION'][0]\n",
    "    \n",
    "    raws_dat = format_raws(station)\n",
    "    \n",
    "    return station, raws_dat"
   ]
  },
  {
   "cell_type": "code",
   "execution_count": null,
   "id": "6dae1750-0656-4369-a114-2ccaa885ff55",
   "metadata": {},
   "outputs": [],
   "source": [
    "raws_vars='air_temp,relative_humidity,precip_accum,fuel_moisture'\n",
    "time_start = \"201806010800\"  # June 1 2018 08:00 in format yyyymmddHHMM\n",
    "time_end   = \"201907200900\"  # June 20 2018 09:00 in format yyyymmddHHMM "
   ]
  },
  {
   "cell_type": "code",
   "execution_count": null,
   "id": "a5d8616e-3f4d-4f56-8e52-f065e8d3d5ae",
   "metadata": {},
   "outputs": [],
   "source": [
    "station, raws_dat = retrieve_raws(\"CPTC2\", raws_vars, time_start, time_end)"
   ]
  },
  {
   "cell_type": "code",
   "execution_count": null,
   "id": "0d751525-58c9-4668-9755-f1aaeb34aa40",
   "metadata": {},
   "outputs": [],
   "source": [
    "def plot_dat(stn, dat, val):\n",
    "    plt.figure(figsize=(16,4))\n",
    "    plt.plot(dat[val],linestyle='-',c='k')\n",
    "    plt.title(stn['STID']+' '+ val)\n",
    "    plt.xlabel('Time (hours)') \n",
    "    plt.ylabel('val')"
   ]
  },
  {
   "cell_type": "code",
   "execution_count": null,
   "id": "013a6794-9c56-4a32-8699-15763465544f",
   "metadata": {},
   "outputs": [],
   "source": [
    "%matplotlib inline\n",
    "plot_dat(station, raws_dat, 'fuel_moisture_set_1')"
   ]
  },
  {
   "cell_type": "markdown",
   "id": "b45fcc1f-8394-418f-89ab-0cfbaa04d65f",
   "metadata": {},
   "source": [
    "## Retrieve RTMA Function"
   ]
  },
  {
   "cell_type": "code",
   "execution_count": null,
   "id": "6633650e-7391-44ee-a5f4-6b18579c3884",
   "metadata": {},
   "outputs": [],
   "source": []
  },
  {
   "cell_type": "markdown",
   "id": "f41a26c2-4a85-4c7e-b818-a1a2906dfb25",
   "metadata": {},
   "source": [
    "## Fit RNN Model"
   ]
  },
  {
   "cell_type": "code",
   "execution_count": null,
   "id": "685893df-d47e-4b0a-be51-c357733a2bd0",
   "metadata": {},
   "outputs": [],
   "source": [
    "import tensorflow as tf\n",
    "from keras.models import Sequential\n",
    "from keras.layers import Dense, SimpleRNN\n",
    "from keras.utils.vis_utils import plot_model\n",
    "from sklearn.preprocessing import MinMaxScaler\n",
    "from sklearn.metrics import mean_squared_error\n",
    "import math\n",
    "import matplotlib.pyplot as plt\n",
    "import tensorflow as tf\n",
    "import keras.backend as K\n",
    "from keras.utils.vis_utils import plot_model\n",
    "from scipy.interpolate import LinearNDInterpolator, interpn\n",
    "from scipy.optimize import root\n",
    "\n",
    "## Local Modules\n",
    "from moisture_models import create_RNN, create_RNN_2, staircase, seq2batches"
   ]
  },
  {
   "cell_type": "code",
   "execution_count": null,
   "id": "78ce8ff8-77ad-4c8c-be21-9d28c2c8c9e6",
   "metadata": {},
   "outputs": [],
   "source": [
    "def RELU(x):\n",
    "    if x>0. :\n",
    "        return x\n",
    "    else:\n",
    "        return 0.\n",
    "\n",
    "# network computing z = a*x1 + b*x2 with offset c\n",
    "def linrelu(x,a,b,c):\n",
    "    y = np.dot(np.array([[a, b], [-a, -b] ]), x) + np.array([c, -c])\n",
    "    y[0]=RELU(y[0])\n",
    "    y[1]=RELU(y[1])\n",
    "    return(np.dot([1,-1],y))-c"
   ]
  },
  {
   "cell_type": "code",
   "execution_count": null,
   "id": "01143521-8222-4e69-9cde-7dc7c7c780e0",
   "metadata": {},
   "outputs": [],
   "source": [
    "# Set seed for reproducibility\n",
    "tf.random.set_seed(123)"
   ]
  },
  {
   "cell_type": "code",
   "execution_count": null,
   "id": "0dd8fe1e-7167-4116-b96b-b29453b5c3ad",
   "metadata": {},
   "outputs": [],
   "source": [
    "# Define Data for Model\n",
    "Ew = raws_dat['Ew']\n",
    "Ed = raws_dat['Ew']\n",
    "rain = raws_dat['precip_accum_set_1']\n",
    "fm = raws_dat['fuel_moisture_set_1']\n",
    "temp = raws_dat['air_temp_set_1']\n",
    "h2 = 300\n",
    "\n",
    "# Average Equilibrium\n",
    "E = (Ed + Ew)/2\n",
    "first_rain=np.nonzero(rain>0)[0][0]\n",
    "print(first_rain)\n",
    "hours=first_rain\n",
    "E=E[:hours]\n",
    "data=fm[:hours]\n",
    "\n",
    "# transform as 2D, (timesteps, features) and (timesteps, outputs)\n",
    "Et = np.reshape(E,[E.shape[0],1])\n",
    "datat = np.reshape(data,[data.shape[0],1])\n",
    "\n",
    "# Scale Data if required\n",
    "scale=False\n",
    "if scale:\n",
    "    scalerx = MinMaxScaler()\n",
    "    scalerx.fit(Et)\n",
    "    Et = scalerx.transform(Et)\n",
    "    scalery = MinMaxScaler()\n",
    "    scalery.fit(datat)\n",
    "    datat = scalery.transform(datat)"
   ]
  },
  {
   "cell_type": "code",
   "execution_count": null,
   "id": "e6ff8c01-de71-4dbe-937f-4b3312a60325",
   "metadata": {},
   "outputs": [],
   "source": [
    "# split data\n",
    "return_sequences=False\n",
    "x_train, y_train = staircase(Et,datat,timesteps=5,trainsteps=h2,\n",
    "                             return_sequences=return_sequences)\n",
    "print('x_train shape=',x_train.shape)\n",
    "samples, timesteps, features = x_train.shape\n",
    "print('y_train shape=',y_train.shape)\n",
    "# the simplest model possible\n",
    "activation=['linear','linear']\n",
    "hidden_units=3\n",
    "dense_units=1\n",
    "dense_layers=1\n",
    "features=1\n",
    "hours=Et.shape[0]\n",
    "h0 = tf.convert_to_tensor(datat[:samples],dtype=tf.float32)\n",
    "shift = 0.\n",
    "\n",
    "# statefull model version for traning\n",
    "model_fit=create_RNN_2(hidden_units=hidden_units, \n",
    "                        dense_units=dense_units, \n",
    "                        batch_shape=(samples,timesteps,features),\n",
    "                        stateful=True,\n",
    "                        return_sequences=return_sequences,\n",
    "                        # initial_state=h0,\n",
    "                        activation=activation,\n",
    "                        dense_layers=dense_layers)"
   ]
  },
  {
   "cell_type": "code",
   "execution_count": null,
   "id": "e8c7b8bd-f07a-40b0-9740-38d4c9796cd6",
   "metadata": {},
   "outputs": [],
   "source": [
    "model_predict=create_RNN_2(hidden_units=hidden_units, dense_units=dense_units,  \n",
    "                        input_shape=(hours,features),stateful = False,\n",
    "                        return_sequences=True,\n",
    "                        activation=activation,dense_layers=dense_layers)\n",
    "# model_predict=create_RNN_sequences(hidden_units=1, dense_units=1, input_shape=(hours,1), \n",
    "#                        activation=['linear', 'linear'])\n",
    "print('model_predict input shape',Et.shape,'output shape',model_predict(Et).shape)\n",
    "print(model_predict.summary())"
   ]
  },
  {
   "cell_type": "code",
   "execution_count": null,
   "id": "bca6510c-097c-418b-a947-8e2b59b5b27a",
   "metadata": {},
   "outputs": [],
   "source": [
    "# fitting\n",
    "DeltaE = 0\n",
    "w_exact=  [np.array([[1.-np.exp(-0.1)]]), np.array([[np.exp(-0.1)]]), np.array([0.]),np.array([[1.0]]),np.array([-1.*DeltaE])]\n",
    "w_initial=[np.array([[1.-np.exp(-0.1)]]), np.array([[np.exp(-0.1)]]), np.array([0.]),np.array([[1.0]]),np.array([-1.0])]\n",
    "w=model_fit.get_weights()\n",
    "for i in range(len(w)):\n",
    "  print('weight',i,'shape',w[i].shape,'ndim',w[i].ndim,'given',w_initial[i].shape)\n",
    "  for j in range(w[i].shape[0]):\n",
    "    if w[i].ndim==2:\n",
    "      for k in range(w[i].shape[1]):\n",
    "        w[i][j][k]=w_initial[i][0][0]/w[i].shape[0]\n",
    "    else:\n",
    "      w[i][j]=w_initial[i][0]\n",
    "model_fit.set_weights(w)\n",
    "model_fit.fit(x_train, y_train, epochs=5000, verbose=0,batch_size=samples)\n",
    "w_fitted=model_fit.get_weights()\n",
    "for i in range(len(w)):\n",
    "  print('weight',i,' exact:',w_exact[i],':  initial:',w_initial[i],' fitted:',w_fitted[i])"
   ]
  },
  {
   "cell_type": "code",
   "execution_count": null,
   "id": "6ccc15fc-5d08-4df1-a4d5-4f0107171c15",
   "metadata": {},
   "outputs": [],
   "source": [
    "model_predict.set_weights(w_fitted)\n",
    "x_input=np.reshape(Et,(1, hours, 1))\n",
    "y_output = model_predict.predict(x_input)\n",
    "print('x_input.shape=',x_input.shape,'y_output.shape=',y_output.shape)\n",
    "print(shift)\n",
    "m = np.reshape(y_output,hours)\n",
    "print('weights=',w)\n",
    "if scale:\n",
    "    print('scaling')\n",
    "    m = scalery.inverse_transform(m)\n",
    "m = np.reshape(m,hours)\n",
    "hour=np.array(range(hours))\n",
    "title=\"First RNN forecast\"\n",
    "plt.figure(figsize=(16,4))\n",
    "plt.plot(hour,E,linestyle='--',c='r',label='E=Equilibrium data')\n",
    "# print(len(hour),len(m_f))\n",
    "plt.scatter(hour,data,c='b',label='data=10-h fuel data')\n",
    "if m is not None:\n",
    "    plt.plot(hour[:h2],m[:h2],linestyle='-',c='k',label='m=filtered')\n",
    "    plt.plot(hour[h2:hours],m[h2:hours],linestyle='-',c='r',label='m=forecast')\n",
    "plt.title(title) \n",
    "plt.legend()"
   ]
  },
  {
   "cell_type": "code",
   "execution_count": null,
   "id": "5c72a37b-7355-44da-9968-4110203c0a9e",
   "metadata": {},
   "outputs": [],
   "source": [
    "hours"
   ]
  },
  {
   "cell_type": "code",
   "execution_count": null,
   "id": "1d06f6ee-2c05-4473-956c-ba490cf773d2",
   "metadata": {},
   "outputs": [],
   "source": []
  }
 ],
 "metadata": {
  "kernelspec": {
   "display_name": "Python 3 (ipykernel)",
   "language": "python",
   "name": "python3"
  },
  "language_info": {
   "codemirror_mode": {
    "name": "ipython",
    "version": 3
   },
   "file_extension": ".py",
   "mimetype": "text/x-python",
   "name": "python",
   "nbconvert_exporter": "python",
   "pygments_lexer": "ipython3",
   "version": "3.9.12"
  }
 },
 "nbformat": 4,
 "nbformat_minor": 5
}

{
  "nbformat": 4,
  "nbformat_minor": 0,
  "metadata": {
    "colab": {
      "name": "fmda_kf.ipynb",
      "provenance": [],
      "collapsed_sections": [
        "jivOYEhiXMi5"
      ]
    },
    "kernelspec": {
      "display_name": "Python 3",
      "language": "python",
      "name": "python3"
    },
    "language_info": {
      "codemirror_mode": {
        "name": "ipython",
        "version": 3
      },
      "file_extension": ".py",
      "mimetype": "text/x-python",
      "name": "python",
      "nbconvert_exporter": "python",
      "pygments_lexer": "ipython3",
      "version": "3.8.5"
    }
  },
  "cells": [
    {
      "cell_type": "markdown",
      "metadata": {
        "id": "khOTxJsYc91W"
      },
      "source": [
        "# Kalman Filtering for Fuel Moisture\n",
        "## Jan Mandel, University of Colorado Denver\n",
        "### Instructor for MATH 4779 - Math Clinic\n",
        "### December 2021"
      ]
    },
    {
      "cell_type": "markdown",
      "metadata": {
        "id": "sXaqfI-EdCEk"
      },
      "source": [
        "## Abstract"
      ]
    },
    {
      "cell_type": "markdown",
      "metadata": {
        "id": "ZbtSiYm4dF7B"
      },
      "source": [
        "''Fuel moisture is an important factor of the spread of wildland fires. Some weather stations have fuel moisture sensors and data are available online. We review a simple model of fuel moisture from atmospheric conditions, and show how to adjust the model using the weather station data."
      ]
    },
    {
      "cell_type": "markdown",
      "metadata": {
        "id": "eZ6dfHlZ63j1"
      },
      "source": [
        "## Table of contents"
      ]
    },
    {
      "cell_type": "markdown",
      "metadata": {
        "id": "WHIgN2uZ689b"
      },
      "source": [
        "A table of contents is not generated automatically in this medium. We'll write when we are done, after we know what the sections are."
      ]
    },
    {
      "cell_type": "markdown",
      "metadata": {
        "id": "ZFafUPCTO1N1"
      },
      "source": [
        "## 1. Introduction"
      ]
    },
    {
      "cell_type": "markdown",
      "metadata": {
        "id": "4_RcdWybPFks"
      },
      "source": [
        "The Kalman filter is at the foundation of many technologies in daily use, from GPS to weather forecasting. No model is completely accurate. Think space navigation: the movement of a Apollo 13 between the moon and the earth, subject to gravitational forces and propulsion, with the position ascertained by visual measurements. No matter how accurate the model of spacecraft motion is, the measurements are always burdened with noise. The idea of Kalman filter is to evolve a quantification of the of the state (here, positin and velocity of the spacecraft) in the form of a covariance matrix, and, using an estimate of the uncertainty of the data, adjust the state to split the difference every time measurements are taken. \n",
        "\n",
        "Here, we use the Kalman filter to estimate the evolution of fuel (dead wood) moisture content from a simple theoretical model, adjusting the state of the model hourly for measurements from fuel moisture a sensor in a wood stick exposed to the elements. This is needed for forecasting of wildfire progress; for this purpose, we also want to have the filter adjust the model from the data, so that it gives more accurate data for future when we only have hourly weather forecast but no actual data - because the future has not happened yet. "
      ]
    },
    {
      "cell_type": "markdown",
      "metadata": {
        "id": "M2kbwDPBTB7A"
      },
      "source": [
        "## 2. Background"
      ]
    },
    {
      "cell_type": "markdown",
      "metadata": {
        "id": "ar1BbXac49hO"
      },
      "source": [
        "In this section, we provide some technical details about the Kalman filter."
      ]
    },
    {
      "cell_type": "markdown",
      "metadata": {
        "id": "_5F5CuRqc91X"
      },
      "source": [
        "### 2.1 Imports"
      ]
    },
    {
      "cell_type": "markdown",
      "metadata": {
        "id": "K6sWUMf0c91Y"
      },
      "source": [
        "First we import some packages we will need. We will need to use upgrade numpy to the current version; google colab is using an older numpy version for compatibility with tensorflow."
      ]
    },
    {
      "cell_type": "code",
      "metadata": {
        "id": "WzwJ619dAlA5",
        "colab": {
          "base_uri": "https://localhost:8080/"
        },
        "outputId": "f8bcdc7f-c1be-45bd-f450-6085c0ac5676"
      },
      "source": [
        "import numpy as np, os\n",
        "if not [int(i) for i in np.__version__.split('.')] >= [1,20,1]: # check numpy version\n",
        "    print('Upgrading numpy and stopping RUNTIME! When the notebook completes, please run again.')\n",
        "    ! pip install --upgrade numpy    # suggested by Efosa, see also https://github.com/jswhit/pygrib/issues/192\n",
        "    os.kill(os.getpid(), 9)          # kill the runtime, need to run again from the beginning! pip install pygrib\n",
        "! pip install pygrib   \n",
        "! wget --no-clobber https://raw.githubusercontent.com/openwfm/wrfxpy/master/src/ingest/grib_file.py\n",
        "from grib_file import GribFile     # Martin's utility layer on top of  pygrib,from wrfxpy"
      ],
      "execution_count": 6,
      "outputs": [
        {
          "output_type": "stream",
          "name": "stdout",
          "text": [
            "Collecting pygrib\n",
            "  Downloading pygrib-2.1.4-cp37-cp37m-manylinux_2_17_x86_64.manylinux2014_x86_64.whl (16.5 MB)\n",
            "\u001b[K     |████████████████████████████████| 16.5 MB 5.5 MB/s \n",
            "\u001b[?25hCollecting pyproj\n",
            "  Downloading pyproj-3.2.1-cp37-cp37m-manylinux2010_x86_64.whl (6.3 MB)\n",
            "\u001b[K     |████████████████████████████████| 6.3 MB 29.8 MB/s \n",
            "\u001b[?25hRequirement already satisfied: numpy in /usr/local/lib/python3.7/dist-packages (from pygrib) (1.21.4)\n",
            "Requirement already satisfied: certifi in /usr/local/lib/python3.7/dist-packages (from pyproj->pygrib) (2021.10.8)\n",
            "Installing collected packages: pyproj, pygrib\n",
            "Successfully installed pygrib-2.1.4 pyproj-3.2.1\n",
            "--2021-12-03 06:04:31--  https://raw.githubusercontent.com/openwfm/wrfxpy/master/src/ingest/grib_file.py\n",
            "Resolving raw.githubusercontent.com (raw.githubusercontent.com)... 185.199.108.133, 185.199.109.133, 185.199.110.133, ...\n",
            "Connecting to raw.githubusercontent.com (raw.githubusercontent.com)|185.199.108.133|:443... connected.\n",
            "HTTP request sent, awaiting response... 200 OK\n",
            "Length: 6208 (6.1K) [text/plain]\n",
            "Saving to: ‘grib_file.py’\n",
            "\n",
            "grib_file.py        100%[===================>]   6.06K  --.-KB/s    in 0s      \n",
            "\n",
            "2021-12-03 06:04:31 (62.2 MB/s) - ‘grib_file.py’ saved [6208/6208]\n",
            "\n"
          ]
        }
      ]
    },
    {
      "cell_type": "markdown",
      "metadata": {
        "id": "X9rvlymMZdJg"
      },
      "source": [
        "### 2.2 Kalman filter"
      ]
    },
    {
      "cell_type": "markdown",
      "metadata": {
        "id": "x5E2UE3F5gf2"
      },
      "source": [
        "#### 2.2.1 Overview"
      ]
    },
    {
      "cell_type": "markdown",
      "metadata": {
        "id": "NPgTHlCLAlA-"
      },
      "source": [
        "The Kalman filter provides an estimate $u$ of the time evolution of some unknown process, called \"nature\" or \"truth\". We do not know with certainty what the nature is, but we can observe it at regular intervals (steps) with some error. In each step, model $F$ advances the model state $u$ in time, $ u \\leftarrow F(u)$, and attempts to reconcile the state with an observation $d$ of the true state, so $u \\approx d$. The filter modifies the model state $u$ to balance the uncertainty in the model and the data (this is called *analysis*) and the cycle continues. For that purpose, the filter evolves also an estimate of the uncertainly of the model.\n",
        "\n",
        "More generally, instead of $u \\approx d$, only a part of the state is observed, and $Hu \\approx d$ where $H$ is a matrix, or observation function. Basically, $Hu$ is what the data would be if the model was completely accurate. \n",
        "\n",
        "See Kalman (1960) for the original publication, and Kalnay (2003) for a gentle introduction."
      ]
    },
    {
      "cell_type": "markdown",
      "metadata": {
        "id": "y6j34L5s5pEL"
      },
      "source": [
        "#### 2.2.2 Formulation\n",
        "\n",
        "---\n",
        "\n"
      ]
    },
    {
      "cell_type": "markdown",
      "metadata": {
        "id": "b3GZW5vP5_o8"
      },
      "source": [
        "Text with the math is coming soon."
      ]
    },
    {
      "cell_type": "code",
      "metadata": {
        "id": "-bvUtJ_OLwQA"
      },
      "source": [
        "import numpy as np\n",
        "def ext_kf(u,P,F,Q=0,d=None,H=None,R=None):\n",
        "  \"\"\"\n",
        "  One step of the extended Kalman filter. \n",
        "  If there is no data, only advance in time.\n",
        "  :param u:   the state vector, shape n\n",
        "  :param P:   the state covariance, shape (n,n)\n",
        "  :param F:   the model function, args vector u, returns F(u) and Jacobian J(u)\n",
        "  :param Q:   the process model noise covariance, shape (n,n)\n",
        "  :param d:   data vector, shape (m). If none, only advance in time\n",
        "  :param H:   observation matrix, shape (m,n)\n",
        "  :param R:   data error covariance, shape (n,n)\n",
        "  :return ua: the analysis state vector, shape (n)\n",
        "  :return Pa: the analysis covariance matrix, shape (n,n)\n",
        "  \"\"\"\n",
        "  def d2(a):\n",
        "    return np.atleast_2d(a) # convert to at least 2d array\n",
        "\n",
        "  def d1(a):\n",
        "    return np.atleast_1d(a) # convert to at least 1d array\n",
        "\n",
        "  # forecast\n",
        "  uf, J  = F(u)          # advance the model state in time and get the Jacobian\n",
        "  uf = d1(uf)            # if scalar, make state a 1D array\n",
        "  J = d2(J)              # if scalar, make jacobian a 2D array\n",
        "  P = d2(P)              # if scalar, make Jacobian as 2D array\n",
        "  Pf  = d2(J.T @ P) @ J + Q  # advance the state covariance Pf = J' * P * J + Q\n",
        "  # analysis\n",
        "  if d is None or not d.size :  # no data, no analysis\n",
        "    return uf, Pf\n",
        "  # K = P H' * inverse(H * P * H' + R) = (inverse(H * P * H' + R)*(H P))'\n",
        "  H = d2(H)\n",
        "  HP  = d2(H @ P)            # precompute a part used twice  \n",
        "  K   = d2(np.linalg.solve( d2(HP @ H.T) + R, HP)).T  # Kalman gain\n",
        "  # print('H',H)\n",
        "  # print('K',K)\n",
        "  res = d1(H @ d1(uf) - d)          # res = H*uf - d\n",
        "  ua = uf - K @ res # analysis mean uf - K*res\n",
        "  Pa = Pf - K @ d2(H @ P)        # analysis covariance\n",
        "  return ua, d2(Pa)\n"
      ],
      "execution_count": 9,
      "outputs": []
    },
    {
      "cell_type": "markdown",
      "metadata": {
        "id": "Uvsbbv2XZ2Hd"
      },
      "source": [
        "#### 2.2.3 A Kalman filter tester"
      ]
    },
    {
      "cell_type": "markdown",
      "metadata": {
        "id": "gcmGBqPOU1e5"
      },
      "source": [
        "It is a very good idea to make write a simple tester for every piece of code. How else would we know it actually works, and that something basic did not get broken inadvertently, perhaps as a side effect of changing something else? A simple tester may save a great deal of time trying to debug cryptic errors later. And, what better place for a tester that right after the code it is testing so that it gets run every time?"
      ]
    },
    {
      "cell_type": "code",
      "metadata": {
        "id": "OsOqvQk6ZXZV",
        "colab": {
          "base_uri": "https://localhost:8080/"
        },
        "outputId": "1af18dca-62ac-4ed5-fd68-a9ed4146be82"
      },
      "source": [
        "# a basic ext_kf test\n",
        "import numpy as np\n",
        "u = [1,\n",
        "     2]\n",
        "P = [[2 , -1],\n",
        "    [-1 , 2]]\n",
        "A = [ [1 ,2],\n",
        "      [3 ,4]]\n",
        "u = np.array(u)      \n",
        "Q = np.array([[1,0],[0,1]])\n",
        "A = np.array(A)\n",
        "def fun(u):\n",
        "  return A @ u, A\n",
        "F = lambda u: fun(u)\n",
        "H = [[1, 0],\n",
        "     [0, 1]]\n",
        "d = [2,\n",
        "    3]\n",
        "R = [[2, 0],\n",
        "    [0, 2]]\n",
        "H = np.array(H)      \n",
        "d = np.array(d)\n",
        "R = np.array(R)\n",
        "ua,Pa = ext_kf(u,P,F,Q)\n",
        "print('ua=',ua)\n",
        "print('Pa=',Pa)\n",
        "ua,Pa = ext_kf(u,P,F,Q,d,H,R)\n",
        "print('ua=',ua)\n",
        "print('Pa=',Pa)\n"
      ],
      "execution_count": 10,
      "outputs": [
        {
          "output_type": "stream",
          "name": "stdout",
          "text": [
            "ua= [ 5 11]\n",
            "Pa= [[15 18]\n",
            " [18 25]]\n",
            "ua= [4.66666667 7.66666667]\n",
            "Pa= [[13.93333333 18.73333333]\n",
            " [18.73333333 23.93333333]]\n"
          ]
        }
      ]
    },
    {
      "cell_type": "markdown",
      "metadata": {
        "id": "JDLU3B_jV42l"
      },
      "source": [
        "## 3. Methods"
      ]
    },
    {
      "cell_type": "markdown",
      "metadata": {
        "id": "K9pD9grsAJMq"
      },
      "source": [
        "### 3.1  A basic exponential decay model of fuel moisture\n",
        "\n",
        "\n"
      ]
    },
    {
      "cell_type": "markdown",
      "metadata": {
        "id": "EHGMoaVWao89"
      },
      "source": [
        "Consider a simplified fuel moisture model following Mandel et al. (2004). \n",
        "The evolution of fuel moisture content $m(t)$ is modeled by the differential equation on interval $\\left[\n",
        "t_{0},t_{1}\\right]  $,\n",
        "$$\n",
        "\\frac{dm}{dt}=\\frac{E-m(t)}{T},\\quad m(t_{0})=m_{0}.\n",
        "$$\n",
        "where the initial fuel moisture content $m_{0}=m\\left(  t_{0}\\right)  $ is the\n",
        "input, and $m_{1}=m(t_{1})$ is the output. Tnus, $m_1=F(m_0)$. The parameters of the model are the\n",
        "fuel moisture equilibrium $E$, assumed to be constant over the interval $\\left[\n",
        "t_{0},t_{1}\\right]  $, NS the characteristic decay time $T$. \n",
        "\n",
        "We can build the general model later by calling this simple model with different\n",
        "equilibria and time constants (drying, wetting, rain).\n",
        "\n",
        "Since $E$ is constant in time, the solution can be found\n",
        "analytically,\n",
        "$$\n",
        "m\\left(  t\\right)  =E+\\left(  m_{0}-E\\right)  e^{-t/T}%\n",
        "$$\n",
        "For convenience, we use $T_{1}=1/T$ instead of $T$, and the model becomes\n",
        "$$\n",
        "m_{1}=E+\\left(  m_{0}-E\\right)  e^{-\\left(  t_{1}-t_{0}\\right)  T_{1}}%\n",
        "$$\n",
        "In the extended Kalman filter, we will need the partial derivatives of $m_{1}$\n",
        "with respect to the input and the parameters. Compute\n",
        "$$\n",
        "\\frac{dm_{1}}{d_{m0}}=e^{-\\left(  t_{1}-t_{0}\\right)  T_{1}}\n",
        "$$\n",
        "$$\n",
        "\\frac{dm_{1}}{dE}=1-e^{-\\left(  t_{1}-t_{0}\\right)  T_{1}}\n",
        "$$\n",
        "$$\n",
        "\\frac{dm_{1}}{dT_{1}}=-\\left(  m_{0}-E\\right)  \\left(  t_{1}-t_{0}\\right)\n",
        "e^{-\\left(  t_{1}-t_{0}\\right)  T_{1}}\n",
        "$$\n",
        "At the moment, we need only ${dm_{1}}/{dm_{0}}$ but we put in the code all partials for possible use in future.\n"
      ]
    },
    {
      "cell_type": "code",
      "metadata": {
        "id": "eqcs0zEiAn0j"
      },
      "source": [
        "import numpy as np\n",
        "def model_decay(m0,E,partials=0,T1=0.1,tlen=1):  \n",
        "  # Arguments: \n",
        "  #   m0          fuel moisture content at start dimensionless, unit (1)\n",
        "  #   E           fuel moisture eqilibrium (1)\n",
        "  #   partials=0: return m1 = fuel moisture contents after time tlen (1)\n",
        "  #           =1: return m1, dm0/dm0 \n",
        "  #           =2: return m1, dm1/dm0, dm1/dE\n",
        "  #           =3: return m1, dm1/dm0, dm1/dE dm1/dT1   \n",
        "  #   T1          1/T, where T is the time constant approaching the equilibrium\n",
        "  #               default 0.1/hour\n",
        "  #   tlen        the time interval length, default 1 hour\n",
        "\n",
        "  exp_t = np.exp(-tlen*T1)                  # compute this subexpression only once\n",
        "  m1 = E + (m0 - E)*exp_t                   # the solution at end\n",
        "  if partials==0:\n",
        "    return m1\n",
        "  dm1_dm0 = exp_t\n",
        "  if partials==1:\n",
        "    return m1, dm1_dm0          # return value and Jacobian\n",
        "  dm1_dE = 1 - exp_t      \n",
        "  if partials==2:\n",
        "     return m1, dm1_dm0, dm1_dE \n",
        "  dm1_dT1 = -(m0 - E)*tlen*exp_t            # partial derivative dm1 / dT1\n",
        "  if partials==3:\n",
        "    return m1, dm1_dm0, dm1_dE, dm1_dT1       # return value and all partial derivatives wrt m1 and parameters\n",
        "  raise('Bad arg partials')\n",
        "  "
      ],
      "execution_count": 11,
      "outputs": []
    },
    {
      "cell_type": "markdown",
      "metadata": {
        "id": "hLPJT3FcA2a7"
      },
      "source": [
        "### 3.2 Kalman filter demonstration for the simple model"
      ]
    },
    {
      "cell_type": "markdown",
      "metadata": {
        "id": "kIA3X8vluFdd"
      },
      "source": [
        "We demonstrate the Kalman filter for this model on a simple artificial example. The model is solving the differential equation for one hour. The equilibrium $E$ is constant during the hour, but it changes over the day so that it is higher at night and lower during the day, with a 24-hour period.  First, we create the \"truth\" by choosing the equilibrium $E$ and solving the differential aquation every hour, with a small additive noise. The synthetic data is obtained as the values of the \"truth\", with random noise to simulate observation error."
      ]
    },
    {
      "cell_type": "markdown",
      "metadata": {
        "id": "bBv10PTiChhm"
      },
      "source": [
        "#### 3.2.1 Create synthetic data"
      ]
    },
    {
      "cell_type": "code",
      "metadata": {
        "id": "-_pz-wXnCMnP",
        "colab": {
          "base_uri": "https://localhost:8080/",
          "height": 261
        },
        "outputId": "867546dc-45d6-464c-c11d-8a1f5d643b58"
      },
      "source": [
        "import numpy as np, random\n",
        "days = 20       \n",
        "hours = days*24\n",
        "h2 = int(hours/2)\n",
        "hour = range(hours)\n",
        "day = np.array(range(hours))/24.\n",
        "\n",
        "# artificial equilibrium data\n",
        "E = np.power(np.sin(np.pi*day),4) # diurnal curve\n",
        "E = 0.05+0.25*E\n",
        "# FMC free run\n",
        "m_f = np.zeros(hours)\n",
        "m_f[0] = 0.1         # initial FMC\n",
        "for t in range(hours-1):\n",
        "  m_f[t+1] = max(0.,model_decay(m_f[t],E[t])  + random.gauss(0,0.005) )\n",
        "data = m_f + np.random.normal(loc=0,scale=0.02,size=hours)    \n",
        "\n",
        "%matplotlib inline\n",
        "import matplotlib.pyplot as plt \n",
        "# fig1, ax1 = plt.subplots()\n",
        "\n",
        "plt.figure(figsize=(16,4))\n",
        "plt.plot(hour,E,linestyle='--',c='r',label='Equilibrium')\n",
        "plt.plot(hour,m_f,linestyle='-',c='k',label='10-h fuel truth')\n",
        "plt.scatter(hour[:h2],data[:h2],c='b',label='10-h fuel data')\n",
        "plt.title('Kalman filter example on artificial data')\n",
        "plt.xlabel('Time (hours)')\n",
        "plt.ylabel('Fuel moisture content (%)')\n",
        "plt.legend()\n",
        " "
      ],
      "execution_count": 12,
      "outputs": [
        {
          "output_type": "execute_result",
          "data": {
            "text/plain": [
              "<matplotlib.legend.Legend at 0x7f72edaffe90>"
            ]
          },
          "metadata": {},
          "execution_count": 12
        },
        {
          "output_type": "display_data",
          "data": {
            "image/png": "[encoded data removed]",
            "text/plain": [
              "<Figure size 1152x288 with 1 Axes>"
            ]
          },
          "metadata": {
            "needs_background": "light"
          }
        }
      ]
    },
    {
      "cell_type": "code",
      "metadata": {
        "id": "ECsvw2KJ7tAX"
      },
      "source": [
        ""
      ],
      "execution_count": null,
      "outputs": []
    },
    {
      "cell_type": "markdown",
      "metadata": {
        "id": "z-3WLAEpD2yJ"
      },
      "source": [
        "#### 3.2.2 Run Kalman filter"
      ]
    },
    {
      "cell_type": "markdown",
      "metadata": {
        "id": "T4g-RrrYAlBD"
      },
      "source": [
        "We have used the same code for model and for the truth, and run the Kalman filter for 10 days. The graph below shows that the model state was remarkably close to the truth, even if the model is fed only noisy observations. This is because the dynamics of the model and of the truth are the same. After 10 days, we let the model continue without any new data to simulate forecasting the future, and the agreement with the truth was still very good."
      ]
    },
    {
      "cell_type": "code",
      "metadata": {
        "id": "_-CjONZkD18n"
      },
      "source": [
        "import numpy as np\n",
        "import matplotlib.pyplot as plt \n",
        "\n",
        "def kf_example(DeltaE):\n",
        "  h2 = int(hours/2)\n",
        "  m = np.zeros(hours)\n",
        "  m[0]=0.1             # background state  \n",
        "  P = np.zeros(hours)\n",
        "  P[0] = 0.03 # background state variance\n",
        "  Q = np.array([0.02]) # process noise variance\n",
        "  H = np.array([1.])   # all observed\n",
        "  R = np.array([0.02]) # data variance\n",
        "\n",
        "  for t in range(h2):\n",
        "    # use lambda construction to pass additional arguments to the model \n",
        "    m[t+1],P[t+1] = ext_kf(m[t],P[t],lambda u: model_decay(u,E[t]+DeltaE,partials=1),Q,\n",
        "                    d=data[t],H=H,R=R)\n",
        "  for t in range(h2,hours - 1):\n",
        "    m[t+1],P[t+1] = ext_kf(m[t],P[t],lambda u: model_decay(u,E[t]+DeltaE,partials=1))\n",
        "  \n",
        "  %matplotlib inline\n",
        "  plt.figure(figsize=(16,4))\n",
        "  plt.plot(hour,E,linestyle='--',c='r',label='Equilibrium')\n",
        "  # print(len(hour),len(m_f))\n",
        "  plt.plot(hour,m_f,linestyle='-',c='b',label='10-h fuel truth')\n",
        "  plt.scatter(hour[:h2],data[:h2],c='b',label='10-h fuel data')\n",
        "  plt.plot(hour[:h2],m[:h2],linestyle='-',c='k',label='filtered')\n",
        "  plt.plot(hour[h2:hours],m[h2:hours],linestyle='-',c='r',label='forecast')\n",
        "  plt.title('Kalman filtering and forecast on artificial data')\n",
        "  plt.xlabel('Time (hours)') \n",
        "  plt.ylabel('Fuel moisture content (%)')\n",
        "  plt.legend()\n",
        " \n",
        "  return E, P"
      ],
      "execution_count": 13,
      "outputs": []
    },
    {
      "cell_type": "code",
      "metadata": {
        "id": "d0EFhTPZAlBD",
        "scrolled": true,
        "colab": {
          "base_uri": "https://localhost:8080/",
          "height": 244
        },
        "outputId": "574f9925-46e5-46fc-c1e0-c7b6e33a805e"
      },
      "source": [
        "DeltaE = 0.0          # bias\n",
        "E, P = kf_example(DeltaE)"
      ],
      "execution_count": 14,
      "outputs": [
        {
          "output_type": "display_data",
          "data": {
            "image/png": "[encoded data removed]",
            "text/plain": [
              "<Figure size 1152x288 with 1 Axes>"
            ]
          },
          "metadata": {
            "needs_background": "light"
          }
        }
      ]
    },
    {
      "cell_type": "markdown",
      "metadata": {
        "id": "vqyB2Yz3uCsD"
      },
      "source": [
        "We have recovered the fuel moisture from data with random noise - we **filtered** the noise out. "
      ]
    },
    {
      "cell_type": "markdown",
      "metadata": {
        "id": "Dl7pBZ9B3Nox"
      },
      "source": [
        "Let's have a look at the evolution of the filter's estimate of the variance $P$. A common problem with the Kalman filter is when the variance converges to zero over time, then, since the filter trusts the model too much, it ignores the observations. Of course, once we switch to forecasting mode, the variance is not of interest. We could keep evolving the variance to bridge over periods when there are no observations, but not in this simplified version."
      ]
    },
    {
      "cell_type": "code",
      "metadata": {
        "id": "wRJgbmGLc91g",
        "colab": {
          "base_uri": "https://localhost:8080/",
          "height": 232
        },
        "outputId": "03edc378-62be-40b1-f5e6-5eb37a55b853"
      },
      "source": [
        "import matplotlib as plt\n",
        "%matplotlib inline\n",
        "plt.figure(figsize=(16,4))\n",
        "plt.plot(P,linestyle='-',c='b',label='Estimated state variance P')\n",
        "plt.title('Kalman filtering and forecast on artificial data')\n",
        "plt.xlabel('Time (hours)') \n",
        "plt.ylabel('Estimated variance of fuel moisture (%^2)')\n",
        "plt.legend()"
      ],
      "execution_count": 15,
      "outputs": [
        {
          "output_type": "error",
          "ename": "TypeError",
          "evalue": "ignored",
          "traceback": [
            "\u001b[0;31m---------------------------------------------------------------------------\u001b[0m",
            "\u001b[0;31mTypeError\u001b[0m                                 Traceback (most recent call last)",
            "\u001b[0;32m<ipython-input-15-80767a8ea737>\u001b[0m in \u001b[0;36m<module>\u001b[0;34m()\u001b[0m\n\u001b[1;32m      1\u001b[0m \u001b[0;32mimport\u001b[0m \u001b[0mmatplotlib\u001b[0m \u001b[0;32mas\u001b[0m \u001b[0mplt\u001b[0m\u001b[0;34m\u001b[0m\u001b[0;34m\u001b[0m\u001b[0m\n\u001b[1;32m      2\u001b[0m \u001b[0mget_ipython\u001b[0m\u001b[0;34m(\u001b[0m\u001b[0;34m)\u001b[0m\u001b[0;34m.\u001b[0m\u001b[0mmagic\u001b[0m\u001b[0;34m(\u001b[0m\u001b[0;34m'matplotlib inline'\u001b[0m\u001b[0;34m)\u001b[0m\u001b[0;34m\u001b[0m\u001b[0;34m\u001b[0m\u001b[0m\n\u001b[0;32m----> 3\u001b[0;31m \u001b[0mplt\u001b[0m\u001b[0;34m.\u001b[0m\u001b[0mfigure\u001b[0m\u001b[0;34m(\u001b[0m\u001b[0mfigsize\u001b[0m\u001b[0;34m=\u001b[0m\u001b[0;34m(\u001b[0m\u001b[0;36m16\u001b[0m\u001b[0;34m,\u001b[0m\u001b[0;36m4\u001b[0m\u001b[0;34m)\u001b[0m\u001b[0;34m)\u001b[0m\u001b[0;34m\u001b[0m\u001b[0;34m\u001b[0m\u001b[0m\n\u001b[0m\u001b[1;32m      4\u001b[0m \u001b[0mplt\u001b[0m\u001b[0;34m.\u001b[0m\u001b[0mplot\u001b[0m\u001b[0;34m(\u001b[0m\u001b[0mP\u001b[0m\u001b[0;34m,\u001b[0m\u001b[0mlinestyle\u001b[0m\u001b[0;34m=\u001b[0m\u001b[0;34m'-'\u001b[0m\u001b[0;34m,\u001b[0m\u001b[0mc\u001b[0m\u001b[0;34m=\u001b[0m\u001b[0;34m'b'\u001b[0m\u001b[0;34m,\u001b[0m\u001b[0mlabel\u001b[0m\u001b[0;34m=\u001b[0m\u001b[0;34m'Estimated state variance P'\u001b[0m\u001b[0;34m)\u001b[0m\u001b[0;34m\u001b[0m\u001b[0;34m\u001b[0m\u001b[0m\n\u001b[1;32m      5\u001b[0m \u001b[0mplt\u001b[0m\u001b[0;34m.\u001b[0m\u001b[0mtitle\u001b[0m\u001b[0;34m(\u001b[0m\u001b[0;34m'Kalman filtering and forecast on artificial data'\u001b[0m\u001b[0;34m)\u001b[0m\u001b[0;34m\u001b[0m\u001b[0;34m\u001b[0m\u001b[0m\n",
            "\u001b[0;31mTypeError\u001b[0m: 'module' object is not callable"
          ]
        }
      ]
    },
    {
      "cell_type": "markdown",
      "metadata": {
        "id": "Ccr-uKbmAlBE"
      },
      "source": [
        "Now what if the model is wrong - different from nature? That is always so in reality. Now suppose that the model and the truth are not the same. That is always the case in reality.  Consider a simple case when the model thinks that the equilibrium $E$ is too high."
      ]
    },
    {
      "cell_type": "code",
      "metadata": {
        "id": "spMdGW8oAlBE"
      },
      "source": [
        "DeltaE = -0.05\n",
        "E, P = kf_example(DeltaE)  "
      ],
      "execution_count": null,
      "outputs": []
    },
    {
      "cell_type": "markdown",
      "metadata": {
        "id": "DQeF7J8T4j2i"
      },
      "source": [
        "We have found a good estimate of the state $m$, while data is available. Also, the estimated state variance $P$ converges with time - we have *learned* the variance that balances the noise. But for forecasting fuel moisture, we need to continue the fuel moisture model into the future, and we can't have any measurements from future. We only have the equilibrium from weather forecast. And the forecast and the truth disagree - as soon as there is no data to attract the simulation, the model is doing its own thing."
      ]
    },
    {
      "cell_type": "markdown",
      "metadata": {
        "id": "6uXVJj9koGF2"
      },
      "source": [
        "### Real data"
      ]
    },
    {
      "cell_type": "markdown",
      "metadata": {
        "id": "q3BpOBuzc91i"
      },
      "source": [
        "Data assimilation for fuel moisture from Remote Automated Weather Stations (RAWS) was developed in Vejmelka et al. (2016). First, they use regression from all RAWS in a given area to extend the data spatially from RAWS to a grid in the whole area, then they run the extended Kalman filter at each grid node. Here, we are interested in a simplified problem: estimate future fuel moisture at a single RAWS location from weather forecast. In lieu of weather forecast, we use the Real-Time Mesoscale Analysis ([RTMA](https://www.nco.ncep.noaa.gov/pmb/products/rtma/)) interpolated to the RAWS location. RTMA is a real-time product, posted hourly, and available only for few days in the past. We have our own collection of selected RAWS data over past few years, obtained as a side effecto of running the fuel moisture modeling software [WRFXPY](https://github.com/openwfm/wrfxpy).  "
      ]
    },
    {
      "cell_type": "markdown",
      "metadata": {
        "id": "c8Y6bL1Yc91i"
      },
      "source": [
        "### Fuel moisture RAWS data"
      ]
    },
    {
      "cell_type": "markdown",
      "metadata": {
        "id": "0CuXyWBFc91i"
      },
      "source": [
        "Try to load the data from a saved file first. If that fails, retrieve the fuel moisture data from sensors on weather stations in the Mesowest network. Get all stations with fuel moisture data in a spatial box within one hour, then pick one station and retrieve the whole time series."
      ]
    },
    {
      "cell_type": "code",
      "metadata": {
        "id": "LFrlbbMmc91i"
      },
      "source": [
        "import json\n",
        "jfile = 'raws.json'\n",
        "try:\n",
        "    ! wget --no-clobber https://demo.openwfm.org/web/data/raws.json\n",
        "    j = json.load(open(jfile,'r'))\n",
        "    print('loaded from ',jfile)\n",
        "    # Take the first station in the boulding box that has data between time_start and time_s2.\n",
        "    # Then retrieve data for that station between time_start and time_end\n",
        "    time_start = j['time_start']      # start of data time series\n",
        "    # time_s2    = j['time_s2']         # end of segment to read coordinates\n",
        "    time_end  = j['time_end']         # end of data time series\n",
        "    meso_ts  = j['meso_ts']           # get meso observations time series\n",
        "    obs_lon =   j['obs_lon']          # where we retrieved observations\n",
        "    obs_lat =   j['obs_lat']\n",
        "except:\n",
        "    print(\"can't read\",jfile,', creating')\n",
        "    # set up bounds\n",
        "    time_start = \"201806010800\"  # June 1 2018 08:00 in format yyyymmddHHMM\n",
        "    time_s2    = \"201806010900\"  # June 1 2018 09:00 in format yyyymmddHHMM \n",
        "    time_end   = \"201906200900\"  # Nov 1 2018 09:00 in format yyyymmddHHMM \n",
        "    #time_start=  \"201810230100\"\n",
        "    #time_s2=  \"201810230300\"\n",
        "    #time_end  =  \"201806022300\"\n",
        "    !pip install MesoPy\n",
        "    from MesoPy import Meso\n",
        "    bounding_box = \"-115, 38, -110, 40\"  # min longtitude, latitude\n",
        "    meso_token=\"b40cb52cbdef43ef81329b84e8fd874f\"       # you should get your own if you do more of this\n",
        "    m = Meso(meso_token)# create a Meso object\n",
        "    print('reading MesoWest fuel moisture data from',)\n",
        "    meso_obss = m.timeseries(time_start, time_s2, bbox=bounding_box, \n",
        "                             showemptystations = '0', vars='fuel_moisture')   # ask the object for data\n",
        "    # pick one station and retrieve the whole time series.\n",
        "    station=meso_obss['STATION'][0]\n",
        "    #print(json.dumps(station, indent=4))\n",
        "    lon,lat = (float(station['LONGITUDE']),float(station['LATITUDE']))\n",
        "    print(station['NAME'],'station',station['STID'],'at',lon,lat)\n",
        "    e = 0.01   # tolerance\n",
        "    bb = '%s, %s, %s, %s' % (lon - e, lat - e, lon + e, lat + e)\n",
        "    print('bounding box',bb)\n",
        "    meso_ts = m.timeseries(time_start, time_end, bbox=bb, showemptystations = '0', vars='fuel_moisture')   # ask the object for data\n",
        "    obs_lon, obs_lat = (lon, lat)   # remember station coordinates for later\n",
        "    j={'time_start':time_start,'time_s2':time_s2,'time_end':time_end,\n",
        "       'meso_ts':meso_ts,'obs_lon':obs_lon,'obs_lat':obs_lat}\n",
        "    json.dump(j,open(jfile,'w'),indent=4)\n",
        "    print('done')"
      ],
      "execution_count": null,
      "outputs": []
    },
    {
      "cell_type": "code",
      "metadata": {
        "id": "3bXopS3btyz0",
        "scrolled": true
      },
      "source": [
        "# process the data retrieved for this station\n",
        "# print(json.dumps(meso_ts['STATION'][0], indent=4))\n",
        "from datetime import datetime, timedelta, time\n",
        "import numpy as np\n",
        "import matplotlib.pyplot as plt\n",
        "import pytz\n",
        "station = meso_ts['STATION'][0]\n",
        "time_str  = station['OBSERVATIONS']['date_time']\n",
        "obs_time = [datetime.strptime(t, '%Y-%m-%dT%H:%M:%SZ').replace(tzinfo=pytz.UTC) for t in time_str]\n",
        "start_time = obs_time[0].replace(minute=0)     # remember obs_time and start_time for later\n",
        "end_time = obs_time[-1]\n",
        "obs_data = np.array(station['OBSERVATIONS'][\"fuel_moisture_set_1\"])\n",
        "# display the data retrieved\n",
        "#for o_time,o_data in zip (obs_time,obs_data):\n",
        "#    print(o_time,o_data)\n",
        "%matplotlib inline\n",
        "plt.figure(figsize=(16,4))\n",
        "plt.plot(obs_data,linestyle='-',c='k',label='10-h fuel data')\n",
        "plt.title(station['STID'] + ' 10 h fuel moisture data')\n",
        "plt.xlabel('Time (hours)') \n",
        "plt.ylabel('Fuel moisture content (%)')\n",
        "plt.legend()\n",
        " "
      ],
      "execution_count": null,
      "outputs": []
    },
    {
      "cell_type": "markdown",
      "metadata": {
        "id": "pY4hPeATK9wZ"
      },
      "source": [
        "## Retrieve weather analysis for the duration of the station data, from our RTMA stash."
      ]
    },
    {
      "cell_type": "markdown",
      "metadata": {
        "id": "dQ-uJI2sy6I3"
      },
      "source": [
        "Create a function to transfer RTMA files in GRIB2 format from the stash. The function returns zero if the file transfer succeeded. If the file is not available, it returns a nonzero value. Note: if needed, maybe in future add more sophisticated checks, check the return code of wget and if the file size is correct."
      ]
    },
    {
      "cell_type": "code",
      "metadata": {
        "id": "mxZABVDxt0gd"
      },
      "source": [
        "import subprocess,os\n",
        "def load_rtma(path,file,reload=0):\n",
        "  url='http://math.ucdenver.edu/~jmandel/rtma/' + path \n",
        "  if os.path.exists(file):\n",
        "    if reload:\n",
        "      print(file + ' already exists, removing')\n",
        "      os.remove(file)\n",
        "    else:\n",
        "      print(file + ' already exists, exiting')\n",
        "      # add checking size here\n",
        "      return 0\n",
        "  try:\n",
        "    ret = subprocess.check_output(['wget','--no-clobber','--output-document='+ file, url,],stderr=subprocess.STDOUT).decode() # execute command from python strings\n",
        "    if os.path.exists(file):\n",
        "      print('loaded ' + url + ' as ' + file)\n",
        "      return 0\n",
        "    else: \n",
        "      print('file transfer completed, but the file is missing? ' + url)  \n",
        "      return 1\n",
        "  except:\n",
        "    print('file transfer failed: ' + url)\n",
        "    return 2\n"
      ],
      "execution_count": 1,
      "outputs": []
    },
    {
      "cell_type": "markdown",
      "metadata": {
        "id": "THI6gElyHOOc"
      },
      "source": [
        "Next, functions to get the files, open as grib, and interpolate to the station coordinates"
      ]
    },
    {
      "cell_type": "code",
      "metadata": {
        "id": "PL3gxK67AlBI"
      },
      "source": [
        "def rtma_grib(t,var):\n",
        "    tpath = '%4i%02i%02i/%02i' % (t.year, t.month, t.day, t.hour)  # remote path on server\n",
        "    tstr  = '%4i%02i%02i%02i_' % (t.year, t.month, t.day, t.hour)  # time string for local path\n",
        "    gribfile = os.path.join('data',tstr + var + '.grib')\n",
        "    remote = tpath + '/' + var + '.grib'\n",
        "    if load_rtma(remote,gribfile):\n",
        "        print('cannot load remote file',remote,'as',gribfile)\n",
        "        return []\n",
        "    else:\n",
        "        try:\n",
        "            gf=GribFile(gribfile)\n",
        "            v = np.array(gf[1].values())\n",
        "        except:\n",
        "            print('cannot read grib file',gribfile)\n",
        "            return []\n",
        "        print('loaded ',gribfile,' containing array shape ',v.shape)\n",
        "        return gf[1]   # grib message\n"
      ],
      "execution_count": 2,
      "outputs": []
    },
    {
      "cell_type": "code",
      "metadata": {
        "id": "ccp10kurAlBI"
      },
      "source": [
        "from scipy.interpolate import LinearNDInterpolator, interpn\n",
        "from scipy.optimize import root\n",
        "def interp_to_lat_lon_slow(lats,lons,v,lat,lon): \n",
        "    # on mesh with coordinates lats and lons interpolate v to given lat lon\n",
        "    interp=LinearNDInterpolator(list(zip(lats.flatten(),lons.flatten())),v.flatten())\n",
        "    return interp(lat,lon)\n",
        "def interp_to_lat_lon(lats,lons,v,lat,lon):\n",
        "    # on mesh with coordinates lats and lons interpolate v to given lat lon\n",
        "    points=(np.array(range(lats.shape[0]),float),np.array(range(lats.shape[1]),float))  # uniform mesh\n",
        "    def res(ij):  # interpolation of lons lats on the uniform mesh, to noninteger coordinates   \n",
        "       return np.hstack((interpn(points,lats,ij)-lat, interpn(points,lons,ij)-lon))\n",
        "    # solve for xi,xj such that lats(xi,xj)=lat lons(xi,xj)=lon, then interpolate to (xi, xj) on uniform grid \n",
        "    result = root(res,(0,0)) # solve res(ij) = 0\n",
        "    if not result.success:\n",
        "        print(result.message)\n",
        "        exit(1)\n",
        "    return interpn(points,v,result.x) \n"
      ],
      "execution_count": 3,
      "outputs": []
    },
    {
      "cell_type": "markdown",
      "metadata": {
        "id": "jvnpq6S5AlBI"
      },
      "source": [
        "The interpolation function needs to  be tested."
      ]
    },
    {
      "cell_type": "code",
      "metadata": {
        "id": "NVMJBYI7AlBI"
      },
      "source": [
        "def interp_to_lat_lon_test(lats,lons):\n",
        "    print('testing interp_to_lat_lon')\n",
        "    vx, vy = np.meshgrid(range(lats.shape[0]),range(lats.shape[1]),indexing='ij')\n",
        "    i, j = (1,2)\n",
        "    lat,lon = ((lats[i,j]+lats[i+1,j+1])/2,(lons[i,j]+lons[i+1,j+1])/2)\n",
        "    vi = interp_to_lat_lon(lats,lons,vx,lat,lon)\n",
        "    vj = interp_to_lat_lon(lats,lons,vy,lat,lon)\n",
        "    print(vi,vj,'should be about',i+0.5,j+0.5)\n",
        "    test_slow = 0\n",
        "    if test_slow:\n",
        "        print('Testing against the standard slow method scipy.interpolate.LinearNDInterpolator. Please wait...')\n",
        "        vi_slow = interp_to_lat_lon_slow(lats,lons,vx,lat,lon)\n",
        "        print(vi_slow)\n",
        "        vj_slow = interp_to_lat_lon_slow(lats,lons,vy,lat,lon)\n",
        "        print(vj_slow)\n",
        "        \n",
        "#gf = rtma_grib(start_time,'temp')      #  read the first grib file and use it to test interpolation\n",
        "#lats, lons = gf.latlons()\n",
        "#interp_to_lat_lon_test(lats,lons)\n"
      ],
      "execution_count": 4,
      "outputs": []
    },
    {
      "cell_type": "code",
      "metadata": {
        "id": "vt-Mk8fIc91m"
      },
      "source": [
        "#%debug\n"
      ],
      "execution_count": null,
      "outputs": []
    },
    {
      "cell_type": "markdown",
      "metadata": {
        "id": "LQbWB_3GAlBI"
      },
      "source": [
        "Now we are ready for a function to read the RTMA files and interpolate to the station coordinates"
      ]
    },
    {
      "cell_type": "code",
      "metadata": {
        "id": "b3JJH3XPAlBI"
      },
      "source": [
        "import pandas as pd, json\n",
        "def read_interp_rtma(varnames,times,lat,lon):\n",
        "    # read RTMA from start_time to end_time and interpolate to obs_lat obs_lon\n",
        "    ntimes = len(times)\n",
        "    time_str = 'time_str'\n",
        "    j={time_str:times.strftime('%Y-%m-%d %H:%M').tolist()}\n",
        "    for varname in varnames:\n",
        "        j[varname]=np.full(ntimes,np.nan)  # initialize array of nans as list\n",
        "    n=0\n",
        "    for t in times:\n",
        "        tim=t.strftime('%Y-%m-%d %H:%M')\n",
        "        should_be = j[time_str][n]\n",
        "        if tim != should_be:\n",
        "            print('n=',n,'time',tim,'expected',should_be)\n",
        "            raise 'Invalid time' \n",
        "        for varname in varnames:\n",
        "            gf = rtma_grib(t,varname)   # read and create grib object, download if needed\n",
        "            if gf:\n",
        "                lats,lons = gf.latlons()    # coordinates\n",
        "                v = gf.values()\n",
        "                vi=interp_to_lat_lon(lats,lons,v,lat,lon) # append to array\n",
        "                print(varname,'at',t,'interpolated to',lat,lon,' value ',vi)\n",
        "                j[varname][n] = vi\n",
        "            else:\n",
        "                print(varname,'at',t,' could not be loaded')\n",
        "        n = n+1\n",
        "    return j"
      ],
      "execution_count": 5,
      "outputs": []
    },
    {
      "cell_type": "code",
      "metadata": {
        "id": "WlqJRP8Vc91o"
      },
      "source": [
        "import json\n",
        "jfile = 'rtma.json'\n",
        "try:\n",
        "    ! wget --no-clobber https://demo.openwfm.org/web/data/rtma.json\n",
        "    j = json.load(open(jfile,'r'))\n",
        "    print('loaded from ',jfile)\n",
        "    if j['obs_lat']!=obs_lat or j['obs_lon']!=obs_lon:\n",
        "        raise 'Wrong lon lat'\n",
        "except:\n",
        "    print(\"can't read\",jfile,', creating')\n",
        "    # Set up environment to read RTMA gribs\n",
        "    # we will need current numpy for pygrib - needed on Colab, tensorflow is using numpy 1.19\\\n",
        "    times = pd.date_range(start=time_start,end=time_end,freq='1H')\n",
        "    varnames=['temp','td','precipa']\n",
        "    j =    read_interp_rtma(varnames,times,obs_lat,obs_lon)      # temperature\n",
        "    for varname in varnames:\n",
        "        j[varname]=j[varname].tolist() \n",
        "    j['obs_lat']=obs_lat\n",
        "    j['obs_lon']=obs_lon\n",
        "    json.dump(j,open('rtma.json','w'),indent=4)\n",
        "    print('done')"
      ],
      "execution_count": null,
      "outputs": []
    },
    {
      "cell_type": "code",
      "metadata": {
        "id": "bMpYIZT6c91o"
      },
      "source": [
        "# %debug\n"
      ],
      "execution_count": null,
      "outputs": []
    },
    {
      "cell_type": "code",
      "metadata": {
        "id": "fNA3Vbo1c91o"
      },
      "source": [
        "rtma = j\n",
        "td = np.array(rtma['td'])\n",
        "t2 = np.array(rtma['temp'])\n",
        "rain=np.array(rtma['precipa'])\n",
        "# compute relative humidity\n",
        "rh = 100*np.exp(17.625*243.04*(td - t2) / (243.04 + t2 - 273.15) / (243.0 + td - 273.15))\n",
        "Ed = 0.924*rh**0.679 + 0.000499*np.exp(0.1*rh) + 0.18*(21.1 + 273.15 - t2)*(1 - np.exp(-0.115*rh))\n",
        "Ew = 0.618*rh**0.753 + 0.000454*np.exp(0.1*rh) + 0.18*(21.1 + 273.15 - t2)*(1 - np.exp(-0.115*rh))"
      ],
      "execution_count": null,
      "outputs": []
    },
    {
      "cell_type": "code",
      "metadata": {
        "id": "tZIK59bJAlBJ"
      },
      "source": [
        "%matplotlib inline\n",
        "plt.figure(figsize=(16,4))\n",
        "plt.plot(t2,linestyle='-',c='k',label='Temperature')\n",
        "plt.title(station['STID'] + ' Temperature')\n",
        "plt.xlabel('Time (hours)') \n",
        "plt.ylabel('Temperature (K)')\n",
        "plt.legend()"
      ],
      "execution_count": null,
      "outputs": []
    },
    {
      "cell_type": "code",
      "metadata": {
        "id": "LbyqcuXYAlBJ"
      },
      "source": [
        "%matplotlib inline\n",
        "plt.figure(figsize=(16,4))\n",
        "plt.plot(td,linestyle='-',c='k',label='Dew point')\n",
        "plt.title(station['STID'] + ' Dew point (K)')\n",
        "plt.xlabel('Time (hours)') \n",
        "plt.ylabel('Dew point (K)')\n",
        "plt.legend()"
      ],
      "execution_count": null,
      "outputs": []
    },
    {
      "cell_type": "code",
      "metadata": {
        "id": "dfoOK2kSc91p"
      },
      "source": [
        "%matplotlib inline\n",
        "plt.figure(figsize=(16,4))\n",
        "plt.plot(rh,linestyle='-',c='k',label='Dew point')\n",
        "plt.title(station['STID'] + ' relative humidity')\n",
        "plt.xlabel('Time (hours)') \n",
        "plt.ylabel('Relative humidity (%)')\n",
        "plt.legend()"
      ],
      "execution_count": null,
      "outputs": []
    },
    {
      "cell_type": "code",
      "metadata": {
        "id": "MWTJ5b2kc91p"
      },
      "source": [
        "%matplotlib inline\n",
        "plt.figure(figsize=(16,4))\n",
        "plt.plot(Ed,linestyle='-',c='r',label='drying equilibrium')\n",
        "plt.plot(Ew,linestyle=':',c='b',label='wetting equilibrium')\n",
        "plt.title(station['STID'] + ' drying and wetting equilibria')\n",
        "plt.xlabel('Time (hours)') \n",
        "plt.ylabel('Fuel moisture contents (%)')\n",
        "plt.legend()"
      ],
      "execution_count": null,
      "outputs": []
    },
    {
      "cell_type": "markdown",
      "metadata": {
        "id": "jY3_eeBRc91p"
      },
      "source": [
        " "
      ]
    },
    {
      "cell_type": "code",
      "metadata": {
        "id": "PQKSRvRSAlBJ"
      },
      "source": [
        "%matplotlib inline\n",
        "plt.figure(figsize=(16,4))\n",
        "plt.plot(rain,linestyle='-',c='k',label='Precipitation')\n",
        "plt.title(station['STID'] + ' Precipitation' )\n",
        "plt.xlabel('Time (hours)') \n",
        "plt.ylabel('Precipitation (mm/hour)')\n",
        "plt.legend()"
      ],
      "execution_count": null,
      "outputs": []
    },
    {
      "cell_type": "code",
      "metadata": {
        "id": "Dwbt4UXfro5x"
      },
      "source": [
        "print(rain[1900:2000])"
      ],
      "execution_count": null,
      "outputs": []
    },
    {
      "cell_type": "markdown",
      "metadata": {
        "id": "_yRu_7WvHc6P"
      },
      "source": [
        "Precipitation from RTMA is in kg/m${}^2$. 1m water depth over 1m${}^2$ is 1m${}^3$ with mass 1000 kg thus 1 kg/m${}^2$ is the same as 1 mm of precipitation. RTMA values are accumulations over 1 h so these are values in mm/h. So 9999 mm/h = 10m/h makes no sense. Replace anything over 1m/h by nan and try again."
      ]
    },
    {
      "cell_type": "code",
      "metadata": {
        "id": "XPYO_Iuvc91q"
      },
      "source": [
        "rain[rain > 1000] = np.NaN"
      ],
      "execution_count": null,
      "outputs": []
    },
    {
      "cell_type": "code",
      "metadata": {
        "scrolled": true,
        "id": "GYWTfbBBc91q"
      },
      "source": [
        "%matplotlib inline\n",
        "plt.figure(figsize=(16,4))\n",
        "plt.plot(rain,linestyle='-',c='k',label='Precipitation')\n",
        "plt.title(station['STID'] + ' Precipitation' )\n",
        "plt.xlabel('Time (hours)') \n",
        "plt.ylabel('Precipitation (mm/hour)')\n",
        "plt.legend()"
      ],
      "execution_count": null,
      "outputs": []
    },
    {
      "cell_type": "markdown",
      "metadata": {
        "id": "Q_L0R2Njc91q"
      },
      "source": [
        "Fix some missing data, then we can use the data for up to 1942 hours until a biger gap."
      ]
    },
    {
      "cell_type": "code",
      "metadata": {
        "id": "_tkU7UJic91q"
      },
      "source": [
        "# fix isolated nans\n",
        "def fixnan(a,n):\n",
        "    for c in range(n):\n",
        "        for i in np.where(np.isnan(a)):\n",
        "            a[i]=0.5*(a[i-1]+a[i+1])\n",
        "        if not any(np.isnan(a)):\n",
        "            break\n",
        "    return a\n",
        "\n",
        "rain=fixnan(rain,2)\n",
        "t2=fixnan(t2,2)\n",
        "rh=fixnan(rh,2)\n",
        "obs_data=fixnan(obs_data,2)\n",
        "Ed=fixnan(Ed,2)\n",
        "Ew=fixnan(Ew,2)\n",
        "\n",
        "print(np.where(np.isnan(rain)))\n",
        "print(np.where(np.isnan(t2)))\n",
        "print(np.where(np.isnan(rh)))\n",
        "print(np.where(np.isnan(obs_data)))"
      ],
      "execution_count": null,
      "outputs": []
    },
    {
      "cell_type": "code",
      "metadata": {
        "id": "0SSWIbGCAlBK"
      },
      "source": [
        "### Define model function with drying, wetting, and rain equilibria\n",
        "\n",
        "# Parameters\n",
        "r0 = 0.05                                   # threshold rainfall [mm/h]\n",
        "rk = 8.0                                    # saturation rain intensity [mm/h]\n",
        "Trk = 14.0                                  # time constant for rain wetting model [h]\n",
        "S = 2.5                                     # saturation intensity [dimensionless]\n",
        "T = 10.0                                    # time constant for wetting/drying\n",
        "\n",
        "def model_moisture(m0,Eqd,Eqw,r,partials=0,T=10,tlen=1):\n",
        "    # arguments:\n",
        "    # m0         starting fuel moistureb (%)\n",
        "    # Eqd        drying equilibrium      (%) \n",
        "    # Eqw        wetting equilibrium     (%)\n",
        "    # r          rain intensity          (mm/h)\n",
        "    # partials = 0, 1, 2\n",
        "    # returns: same as model_decay\n",
        "    #   if partials==0: m1 = fuel moisture contents after time 1 hour\n",
        "    #              ==1: m1, dm1/dm0 \n",
        "    #              ==2: m1, dm1/dm0, dm1/dE  \n",
        "    \n",
        "    if r > r0:\n",
        "        # print('raining')\n",
        "        E = S\n",
        "        T1 = 1.0 / (Trk * (1.0 - np.exp(- (r - r0) / rk)))\n",
        "        exp_t = np.exp(-tlen*T1)\n",
        "        m1 = E + (m0 - E)*exp_t  \n",
        "        dm1_dm0 = exp_t\n",
        "        dm1_dE = 0\n",
        "    elif m0 <= Eqw: \n",
        "        # print('wetting')\n",
        "        T1 = 1.0/T\n",
        "        exp_t = np.exp(-tlen*T1)\n",
        "        m1 = Eqw + (m0 - Eqw)*exp_t  \n",
        "        dm1_dm0 = exp_t\n",
        "        dm1_dE = 1- exp_t\n",
        "    elif m0 >= Eqd:\n",
        "        # print('drying')\n",
        "        T1 = 1.0/T\n",
        "        exp_t = np.exp(-tlen*T1)\n",
        "        m1 = Eqd + (m0 - Eqd)*exp_t  \n",
        "        dm1_dm0 = exp_t\n",
        "        dm1_dE = 1- exp_t\n",
        "    else:\n",
        "        # print('no change')\n",
        "        m1 = m0\n",
        "        dm1_dm0 = 1.0\n",
        "        dm1_dE = 0.0  \n",
        "        \n",
        "    if partials==0: \n",
        "        return m1\n",
        "    if partials==1:\n",
        "        return m1, dm1_dm0\n",
        "    if partials==2:\n",
        "        return m1, dm1_dm0, dm1_dE\n",
        "    raise('bad partials')"
      ],
      "execution_count": null,
      "outputs": []
    },
    {
      "cell_type": "markdown",
      "metadata": {
        "id": "2tIC_Tqnc91r"
      },
      "source": [
        "# Kalman filter with RAWS observations, followed by forecasting\n",
        "We run the model first with Kalman filter for 150 hours. The observations are the RAWS data\n",
        "After 150 hours, we run in forecast mode - the RAWS data are no longer used, and we run the model from the weather data without the Kalman filter. The weather data are taken to be RTMA interpolated to one RAWS location.\n",
        "In a real forecasting application, the model would be run from weather forecast rather than data."
      ]
    },
    {
      "cell_type": "code",
      "metadata": {
        "id": "aXnSQM7wc91r"
      },
      "source": [
        "# run KF on an initial data seqment\n",
        "import numpy as np\n",
        "import matplotlib.pyplot as plt \n",
        "\n",
        "hours=300\n",
        "h2 = round(hours/2)\n",
        "m = np.zeros(hours) # preallocate\n",
        "m[0]= obs_data[0]             # initial state  \n",
        "P = np.zeros(hours)\n",
        "P[0] = 1e-3 # background state variance\n",
        "H = np.array([1.])   # all oQ = np.array([0.02]) # process noise variancebserved\n",
        "Q = np.array([1e-3]) # process noise variance\n",
        "R = np.array([1e-3]) # data variance\n",
        "for t in range(hours-1):\n",
        "    # using lambda construction to pass additional arguments to the model \n",
        "    if t < h2 and not np.isnan(obs_data[t]) and not np.isnan(Ew[t]) and not np.isnan(rain[t]): # advance model and run KF\n",
        "        m[t+1],P[t+1] = ext_kf(m[t],P[t],lambda u: model_moisture(u,Ed[t],Ew[t],rain[t],partials=1),Q,\n",
        "                    d=obs_data[t],H=H,R=R)\n",
        "    else:  # just advance to next hour, no process noise\n",
        "        m[t+1],P[t+1] = ext_kf(m[t],P[t],lambda u: model_moisture(u,Ed[t],Ew[t],rain[t],partials=1),Q*0.0)"
      ],
      "execution_count": null,
      "outputs": []
    },
    {
      "cell_type": "code",
      "metadata": {
        "scrolled": true,
        "id": "peMi-OF3c91r"
      },
      "source": [
        "%matplotlib inline\n",
        "plt.figure(figsize=(16,4))\n",
        "plt.plot(Ed[:hours],linestyle='--',c='r',label='Drying Equilibrium')\n",
        "plt.plot(Ew[:hours],linestyle='--',c='b',label='Wetting Equilibrium')\n",
        "plt.plot(obs_data[:hours],linestyle=':',c='k',label='RAWS data')\n",
        "plt.plot(m[:h2],linestyle='-',c='k',label='filtered')\n",
        "plt.plot(range(h2,hours),m[h2:hours],linestyle='-',c='r',label='forecast')\n",
        "plt.title('Kalman filtering and forecast with real data')\n",
        "plt.xlabel('Time (hours)') \n",
        "plt.ylabel('Fuel moisture content (%)')\n",
        "plt.legend()"
      ],
      "execution_count": null,
      "outputs": []
    },
    {
      "cell_type": "markdown",
      "metadata": {
        "id": "3TnwXYcLc91r"
      },
      "source": [
        "Clearly, there is a problem - the forecast fuel moisture is too high. We need to assimilate also some parameters of the model, not just its output state. "
      ]
    },
    {
      "cell_type": "markdown",
      "metadata": {
        "id": "jivOYEhiXMi5"
      },
      "source": [
        "## Model with an augmented state\n",
        "In reality, the equilibrium moisture $E$ computed from atmospheric conditions\n",
        "generally does not agree with the data. We want to add a correction $\\Delta\n",
        "E$ to $E$ constant in time, and identify the new parameter $\\Delta E$ from data. \n",
        "Because the Kalman filter identifies state, add the parameter to the state.\n",
        "Define augmented state $u=\\left[\n",
        "\\begin{array}\n",
        "[c]{c}\n",
        "m\\\\\n",
        "\\Delta E\n",
        "\\end{array}\n",
        "\\right]  .$ Since $\\Delta E$ is constant in time, it satisfies the\n",
        "differential equation $\\frac{d\\Delta E}{dt}=0.$ So, we want to estimate the\n",
        "state $u$ governed by the\n",
        "$$\n",
        "\\frac{d}{dt}\\left[\n",
        "\\begin{array}\n",
        "[c]{c}\n",
        "m\\\\\n",
        "\\Delta E\n",
        "\\end{array}\n",
        "\\right]  =\\left[\n",
        "\\begin{array}\n",
        "[c]{c}\n",
        "\\frac{E+\\Delta E-m(t)}{T}\\\\\n",
        "0\n",
        "\\end{array}\n",
        "\\right]  ,\n",
        "$$\n",
        "which we write as $\\frac{du}{dt}=F(u),$ where\n",
        "$$\n",
        "F(u)=\\left[\n",
        "\\begin{array}\n",
        "[c]{c}\n",
        "F_{1}\\left(  u\\right)  \\\\\n",
        "F_{2}\\left(  u\\right)\n",
        "\\end{array}\n",
        "\\right]  =F\\left(  \\left[\n",
        "\\begin{array}\n",
        "[c]{c}\n",
        "m\\\\\n",
        "\\Delta E\n",
        "\\end{array}\n",
        "\\right]  \\right)  =\\left[\n",
        "\\begin{array}\n",
        "[c]{c}\n",
        "\\left(  E+\\Delta E-m(t)\\right)  T_{1}\\\\\n",
        "0\n",
        "\\end{array}\n",
        "\\right]  ,\\quad T_{1}=\\frac{1}{T}.\n",
        "$$\n",
        "The Jacobian of $F$ is\n",
        "$$\n",
        "\\left[\n",
        "\\begin{array}\n",
        "[c]{cc}\n",
        "\\frac{\\partial F_{1}}{\\partial u_{1}} & \\frac{\\partial F_{1}}{\\partial u_{2}\n",
        "}\\\\\n",
        "\\frac{\\partial F_{2}}{\\partial u_{1}} & \\frac{\\partial F_{2}}{\\partial u_{2}}\n",
        "\\end{array}\n",
        "\\right]  =\\left[\n",
        "\\begin{array}\n",
        "[c]{cc}\n",
        "\\frac{\\partial m_{1}}{\\partial m_{0}} & \\frac{\\partial m_{1}}{\\partial E}\\\\\n",
        "\\frac{\\partial\\Delta E}{\\partial m_{0}} & \\frac{\\partial\\Delta E}\n",
        "{\\partial\\Delta E}\n",
        "\\end{array}\n",
        "\\right]  =\\left[\n",
        "\\begin{array}\n",
        "[c]{cc}\n",
        "\\frac{\\partial m_{1}}{\\partial m_{0}} & \\frac{\\partial m_{1}}{\\partial E}\\\\\n",
        "0 & 1\n",
        "\\end{array}\n",
        "\\right]\n",
        "$$\n",
        "Here is a function that implements the augmented model $F$. The input is\n",
        "$u_{0}$. The output is $u_{1}$ and the Jacobian $du_{1}/du_{0}$."
      ]
    },
    {
      "cell_type": "markdown",
      "metadata": {
        "id": "MJ1C_1Omc91s"
      },
      "source": [
        "### Define augmented model function with drying, wetting, and rain equilibria"
      ]
    },
    {
      "cell_type": "code",
      "metadata": {
        "id": "GHtAaGp9WSHT"
      },
      "source": [
        "def model_augmented(u0,Ed,Ew,r):\n",
        "    # state u is the vector [m,dE] with dE correction to equilibria Ed and Ew\n",
        "    # \n",
        "    m0, Ec = u0  # decompose state u0\n",
        "    # reuse model_moisture(m0,Eqd,Eqw,r,partials=0):\n",
        "    # arguments:\n",
        "    # m0         starting fuel moistureb (1)\n",
        "    # Ed         drying equilibrium      (1) \n",
        "    # Ew         wetting equilibrium     (1)\n",
        "    # r          rain intensity          (mm/h)\n",
        "    # partials = 0, 1, 2\n",
        "    # returns: same as model_decay\n",
        "    #   if partials==0: m1 = fuel moisture contents after time 1 hour\n",
        "    #              ==1: m1, dm0/dm0 \n",
        "    #              ==2: m1, dm1/dm0, dm1/dE \n",
        "    m1, dm1_dm0, dm1_dE  = model_moisture(m0,Ed + Ec, Ew + Ec, r, partials=2)\n",
        "    u1 = np.array([m1,Ec])   # dE is just copied\n",
        "    J =  np.array([[dm1_dm0, dm1_dE],\n",
        "                   [0.     ,     1.]])\n",
        "    return u1, J"
      ],
      "execution_count": null,
      "outputs": []
    },
    {
      "cell_type": "markdown",
      "metadata": {
        "id": "8SuVNg8TsW4d"
      },
      "source": [
        "### Run the extended Kalman filter on the augmented model"
      ]
    },
    {
      "cell_type": "code",
      "metadata": {
        "id": "1No3g6HyAEh_"
      },
      "source": [
        "u = np.zeros((2,hours))\n",
        "u[:,0]=[0.1,0.1]       # initialize,background state  \n",
        "P = np.zeros((2,2,hours))\n",
        "P[:,:,0] = np.array([[1e-3, 0.],\n",
        "                    [0.,  1e-3]]) # background state covariance\n",
        "Q = np.array([[1e-3, 0.],\n",
        "              [0,  1e-3]]) # process noise covariance\n",
        "H = np.array([[1., 0.]])  # first component observed\n",
        "R = np.array([1e-3]) # data variance\n",
        "\n",
        "# ext_kf(u,P,F,Q=0,d=None,H=None,R=None) returns ua, Pa\n",
        "\n",
        "# print('initial u=',u,'P=',P)\n",
        "# print('Q=',Q,'H=',H,'R=',R)\n",
        "for t in range(1,h2):\n",
        "    # use lambda construction to pass additional arguments to the model \n",
        "    u[:,t],P[:,:,t] = ext_kf(u[:,t-1],P[:,:,t-1],\n",
        "                                 lambda uu: model_augmented(uu,Ed[t],Ew[t],rain[t]),\n",
        "                                 Q,obs_data[t],H=H,R=R)\n",
        "    print('time',t,'data',obs_data[t],'filtered',u[0,t],'Ec',u[1,t])\n",
        "for t in range(h2,hours):\n",
        "    u[:,t],P[:,:,t] = ext_kf(u[:,t-1],P[:,:,t-1],\n",
        "                                 lambda uu: model_augmented(uu,Ed[t],Ew[t],rain[t]),\n",
        "                                 Q*0.0)\n",
        "    # print('time',t,'data',obs_data[t],'forecast',u[0,t],'Ec',u[1,t])"
      ],
      "execution_count": null,
      "outputs": []
    },
    {
      "cell_type": "code",
      "metadata": {
        "id": "wa-eMw4Qc91s"
      },
      "source": [
        "m,Ec = u  # extract from state"
      ],
      "execution_count": null,
      "outputs": []
    },
    {
      "cell_type": "code",
      "metadata": {
        "id": "B7sXGUotc91s"
      },
      "source": [
        "%matplotlib inline\n",
        "plt.figure(figsize=(16,4))\n",
        "plt.plot(Ed[:hours],linestyle='--',c='r',label='Drying Equilibrium')\n",
        "plt.plot(Ew[:hours],linestyle='--',c='b',label='Wetting Equilibrium')\n",
        "plt.plot(Ec[:hours],linestyle='--',c='g',label='Equilibrium Correction')\n",
        "plt.plot(obs_data[:hours],linestyle=':',c='k',label='RAWS data')\n",
        "plt.plot(m[:h2],linestyle='-',c='k',label='Filtered')\n",
        "plt.plot(range(h2,hours),m[h2:hours],linestyle='-',c='r',label='Forecast')\n",
        "plt.title('Kalman filtering and forecast with augmented state, real data')\n",
        "plt.xlabel('Time (hours)') \n",
        "plt.ylabel('Fuel moisture content (%)')\n",
        "plt.legend()\n"
      ],
      "execution_count": null,
      "outputs": []
    },
    {
      "cell_type": "markdown",
      "metadata": {
        "id": "7W03QTo3c91t"
      },
      "source": [
        "Filtering by extended Kalman filter using RAWS data until 150 hours, then forecasting mode - running the model from interpolated RTMA only. For the first 60 hours the forecast is good, the equilibium correction made the model quite close to data. But then the big spike in equilibrium moisture around 230 hours attracted the solution, and it took a while for it to get back. The spike in the RAWS measurement is there but much smaller. \n",
        "\n",
        "Possible reasons include: 1. There was something in the data we do not know about - maybe it rained but RTMA did not tell us. Try comparing with data from the RAWS itself? 2. The model is too simple, assumes the whole depth of the wood stick is wetting and drying at the same time. Perhaps the moisture got stored in the inside layers of the measurement stick. Try a two-layer model - make the state larger? "
      ]
    },
    {
      "cell_type": "markdown",
      "metadata": {
        "id": "gVQxv9Blc91t"
      },
      "source": [
        "## Information flow in the Kalman filter and neural networks"
      ]
    },
    {
      "cell_type": "markdown",
      "metadata": {
        "id": "CZmR4HPAc91t"
      },
      "source": [
        "At each time step $k$,\n",
        "\n",
        "* input state $u_{k-1}$ size $n$ and its covariance matrix $P_{k-1}$ size $n \\times n$.\n",
        "* the model is applied to external data $e_k$ and the input $u_{k-1},P_{k-1}$ produce the forecast $u_k^f$ and its covariance $P^f_k$\n",
        "* the new state $u_k$ is found by minimizing $|| u^f_k - u_k||^2_{P^f_k} + ||H u_k - d_k||^2_{R}$   \n",
        "* the new state covariance is $P_k = ( (P^f_k)^{-1} + H^\\top R^{-1} H)^{-1}$.\n",
        "\n",
        "Here, the state consists of \n",
        "* the fuel moisture and the adjustment to the equilibrium, dimension 2\n",
        "* the covariance matrix of vector of dimension 2, which is symmetric $2 \\times 2$ matrix, given by 3 numbers because it is symmetric\n",
        "Thus, the dimension of the state is 2 + 3 = 5. The first component of the state, the fuel moisture, is the quantity of interest, the rest are auxiliary.\n",
        "\n",
        "\n",
        "This can be understood as:\n",
        "\n",
        "* a mapping $M$ of the 5-dimensional hidden and external data state to a new hidden state:\n",
        "$$M:(u_{k-1},P_{k-1},e_k) \\mapsto (u_{k},P_{k})$$\n",
        "* taking the output (the quantity of interest) as the first component of the hiddent state\n",
        "* feeding the hiddent state back to the mapping $M$ for the next step $k+1$\n",
        "* training consists of fitting the hidden state to minimize a loss function\n",
        "$$\\ell(u_{k},P_{k},d_k,R_k) \\to \\min$$\n",
        "\n",
        "Note that in the augmented Kalman filter above, the mapping $M$ is fixed and it has a one component of the hidden state as a parameter. To get a better fit, we could increase the number of parameters, e.g., by modeling the moisture in multiple layers, as in van der Kamp et al. (2017) two-layer model.\n",
        "\n",
        "A recurrent neural network (RNN) has a similar information flow but it can be more flexible and look for the best $M$ automatically, i.e., build the model from data. \n"
      ]
    },
    {
      "cell_type": "markdown",
      "metadata": {
        "id": "_g_OTEg6ePb9"
      },
      "source": [
        "## Conclusion"
      ]
    },
    {
      "cell_type": "markdown",
      "metadata": {
        "id": "ylDXUrCKeSOr"
      },
      "source": [
        "We have shown how to combine a model and data for improved forecasting of fuel moisture from weather forecast using the Kalman filter. Augmenting the filter state by a model parameter and joint estimation of augmented state let to an improvement of the forecast."
      ]
    },
    {
      "cell_type": "markdown",
      "metadata": {
        "id": "ZsNZxOv7c91t"
      },
      "source": [
        "## References"
      ]
    },
    {
      "cell_type": "markdown",
      "metadata": {
        "id": "vFY-iS1Wc91t"
      },
      "source": [
        "J. Mandel, S. Amram, J. D. Beezley, G. Kelman, A. K. Kochanski, V. Y. Kondratenko, B. H. Lynn, B. Regev, and M. Vejmelka. Recent advances and applications of WRF-SFIRE. Natural Hazards and Earth System Science, 14(10):2829–2845, 2014. [doi:10.5194/nhessd-2-1759-2014](https://doi.org/10.5194/nhessd-2-1759-2014)\n",
        "\n",
        "R. E. Kalman. A new approach to linear filtering and prediction problems. Transactions of the ASME – Journal of Basic Engineering, Series D, 82:35–45, 1960. [doi:10.1115/1.3662552](https://doi.org/10.1115/1.3662552)\n",
        "\n",
        "E. Kalnay. Atmospheric Modeling, Data Assimilation and Predictability. Cambridge University Press, 2003. [doi:10.1017/CBO9780511802270](https://doi.org/10.1017/CBO9780511802270)\n",
        "\n",
        "D.W. Van der Kamp, R.D. Moore, and I.G. McKendry. A model for simulating the moisture content of standardized fuel sticks of various sizes. Agricultural and Forest Meteorology, 236:123–134, 2017. [doi:10.1016/j.agrformet.2017.01.013](https://doi.org/10.1016/j.agrformet.2017.01.013)\n",
        "\n",
        "M. Vejmelka, A. K. Kochanski, and J. Mandel. Data assimilation of dead fuel moisture observations from remote automatic weather stations. International Journal of Wildland Fire, 25:558– 568, 2016. [doi:10.1071/WF14085](https://doi.org/10.1071/WF14085)\n"
      ]
    }
  ]
}
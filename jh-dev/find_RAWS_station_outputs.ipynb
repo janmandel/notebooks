{
 "cells": [
  {
   "cell_type": "markdown",
   "id": "b1100419-e2ec-46b6-89d3-327421288025",
   "metadata": {},
   "source": [
    "## Find Data Availability for Stations\n",
    "\n",
    "Find which RAWS stations in Colorado have data availability for variables of interest to fuel moisture model."
   ]
  },
  {
   "cell_type": "code",
   "execution_count": 1,
   "id": "edb47918-af48-4002-8a66-7e78c7d10c77",
   "metadata": {},
   "outputs": [
    {
     "name": "stdout",
     "output_type": "stream",
     "text": [
      "Requirement already satisfied: MesoPy in /Users/jmandel/miniconda3/lib/python3.9/site-packages (2.0.3)\r\n"
     ]
    }
   ],
   "source": [
    "!pip install MesoPy\n",
    "from MesoPy import Meso\n",
    "\n",
    "outpath = \".\"\n",
    "\n",
    "# bounding_box = \"-115, 38, -110, 40\"\n",
    "meso_token=\"4192c18707b848299783d59a9317c6e1\"\n",
    "m=Meso(meso_token)"
   ]
  },
  {
   "cell_type": "code",
   "execution_count": 2,
   "id": "37683794-406d-4524-99d3-2c167ff444ea",
   "metadata": {},
   "outputs": [],
   "source": [
    "time_start = \"201806010800\"  # June 1 2018 08:00 in format yyyymmddHHMM\n",
    "time_s2    = \"201806010900\"  # June 1 2018 09:00 in format yyyymmddHHMM \n",
    "time_end   = \"201907200900\"  # June 20 2018 09:00 in format yyyymmddHHMM\n",
    "\n",
    "vars='air_temp,relative_humidity,precip_accum,fuel_moisture'"
   ]
  },
  {
   "cell_type": "code",
   "execution_count": 3,
   "id": "7dfb0387-6535-4976-9e9a-62e3cf9a69cd",
   "metadata": {},
   "outputs": [],
   "source": [
    "meso_obss = m.timeseries(time_start, time_s2, state=\"CO\", \n",
    "                             showemptystations = '0', vars=vars)"
   ]
  },
  {
   "cell_type": "code",
   "execution_count": 4,
   "id": "2255f323-2685-47b1-b862-f86eca6a3991",
   "metadata": {},
   "outputs": [],
   "source": [
    "import pandas as pd\n",
    "import numpy as np\n",
    "\n",
    "station_df = pd.DataFrame(columns=['STID', 'air_temp', 'relative_humidity', 'precip_accum', 'fuel_moisture'],\n",
    "                  index=range(0, len(meso_obss[\"STATION\"])))"
   ]
  },
  {
   "cell_type": "code",
   "execution_count": 5,
   "id": "6f4fbe0d-dd16-4c1c-950e-97e23e5a1918",
   "metadata": {},
   "outputs": [],
   "source": [
    "for i in range(0, station_df.shape[0]):\n",
    "    station_df[\"STID\"][i] = meso_obss[\"STATION\"][i][\"STID\"]\n",
    "    station_df[\"air_temp\"][i] = int(\"air_temp\" in meso_obss[\"STATION\"][i][\"SENSOR_VARIABLES\"].keys())\n",
    "    station_df[\"relative_humidity\"][i] = int(\"relative_humidity\" in meso_obss[\"STATION\"][i][\"SENSOR_VARIABLES\"].keys())\n",
    "    station_df[\"precip_accum\"][i] = int(\"precip_accum\" in meso_obss[\"STATION\"][i][\"SENSOR_VARIABLES\"].keys())\n",
    "    station_df[\"fuel_moisture\"][i] = int(\"fuel_moisture\" in meso_obss[\"STATION\"][i][\"SENSOR_VARIABLES\"].keys())"
   ]
  },
  {
   "cell_type": "code",
   "execution_count": 6,
   "id": "de8ec8c9-4af7-4bdc-9dbc-1b361d011654",
   "metadata": {},
   "outputs": [
    {
     "data": {
      "text/html": [
       "<div>\n",
       "<style scoped>\n",
       "    .dataframe tbody tr th:only-of-type {\n",
       "        vertical-align: middle;\n",
       "    }\n",
       "\n",
       "    .dataframe tbody tr th {\n",
       "        vertical-align: top;\n",
       "    }\n",
       "\n",
       "    .dataframe thead th {\n",
       "        text-align: right;\n",
       "    }\n",
       "</style>\n",
       "<table border=\"1\" class=\"dataframe\">\n",
       "  <thead>\n",
       "    <tr style=\"text-align: right;\">\n",
       "      <th></th>\n",
       "      <th>STID</th>\n",
       "      <th>air_temp</th>\n",
       "      <th>relative_humidity</th>\n",
       "      <th>precip_accum</th>\n",
       "      <th>fuel_moisture</th>\n",
       "    </tr>\n",
       "  </thead>\n",
       "  <tbody>\n",
       "    <tr>\n",
       "      <th>123</th>\n",
       "      <td>CPTC2</td>\n",
       "      <td>1</td>\n",
       "      <td>1</td>\n",
       "      <td>1</td>\n",
       "      <td>1</td>\n",
       "    </tr>\n",
       "    <tr>\n",
       "      <th>124</th>\n",
       "      <td>CHAC2</td>\n",
       "      <td>1</td>\n",
       "      <td>1</td>\n",
       "      <td>1</td>\n",
       "      <td>1</td>\n",
       "    </tr>\n",
       "    <tr>\n",
       "      <th>125</th>\n",
       "      <td>CHRC2</td>\n",
       "      <td>1</td>\n",
       "      <td>1</td>\n",
       "      <td>1</td>\n",
       "      <td>1</td>\n",
       "    </tr>\n",
       "    <tr>\n",
       "      <th>144</th>\n",
       "      <td>LKGC2</td>\n",
       "      <td>1</td>\n",
       "      <td>1</td>\n",
       "      <td>1</td>\n",
       "      <td>1</td>\n",
       "    </tr>\n",
       "    <tr>\n",
       "      <th>149</th>\n",
       "      <td>CCEC2</td>\n",
       "      <td>1</td>\n",
       "      <td>1</td>\n",
       "      <td>1</td>\n",
       "      <td>1</td>\n",
       "    </tr>\n",
       "  </tbody>\n",
       "</table>\n",
       "</div>"
      ],
      "text/plain": [
       "      STID air_temp relative_humidity precip_accum fuel_moisture\n",
       "123  CPTC2        1                 1            1             1\n",
       "124  CHAC2        1                 1            1             1\n",
       "125  CHRC2        1                 1            1             1\n",
       "144  LKGC2        1                 1            1             1\n",
       "149  CCEC2        1                 1            1             1"
      ]
     },
     "execution_count": 6,
     "metadata": {},
     "output_type": "execute_result"
    }
   ],
   "source": [
    "station_df[station_df[\"fuel_moisture\"]==1].head()"
   ]
  },
  {
   "cell_type": "code",
   "execution_count": 7,
   "id": "99dde77e-5f6f-4e45-babf-f7599e8fca14",
   "metadata": {},
   "outputs": [],
   "source": [
    "# write output\n",
    "station_df.to_csv(outpath+\"/station_df_co.csv\", index=False)"
   ]
  },
  {
   "cell_type": "markdown",
   "id": "8f63bc34-6deb-48bd-9aa9-c2f5a4cc293e",
   "metadata": {},
   "source": [
    "## Plot Timeseries for a Station\n",
    "\n",
    "Visualize the available data."
   ]
  },
  {
   "cell_type": "code",
   "execution_count": 8,
   "id": "d45d76e5-ccb1-45b6-a187-25d0d1f91b8e",
   "metadata": {},
   "outputs": [
    {
     "ename": "NameError",
     "evalue": "name 'lon' is not defined",
     "output_type": "error",
     "traceback": [
      "\u001b[0;31m---------------------------------------------------------------------------\u001b[0m",
      "\u001b[0;31mNameError\u001b[0m                                 Traceback (most recent call last)",
      "Input \u001b[0;32mIn [8]\u001b[0m, in \u001b[0;36m<cell line: 2>\u001b[0;34m()\u001b[0m\n\u001b[1;32m      1\u001b[0m e \u001b[38;5;241m=\u001b[39m \u001b[38;5;241m0.01\u001b[39m   \u001b[38;5;66;03m# tolerance\u001b[39;00m\n\u001b[0;32m----> 2\u001b[0m bb \u001b[38;5;241m=\u001b[39m \u001b[38;5;124m'\u001b[39m\u001b[38;5;132;01m%s\u001b[39;00m\u001b[38;5;124m, \u001b[39m\u001b[38;5;132;01m%s\u001b[39;00m\u001b[38;5;124m, \u001b[39m\u001b[38;5;132;01m%s\u001b[39;00m\u001b[38;5;124m, \u001b[39m\u001b[38;5;132;01m%s\u001b[39;00m\u001b[38;5;124m'\u001b[39m \u001b[38;5;241m%\u001b[39m (\u001b[43mlon\u001b[49m \u001b[38;5;241m-\u001b[39m e, lat \u001b[38;5;241m-\u001b[39m e, lon \u001b[38;5;241m+\u001b[39m e, lat \u001b[38;5;241m+\u001b[39m e)\n\u001b[1;32m      3\u001b[0m meso_ts \u001b[38;5;241m=\u001b[39m m\u001b[38;5;241m.\u001b[39mtimeseries(time_start, time_end, stid\u001b[38;5;241m=\u001b[39m\u001b[38;5;124m\"\u001b[39m\u001b[38;5;124mCPTC2\u001b[39m\u001b[38;5;124m\"\u001b[39m, showemptystations \u001b[38;5;241m=\u001b[39m \u001b[38;5;124m'\u001b[39m\u001b[38;5;124m0\u001b[39m\u001b[38;5;124m'\u001b[39m, \u001b[38;5;28mvars\u001b[39m\u001b[38;5;241m=\u001b[39m\u001b[38;5;28mvars\u001b[39m)\n",
      "\u001b[0;31mNameError\u001b[0m: name 'lon' is not defined"
     ]
    }
   ],
   "source": [
    "e = 0.01   # tolerance\n",
    "bb = '%s, %s, %s, %s' % (lon - e, lat - e, lon + e, lat + e)\n",
    "meso_ts = m.timeseries(time_start, time_end, stid=\"CPTC2\", showemptystations = '0', vars=vars)   # ask the object for data"
   ]
  },
  {
   "cell_type": "code",
   "execution_count": null,
   "id": "05e37b54-e014-44e8-b0f4-e3d53b5dbf86",
   "metadata": {},
   "outputs": [],
   "source": [
    "from datetime import datetime, timedelta, time\n",
    "import numpy as np\n",
    "import matplotlib.pyplot as plt\n",
    "import pytz\n",
    "station = meso_ts['STATION'][0]\n",
    "time_str  = station['OBSERVATIONS']['date_time']\n",
    "obs_time = [datetime.strptime(t, '%Y-%m-%dT%H:%M:%SZ').replace(tzinfo=pytz.UTC) for t in time_str]\n",
    "start_time = obs_time[0].replace(minute=0)     # remember obs_time and start_time for later\n",
    "end_time = obs_time[-1]\n",
    "obs_data = np.array(station['OBSERVATIONS'][\"fuel_moisture_set_1\"])\n",
    "\n",
    "\n",
    "%matplotlib inline\n",
    "plt.figure(figsize=(16,4))\n",
    "plt.plot(obs_data,linestyle='-',c='k',label='10-h fuel data')\n",
    "plt.title(station['STID'] + ' 10 h fuel moisture data')\n",
    "plt.xlabel('Time (hours)') \n",
    "plt.ylabel('Fuel moisture content (%)')\n",
    "plt.legend()"
   ]
  },
  {
   "cell_type": "code",
   "execution_count": null,
   "id": "d58d9cb6-f87f-47a2-8845-97c6d6c15358",
   "metadata": {},
   "outputs": [],
   "source": [
    "obs_data = np.array(station['OBSERVATIONS'][\"relative_humidity_set_1\"])\n",
    "\n",
    "\n",
    "%matplotlib inline\n",
    "plt.figure(figsize=(16,4))\n",
    "plt.plot(obs_data,linestyle='-',c='k')\n",
    "plt.title(station['STID'] + ' relative humidity data')\n",
    "plt.xlabel('Time (hours)') \n",
    "plt.ylabel('Relative Humidity (%)')"
   ]
  },
  {
   "cell_type": "code",
   "execution_count": null,
   "id": "20176db9-997d-4a46-8d73-f2e7a08ee9d4",
   "metadata": {},
   "outputs": [],
   "source": [
    "obs_data = np.array(station['OBSERVATIONS'][\"precip_accum_set_1\"])\n",
    "\n",
    "\n",
    "%matplotlib inline\n",
    "plt.figure(figsize=(16,4))\n",
    "plt.plot(obs_data,linestyle='-',c='k')\n",
    "plt.title(station['STID'] + ' precip accum data')\n",
    "plt.xlabel('Time (hours)') \n",
    "plt.ylabel('Precipitation Accumulated (mm)')"
   ]
  },
  {
   "cell_type": "code",
   "execution_count": null,
   "id": "2cf93527-578c-4ce2-b4f6-1508b9dbfa7c",
   "metadata": {},
   "outputs": [],
   "source": [
    "obs_data = np.array(station['OBSERVATIONS'][\"air_temp_set_1\"])\n",
    "\n",
    "\n",
    "%matplotlib inline\n",
    "plt.figure(figsize=(16,4))\n",
    "plt.plot(obs_data,linestyle='-',c='k')\n",
    "plt.title(station['STID'] + ' air temp data')\n",
    "plt.xlabel('Time (hours)') \n",
    "plt.ylabel('Air Temp (C)')"
   ]
  },
  {
   "cell_type": "code",
   "execution_count": null,
   "id": "45264085-d516-4803-bcc6-d0a64cc7e1c9",
   "metadata": {},
   "outputs": [],
   "source": []
  },
  {
   "cell_type": "code",
   "execution_count": null,
   "id": "0730d61b-6d71-407a-a31b-8b16494f1921",
   "metadata": {},
   "outputs": [],
   "source": []
  }
 ],
 "metadata": {
  "kernelspec": {
   "display_name": "Python 3 (ipykernel)",
   "language": "python",
   "name": "python3"
  },
  "language_info": {
   "codemirror_mode": {
    "name": "ipython",
    "version": 3
   },
   "file_extension": ".py",
   "mimetype": "text/x-python",
   "name": "python",
   "nbconvert_exporter": "python",
   "pygments_lexer": "ipython3",
   "version": "3.9.13"
  }
 },
 "nbformat": 4,
 "nbformat_minor": 5
}

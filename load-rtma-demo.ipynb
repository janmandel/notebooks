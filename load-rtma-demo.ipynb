{
 "cells": [
  {
   "cell_type": "markdown",
   "metadata": {
    "id": "S_RNHEsfKCu7"
   },
   "source": [
    "Upgrading numpy first. pygrib requires up to date numpy while colab has an old version of numpy, perhaps for compatibility with tensorflow. If the upgrade was needed, the runtime kills itself and restarts, then you need to run the notebook again. "
   ]
  },
  {
   "cell_type": "code",
   "execution_count": 1,
   "metadata": {
    "executionInfo": {
     "elapsed": 119,
     "status": "ok",
     "timestamp": 1633285232385,
     "user": {
      "displayName": "WRF Fire",
      "photoUrl": "https://lh3.googleusercontent.com/a/default-user=s64",
      "userId": "09833348162306222387"
     },
     "user_tz": 360
    },
    "id": "4Vy5r9Ug2iBO"
   },
   "outputs": [],
   "source": [
    "import numpy as np, os\n",
    "if not [int(i) for i in np.__version__.split('.')] >= [1,20,1]: # check numpy version\n",
    "  print('Upgrading numpy and stopping RUNTIME! When the notebook completes, please run again.')\n",
    "  ! pip install --upgrade numpy    # suggested by Efosa, see also https://github.com/jswhit/pygrib/issues/192\n",
    "  os.kill(os.getpid(), 9)          # kill the runtime, need to run again from the beginning"
   ]
  },
  {
   "cell_type": "markdown",
   "metadata": {
    "id": "pY4hPeATK9wZ"
   },
   "source": [
    "Installing dependences:"
   ]
  },
  {
   "cell_type": "code",
   "execution_count": 2,
   "metadata": {
    "colab": {
     "base_uri": "https://localhost:8080/"
    },
    "executionInfo": {
     "elapsed": 3061,
     "status": "ok",
     "timestamp": 1633285235583,
     "user": {
      "displayName": "WRF Fire",
      "photoUrl": "https://lh3.googleusercontent.com/a/default-user=s64",
      "userId": "09833348162306222387"
     },
     "user_tz": 360
    },
    "id": "TwqwYQrBLDck",
    "outputId": "2eb14e59-9297-4dc1-c328-4d3527297eb6"
   },
   "outputs": [
    {
     "name": "stdout",
     "output_type": "stream",
     "text": [
      "Requirement already satisfied: pygrib in /Users/jmandel/opt/anaconda3/lib/python3.8/site-packages (2.1.4)\n",
      "Requirement already satisfied: pyproj in /Users/jmandel/opt/anaconda3/lib/python3.8/site-packages (from pygrib) (3.2.1)\n",
      "Requirement already satisfied: numpy in /Users/jmandel/opt/anaconda3/lib/python3.8/site-packages (from pygrib) (1.21.2)\n",
      "Requirement already satisfied: certifi in /Users/jmandel/opt/anaconda3/lib/python3.8/site-packages (from pyproj->pygrib) (2020.6.20)\n",
      "File ‘grib_file.py’ already there; not retrieving.\n",
      "\n"
     ]
    }
   ],
   "source": [
    "! pip install pygrib   \n",
    "! wget --no-clobber https://raw.githubusercontent.com/openwfm/wrfxpy/master/src/ingest/grib_file.py\n",
    "from grib_file import GribFile     # Martin's utility layer on top of  pygrib,from wrfxpy\n",
    "import numpy as np, os # imported before, just in case\n"
   ]
  },
  {
   "cell_type": "markdown",
   "metadata": {
    "id": "dQ-uJI2sy6I3"
   },
   "source": [
    "Create a function to transfer RTMA file in GRIP2 format from the stash. The function returns zero if the file transfer succeeded. If the file is not available, it returns a nonzero value. Note: if needed, maybe in future add more sophisticated checks, check the return code of wget and if the file size is correct."
   ]
  },
  {
   "cell_type": "code",
   "execution_count": 3,
   "metadata": {
    "executionInfo": {
     "elapsed": 3,
     "status": "ok",
     "timestamp": 1633285235584,
     "user": {
      "displayName": "WRF Fire",
      "photoUrl": "https://lh3.googleusercontent.com/a/default-user=s64",
      "userId": "09833348162306222387"
     },
     "user_tz": 360
    },
    "id": "mxZABVDxt0gd"
   },
   "outputs": [],
   "source": [
    "import subprocess,os\n",
    "def load_rtma(path,file):\n",
    "  url='http://math.ucdenver.edu/~jmandel/rtma/' + path\n",
    "  if os.path.exists(file):\n",
    "    print(file + ' already exists, removing')\n",
    "    os.remove(file)\n",
    "  try:\n",
    "    ret = subprocess.check_output(['wget','--no-clobber','--output-document='+ file, url,],stderr=subprocess.STDOUT).decode() # execute command from python strings\n",
    "    if os.path.exists(file):\n",
    "      print('loaded ' + url + ' as ' + file)\n",
    "      return 0\n",
    "    else: \n",
    "      print('file transfer completed, but the file is missing? ' + url)  \n",
    "      return 1\n",
    "  except:\n",
    "    print('file transfer failed: ' + url)\n",
    "    return 2\n"
   ]
  },
  {
   "cell_type": "markdown",
   "metadata": {
    "id": "THI6gElyHOOc"
   },
   "source": [
    "Testing the file transfer:"
   ]
  },
  {
   "cell_type": "code",
   "execution_count": 4,
   "metadata": {
    "colab": {
     "base_uri": "https://localhost:8080/"
    },
    "executionInfo": {
     "elapsed": 467,
     "status": "ok",
     "timestamp": 1633285236049,
     "user": {
      "displayName": "WRF Fire",
      "photoUrl": "https://lh3.googleusercontent.com/a/default-user=s64",
      "userId": "09833348162306222387"
     },
     "user_tz": 360
    },
    "id": "Dwbt4UXfro5x",
    "outputId": "99320267-88f4-4a7a-ba4f-944ccfccde1b"
   },
   "outputs": [
    {
     "name": "stdout",
     "output_type": "stream",
     "text": [
      "loaded http://math.ucdenver.edu/~jmandel/rtma/20180518/00/temp.grib as temp.grib\n"
     ]
    }
   ],
   "source": [
    "year, month, day, hour, variable  = (2018, 5, 18, 00, 'temp')  # year, month, day, hour, variable\n",
    "file = variable + '.grib'\n",
    "path = '%4i%02i%02i/%02i/%s' % (year, month, day, hour, file)\n",
    "\n",
    "ret=load_rtma(path,file)   # load the file; ret is the return value that can be tested in application\n",
    "\n"
   ]
  },
  {
   "cell_type": "markdown",
   "metadata": {
    "id": "_yRu_7WvHc6P"
   },
   "source": [
    "Trying to read the file and a basic sanity check if the values make sense:"
   ]
  },
  {
   "cell_type": "code",
   "execution_count": 5,
   "metadata": {
    "colab": {
     "base_uri": "https://localhost:8080/"
    },
    "executionInfo": {
     "elapsed": 978,
     "status": "ok",
     "timestamp": 1633285237026,
     "user": {
      "displayName": "WRF Fire",
      "photoUrl": "https://lh3.googleusercontent.com/a/default-user=s64",
      "userId": "09833348162306222387"
     },
     "user_tz": 360
    },
    "id": "0uSEAB1dZc7P",
    "outputId": "ad890053-1452-49c2-e955-966973932827"
   },
   "outputs": [
    {
     "name": "stdout",
     "output_type": "stream",
     "text": [
      "min lats 20.191999000000006 max 52.80766860325035\n",
      "shape (1377, 2145)\n",
      "min lons -130.10343806997807 max -60.885557729221034\n",
      "shape (1377, 2145)\n",
      "min temp 266.84000000000003 max 315.01\n",
      "shape (1377, 2145)\n"
     ]
    }
   ],
   "source": [
    "gf = GribFile(file)[1]        # grib file consists of \"messages\" (basically, variables), rtma files have only one\n",
    "lats, lons = gf.latlons()     # grid of geo coodinates (computed), should be the same for all rtma files here\n",
    "lats = np.array(lats)         # tuple to numpy array\n",
    "lons = np.array(lons)         # tuple to numpy array\n",
    "temp = np.array(gf.values())  # the actual variable values (here, T at 2m in K)\n",
    "\n",
    "print('min lats %s max %s' % (np.amin(lats),np.amax(lats)))\n",
    "print('shape',lats.shape)\n",
    "print('min lons %s max %s' % (np.amin(lons),np.amax(lons)))\n",
    "print('shape',lons.shape)\n",
    "print('min temp %s max %s' % (np.amin(temp),np.amax(temp)))\n",
    "print('shape',temp.shape)\n"
   ]
  },
  {
   "cell_type": "markdown",
   "metadata": {
    "id": "-u_piG3uICUA"
   },
   "source": [
    "One special grib file with the terrain height is stored at the root of the stash. This file is a part of the RTMA dataset but no need to download and store every hour, the data should never change. Trying to read it and doing a sanity check. Also,checking if the grid coordinages in this file are the same as before.\n"
   ]
  },
  {
   "cell_type": "code",
   "execution_count": 6,
   "metadata": {
    "colab": {
     "base_uri": "https://localhost:8080/"
    },
    "executionInfo": {
     "elapsed": 1452,
     "status": "ok",
     "timestamp": 1633285238477,
     "user": {
      "displayName": "WRF Fire",
      "photoUrl": "https://lh3.googleusercontent.com/a/default-user=s64",
      "userId": "09833348162306222387"
     },
     "user_tz": 360
    },
    "id": "JZlX8BVl4HRB",
    "outputId": "77812006-9b98-4936-961c-8672822abfdc"
   },
   "outputs": [
    {
     "name": "stdout",
     "output_type": "stream",
     "text": [
      "ds.terrainh.bin already exists, removing\n",
      "loaded http://math.ucdenver.edu/~jmandel/rtma/ds.terrainh.bin as ds.terrainh.bin\n",
      "min height -76.60000000000001 max 4156.900000000001\n",
      "shape (1377, 2145)\n",
      "difference in lats 0.0 lons 0.0\n"
     ]
    }
   ],
   "source": [
    "hf='ds.terrainh.bin'   # terrain height, same in rtma at all times\n",
    "load_rtma(hf,hf)\n",
    "gf = GribFile(hf)[1] \n",
    "hgt = np.array(gf.values()) # height in m\n",
    "print('min height %s max %s' % (np.amin(hgt),np.amax(hgt)))\n",
    "print('shape',hgt.shape)\n",
    "hlats, hlons = gf.latlons()     # grid of geo coodinates (computed), should be the same for all rtma files here\n",
    "hlats = np.array(hlats)         # tuple to numpy array\n",
    "hlons = np.array(hlons) \n",
    "print('difference in lats %s lons %s' % (np.amax(np.absolute(lats-hlats)), np.amax(np.absolute(lons-hlons))))\n"
   ]
  }
 ],
 "metadata": {
  "colab": {
   "authorship_tag": "ABX9TyP4ue0fNwFqLrtHTL/TAAi3",
   "collapsed_sections": [],
   "name": "load-rtma-demo.ipynb",
   "provenance": []
  },
  "kernelspec": {
   "display_name": "Python 3",
   "language": "python",
   "name": "python3"
  },
  "language_info": {
   "codemirror_mode": {
    "name": "ipython",
    "version": 3
   },
   "file_extension": ".py",
   "mimetype": "text/x-python",
   "name": "python",
   "nbconvert_exporter": "python",
   "pygments_lexer": "ipython3",
   "version": "3.8.5"
  }
 },
 "nbformat": 4,
 "nbformat_minor": 1
}

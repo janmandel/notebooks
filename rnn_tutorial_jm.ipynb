{
  "nbformat": 4,
  "nbformat_minor": 0,
  "metadata": {
    "colab": {
      "name": "rnn_tutorial_jm.ipynb",
      "provenance": [],
      "collapsed_sections": []
    },
    "kernelspec": {
      "name": "python3",
      "display_name": "Python 3"
    },
    "language_info": {
      "name": "python"
    }
  },
  "cells": [
    {
      "cell_type": "markdown",
      "metadata": {
        "id": "hEhvqXQBNN6r"
      },
      "source": [
        "# Understanding Simple Recurrent Neural Networks In Keras\n",
        "From https://machinelearningmastery.com/understanding-simple-recurrent-neural-networks-in-keras/ \n",
        "With changes by Jan Mandel\n",
        "2021-12-26: small changes for clarity\n",
        "2022-06-16: added same by functional interface"
      ]
    },
    {
      "cell_type": "markdown",
      "metadata": {
        "id": "pINycjukQijP"
      },
      "source": [
        "This tutorial is designed for anyone looking for an understanding of how recurrent neural networks (RNN) work and how to use them via the Keras deep learning library. While all the methods required for solving problems and building applications are provided by the Keras library, it is also important to gain an insight on how everything works. In this article, the computations taking place in the RNN model are shown step by step. Next, a complete end to end system for time series prediction is developed.\n",
        "\n",
        "After completing this tutorial, you will know:\n",
        "\n",
        "* The structure of RNN\n",
        "* How RNN computes the output when given an input\n",
        "* How to prepare data for a SimpleRNN in Keras\n",
        "* How to train a SimpleRNN model\n",
        "\n",
        "Let’s get started."
      ]
    },
    {
      "cell_type": "markdown",
      "metadata": {
        "id": "3D7sqhF-QtJ4"
      },
      "source": [
        "## Tutorial Overview\n",
        "\n",
        "This tutorial is divided into two parts; they are:\n",
        "\n",
        "1. The structure of the RNN\n",
        "  1. Different weights and biases associated with different layers of the RNN.\n",
        "  2. How computations are performed to compute the output when given an input.\n",
        "2. A complete application for time series prediction."
      ]
    },
    {
      "cell_type": "markdown",
      "metadata": {
        "id": "jU0opwkmQ9wm"
      },
      "source": [
        "## Prerequisites\n",
        "\n",
        "It is assumed that you have a basic understanding of RNNs before you start implementing them. An [Introduction To Recurrent Neural Networks And The Math That Powers Them](https://machinelearningmastery.com/an-introduction-to-recurrent-neural-networks-and-the-math-that-powers-them) gives you a quick overview of RNNs.\n",
        "\n",
        "Let’s now get right down to the implementation part."
      ]
    },
    {
      "cell_type": "markdown",
      "metadata": {
        "id": "-UcYCr1FMaE7"
      },
      "source": [
        "## Import section"
      ]
    },
    {
      "cell_type": "code",
      "metadata": {
        "id": "FimVgAB4LsI9"
      },
      "source": [
        "from pandas import read_csv\n",
        "import numpy as np\n",
        "from keras.models import Sequential\n",
        "from keras.layers import Dense, SimpleRNN\n",
        "from sklearn.preprocessing import MinMaxScaler\n",
        "from sklearn.metrics import mean_squared_error\n",
        "import math\n",
        "import matplotlib.pyplot as plt\n",
        "import tensorflow as tf"
      ],
      "execution_count": null,
      "outputs": []
    },
    {
      "cell_type": "markdown",
      "metadata": {
        "id": "O-okDDv9Md4Z"
      },
      "source": [
        "## Keras SimpleRNN"
      ]
    },
    {
      "cell_type": "markdown",
      "metadata": {
        "id": "W-WQZp0qRta0"
      },
      "source": [
        "The function below returns a model that includes a SimpleRNN layer and a Dense layer for learning sequential data. The input_shape specifies the parameter (time_steps x features). We’ll simplify everything and use univariate data, i.e., one feature only; the time_steps are discussed below."
      ]
    },
    {
      "cell_type": "code",
      "source": [
        "api_type = 2   # 1 = sequential, 2 = functional"
      ],
      "metadata": {
        "id": "Qf35beQp1Ewv"
      },
      "execution_count": null,
      "outputs": []
    },
    {
      "cell_type": "code",
      "metadata": {
        "id": "Aoh0LWQ7Ltdk"
      },
      "source": [
        "def create_RNN_sequential(hidden_units, dense_units, input_shape, activation):\n",
        "    model = Sequential()\n",
        "    model.add(SimpleRNN(hidden_units, input_shape=input_shape, \n",
        "                        activation=activation[0]))\n",
        "    model.add(Dense(units=dense_units, activation=activation[1]))\n",
        "    model.compile(loss='mean_squared_error', optimizer='adam')\n",
        "    return model"
      ],
      "execution_count": null,
      "outputs": []
    },
    {
      "cell_type": "code",
      "source": [
        "def create_RNN_functional(hidden_units, dense_units, input_shape, activation,\n",
        "                          return_sequences=False):\n",
        "    inputs = tf.keras.Input(shape=input_shape)\n",
        "    x = tf.keras.layers.SimpleRNN(hidden_units, input_shape=input_shape,\n",
        "                        return_sequences=return_sequences,\n",
        "                        activation=activation[0])(inputs)\n",
        "    outputs = tf.keras.layers.Dense(dense_units, activation=activation[1])(x)\n",
        "    model = tf.keras.Model(inputs=inputs, outputs=outputs)\n",
        "    model.compile(loss='mean_squared_error', optimizer='adam')\n",
        "    return model"
      ],
      "metadata": {
        "id": "zBQxW0h8pvGb"
      },
      "execution_count": null,
      "outputs": []
    },
    {
      "cell_type": "code",
      "source": [
        "def create_RNN(hidden_units, dense_units, input_shape, activation):\n",
        "    if api_type==1:\n",
        "      print('using sequential api')\n",
        "      return create_RNN_sequential(hidden_units, dense_units, input_shape, activation)\n",
        "    if api_type==2:\n",
        "      print('using functional api')\n",
        "      return create_RNN_functional(hidden_units, dense_units, input_shape, activation)\n",
        "    print('api_type must be 1 or 2, got ',api_type)\n",
        "    raise(ValueError)\n",
        "\n",
        "demo_model = create_RNN(hidden_units=2, dense_units=1, input_shape=(3,1), \n",
        "                        activation=['linear', 'linear'])"
      ],
      "metadata": {
        "id": "dYLai9HypVRo"
      },
      "execution_count": null,
      "outputs": []
    },
    {
      "cell_type": "markdown",
      "metadata": {
        "id": "_CZtOyDPSuMy"
      },
      "source": [
        "The object demo_model is returned with 2 hidden units created via a the SimpleRNN layer and 1 dense unit created via the Dense layer. The input_shape is set at 3×1 and a linear activation function is used in both layers for simplicity. Just to recall the linear activation function f(x)=x makes no change in the input."
      ]
    },
    {
      "cell_type": "code",
      "source": [
        "print(dir(demo_model))\n",
        "# help(demo_model)\n",
        "help(demo_model.get_weights)"
      ],
      "metadata": {
        "id": "TgDQmxwQpUtw"
      },
      "execution_count": null,
      "outputs": []
    },
    {
      "cell_type": "markdown",
      "metadata": {
        "id": "BI0vVCjQTBPF"
      },
      "source": [
        "Look at the model following https://machinelearningmastery.com/visualize-deep-learning-neural-network-model-keras/ :"
      ]
    },
    {
      "cell_type": "code",
      "metadata": {
        "id": "Rdz2nblaTMV5"
      },
      "source": [
        "print(demo_model.summary())\n",
        "from keras.utils.vis_utils import plot_model\n",
        "plot_model(demo_model, to_file='model_plot.png', \n",
        "           show_shapes=True, show_layer_names=True)"
      ],
      "execution_count": null,
      "outputs": []
    },
    {
      "cell_type": "markdown",
      "metadata": {
        "id": "6KMS82uNTZz4"
      },
      "source": [
        "If we have m\n",
        " hidden units (\n",
        "m\n",
        "=\n",
        "2\n",
        " in the above case), then:\n",
        "* Input: \n",
        "x\n",
        "∈\n",
        "R\n",
        "* Hidden unit: \n",
        "h\n",
        "∈\n",
        "R<sup>m</sup>\n",
        "* Weights for input units: \n",
        "w<sub>x</sub>\n",
        "∈\n",
        " R<sup>m</sup>\n",
        "* Weights for hidden units: \n",
        "w<sub>h</sub>\n",
        "∈\n",
        "R<sup>m x m</sup>\n",
        "* Bias for hidden units: \n",
        "b<sub>h</sub>\n",
        "∈\n",
        "R\n",
        "<sup>m</sup>\n",
        "*Weight for the dense layer: \n",
        "w<sub>y</sub>\n",
        "∈\n",
        "R\n",
        "<sup>m</sup>\n",
        "*Bias for the dense layer: \n",
        "b<sub>y</sub>\n",
        "∈\n",
        "R\n",
        "\n",
        "Let’s look at the above weights. The weights are generated randomly so they will be different every time. The important thing is to learn what the structure of each object being used looks like and how it interacts with others to produce the final output. The get_weights() method of the model object returns a list of arrays, which consists of the weights and the bias of each layer, in the order of the layers. The first layer's input takes two entries, the (external) input values and the values of the hidden variables from the previous step."
      ]
    },
    {
      "cell_type": "code",
      "metadata": {
        "id": "f-C4rYMDL1_l"
      },
      "source": [
        "w = demo_model.get_weights()\n",
        "#print(len(w),' weight arrays:',w)\n",
        "wname=('wx','wh','bh','wy','by','wz','bz')\n",
        "for i in range(len(w)):\n",
        "  print(i,':',wname[i],'shape=',w[i].shape)\n",
        "\n",
        "wx = w[0]\n",
        "wh = w[1]\n",
        "bh = w[2]\n",
        "wy = w[3]\n",
        "by = w[4]"
      ],
      "execution_count": null,
      "outputs": []
    },
    {
      "cell_type": "code",
      "source": [
        "# help(SimpleRNN)"
      ],
      "metadata": {
        "id": "kNzpNlwP4MSs"
      },
      "execution_count": null,
      "outputs": []
    },
    {
      "cell_type": "markdown",
      "metadata": {
        "id": "oks2sHZlUQZB"
      },
      "source": [
        "Now let’s do a simple experiment to see how the layers from a SimpleRNN and Dense layer produce an output. Keep this figure in view.\n",
        "<img src=\"https://machinelearningmastery.com/wp-content/uploads/2021/09/rnnCode1.png\">"
      ]
    },
    {
      "cell_type": "markdown",
      "metadata": {
        "id": "eGi9cUkgUkTe"
      },
      "source": [
        "We’ll input x for three time steps and let the network generate an output. The values of the hidden units at time steps 1, 2 and 3 will be computed. \n",
        "h<sub>0</sub>\n",
        " is initialized to the zero vector. The output \n",
        "o<sub>3</sub>\n",
        " is computed from \n",
        "h<sub>3</sub>\n",
        " and \n",
        "w<sub>3</sub>\n",
        ". An activation function is linear, f(x)=x, so the update of $h(k)$ and the output $o(k)$ are given by"
      ]
    },
    {
      "cell_type": "markdown",
      "metadata": {
        "id": "QSD8ABJXxS7K"
      },
      "source": [
        "\\begin{align*}\n",
        "h\\left(  0\\right)  = &\\left[\n",
        "\\begin{array}\n",
        "[c]{c}%\n",
        "0\\\\\n",
        "0\n",
        "\\end{array}\n",
        "\\right]  \\\\\n",
        "h\\left(  k+1\\right)  =&x\\left(  k\\right)  \\left[\n",
        "\\begin{array}\n",
        "[c]{c}%\n",
        "w_{x,0}\\\\\n",
        "w_{x,1}%\n",
        "\\end{array}\n",
        "\\right]  +\\left[  h_{0}(k),h_{1}(k)\\right]  \\left[\n",
        "\\begin{array}\n",
        "[c]{cc}%\n",
        "w_{h,00} & w_{h,01}\\\\\n",
        "w_{h,10} & w_{h,11}%\n",
        "\\end{array}\n",
        "\\right]  +\\left[\n",
        "\\begin{array}\n",
        "[c]{c}%\n",
        "b_{h,0}\\\\\n",
        "b_{h,1}%\n",
        "\\end{array}\n",
        "\\right]  \\\\\n",
        "o(k+1)=& \\left[  h_{0}(k+1),h_{1}(k+1)\\right]  \\left[\n",
        "\\begin{array}\n",
        "[c]{c}%\n",
        "w_{y,0}\\\\\n",
        "w_{y,1}%\n",
        "\\end{array}\n",
        "\\right] \n",
        "\\end{align*}\n"
      ]
    },
    {
      "cell_type": "markdown",
      "metadata": {
        "id": "MAvXBZodx8RP"
      },
      "source": [
        "We compute this for $k=1,2,3$ and compare with the output of the model:"
      ]
    },
    {
      "cell_type": "code",
      "metadata": {
        "id": "kMOhAImzL7Ch"
      },
      "source": [
        "w = demo_model.get_weights()\n",
        "wx = w[0]\n",
        "wh = w[1]\n",
        "bh = w[2]\n",
        "wy = w[3]\n",
        "by = w[4]\n",
        "x = np.array([1, 2, 3])\n",
        "# Reshape the input to the required sample_size x time_steps x features \n",
        "x_input = np.reshape(x,(1, 3, 1))\n",
        "y_pred_model = demo_model.predict(x_input)\n",
        "\n",
        "\n",
        "m = 2\n",
        "h0 = np.zeros(m)\n",
        "h1 = np.dot(x[0], wx) + np.dot(h0,wh) + bh\n",
        "h2 = np.dot(x[1], wx) + np.dot(h1,wh) + bh\n",
        "h3 = np.dot(x[2], wx) + np.dot(h2,wh) + bh\n",
        "o3 = np.dot(h3, wy) + by\n",
        "\n",
        "print('h1 = ', h1,'h2 = ', h2,'h3 = ', h3)\n",
        "\n",
        "print(\"Prediction from network \", y_pred_model)\n",
        "print(\"Prediction from our computation \", o3)"
      ],
      "execution_count": null,
      "outputs": []
    },
    {
      "cell_type": "code",
      "source": [
        "# the same using arrays\n",
        "demo_model = create_RNN_functional(hidden_units=2, dense_units=1, input_shape=(3,1), \n",
        "                        activation=['linear', 'linear'],return_sequences=True)\n",
        "w = demo_model.get_weights()\n",
        "\n",
        "x = np.array([1, 2, 3])\n",
        "# Reshape the input to the required sample_size x time_steps x features \n",
        "x_input = np.reshape(x,(1, 3, 1))\n",
        "y_pred_model = demo_model.predict(x_input)\n",
        "\n",
        "h = np.zeros(2)\n",
        "o = np.empty(3)\n",
        "for i in range(3):\n",
        "  h = np.dot(x[i], w[0]) + np.dot(h, w[1]) + w[2]\n",
        "  o[i]=np.dot(h, w[3]) + w[4]\n",
        "\n",
        "print(\"Prediction from network \", y_pred_model)\n",
        "print(\"Prediction from our computation \", o)"
      ],
      "metadata": {
        "id": "Q2kuhi2KBNY4"
      },
      "execution_count": null,
      "outputs": []
    },
    {
      "cell_type": "markdown",
      "metadata": {
        "id": "JopR12ZaVAyS"
      },
      "source": [
        "The predictions came out the same! This confirms that we know what the network is doing."
      ]
    },
    {
      "cell_type": "markdown",
      "metadata": {
        "id": "dHGF-tofMpJP"
      },
      "source": [
        "## Step 1, 2: Reading Data and Splitting Into Train And Test"
      ]
    },
    {
      "cell_type": "markdown",
      "metadata": {
        "id": "5x748YZuY-yL"
      },
      "source": [
        "The following function reads the train and test data from a given URL and splits it into a given percentage of train and test data. It returns single dimensional arrays for train and test data after scaling the data between 0 and 1 using MinMaxScaler from scikit-learn."
      ]
    },
    {
      "cell_type": "code",
      "metadata": {
        "id": "JyrxUuiuL8gv"
      },
      "source": [
        "# Parameter split_percent defines the ratio of training examples\n",
        "def get_train_test(data, split_percent=0.8):\n",
        "    scaler = MinMaxScaler(feature_range=(0, 1))\n",
        "    data = scaler.fit_transform(data).flatten()\n",
        "    n = len(data)\n",
        "    # Point for splitting data into train and test\n",
        "    split = int(n*split_percent)\n",
        "    train_data = data[range(split)]\n",
        "    test_data = data[split:]\n",
        "    return train_data, test_data, data\n",
        "\n",
        "sunspots_url = 'https://raw.githubusercontent.com/jbrownlee/Datasets/master/monthly-sunspots.csv'\n",
        "df = read_csv(sunspots_url, usecols=[1], engine='python')\n",
        "train_data, test_data, data = get_train_test(np.array(df.values.astype('float32')))"
      ],
      "execution_count": null,
      "outputs": []
    },
    {
      "cell_type": "markdown",
      "metadata": {
        "id": "iCsHwJOcZMJ7"
      },
      "source": [
        "Let's print the data shape so that we know what we got."
      ]
    },
    {
      "cell_type": "code",
      "metadata": {
        "id": "h5AmHug8JViT"
      },
      "source": [
        "data.shape"
      ],
      "execution_count": null,
      "outputs": []
    },
    {
      "cell_type": "markdown",
      "metadata": {
        "id": "QHoBV8CSMt44"
      },
      "source": [
        "## Step 3: Reshaping Data For Keras"
      ]
    },
    {
      "cell_type": "markdown",
      "metadata": {
        "id": "B1CW_mu8Zbwb"
      },
      "source": [
        "The next step is to prepare the data for Keras model training. The input array should be shaped as: **(total_samples, x time_steps, x features)**.\n",
        "There are many ways of preparing time series data for training. We’ll create input rows with non-overlapping time steps. An example is shown in the figure below. Here time_steps denotes the number of previous time steps to use for predicting the next value of the time series data. We have for time_steps = 2, features = 1, and the first 6 terms are split total_samples=3 samples: 0, 10 predict the next term 20, then 20, 30 predict the next term 40, etc."
      ]
    },
    {
      "cell_type": "markdown",
      "metadata": {
        "id": "OeEc_dmqZmtx"
      },
      "source": [
        "<img src=\"https://machinelearningmastery.com/wp-content/uploads/2021/09/rnnCode2.png\">"
      ]
    },
    {
      "cell_type": "markdown",
      "metadata": {
        "id": "iLqm8291Pd5X"
      },
      "source": [
        "The following function get_XY() takes a one dimensional array as input and converts it to the required input X and target Y arrays."
      ]
    },
    {
      "cell_type": "code",
      "metadata": {
        "id": "IxJEj52BL__o"
      },
      "source": [
        "# Prepare the input X and target Y\n",
        "def get_XY(dat, time_steps):\n",
        "    # Indices of target array\n",
        "    Y_ind = np.arange(time_steps, len(dat), time_steps)\n",
        "    Y = dat[Y_ind]\n",
        "    # Prepare X\n",
        "    rows_x = len(Y)\n",
        "    X = dat[range(time_steps*rows_x)]\n",
        "    X = np.reshape(X, (rows_x, time_steps, 1))    \n",
        "    return X, Y"
      ],
      "execution_count": null,
      "outputs": []
    },
    {
      "cell_type": "markdown",
      "metadata": {
        "id": "RFhadJjzQO7p"
      },
      "source": [
        "For illustration, on the simple example above it returns the expected result: "
      ]
    },
    {
      "cell_type": "code",
      "metadata": {
        "id": "V38oXJ32QiFK"
      },
      "source": [
        "dat = np.linspace(0.,70.,8).reshape(-1,1)\n",
        "print(\"dat shape=\",dat.shape)\n",
        "X, Y = get_XY(dat, 2)\n",
        "print(\"X shape=\",X.shape)\n",
        "print(\"Y shape=\",Y.shape)\n",
        "#print('dat=',dat)\n",
        "print('X=',X)\n",
        "print('Y=',Y)\n"
      ],
      "execution_count": null,
      "outputs": []
    },
    {
      "cell_type": "markdown",
      "metadata": {
        "id": "4V4IE7TvQpDW"
      },
      "source": [
        "Now use it for the sunspot data.  We’ll use 12 time_steps for the sunspots dataset as the sunspots generally have a cycle of 12 months. You can experiment with other values of time_steps."
      ]
    },
    {
      "cell_type": "code",
      "metadata": {
        "id": "YBnBPDxiQsjL"
      },
      "source": [
        "time_steps = 24\n",
        "trainX, trainY = get_XY(train_data, time_steps)\n",
        "testX, testY = get_XY(test_data, time_steps)\n",
        "print(\"trainX shape=\",trainX.shape)\n",
        "print(\"trainY shape=\",trainY.shape)\n",
        "print(\"testX shape=\",testX.shape)\n",
        "print(\"testY shape=\",testY.shape)"
      ],
      "execution_count": null,
      "outputs": []
    },
    {
      "cell_type": "markdown",
      "metadata": {
        "id": "Xz2JRTGKMzo2"
      },
      "source": [
        "## Step 4: Create RNN Model And Train"
      ]
    },
    {
      "cell_type": "code",
      "metadata": {
        "id": "SyAE6XLnMGDO"
      },
      "source": [
        "model = create_RNN(hidden_units=3, dense_units=1, input_shape=(time_steps,1), \n",
        "                   activation=['tanh', 'tanh'])\n",
        "model.fit(trainX, trainY, epochs=20, batch_size=1, verbose=2)"
      ],
      "execution_count": null,
      "outputs": []
    },
    {
      "cell_type": "markdown",
      "metadata": {
        "id": "tluiPIaxM9FH"
      },
      "source": [
        "## Step 5: Compute And Print The Root Mean Square Error"
      ]
    },
    {
      "cell_type": "code",
      "metadata": {
        "id": "LnWdCmqJMK-k"
      },
      "source": [
        "def print_error(trainY, testY, train_predict, test_predict):    \n",
        "    # Error of predictions\n",
        "    train_rmse = math.sqrt(mean_squared_error(trainY, train_predict))\n",
        "    test_rmse = math.sqrt(mean_squared_error(testY, test_predict))\n",
        "    # Print RMSE\n",
        "    print('Train RMSE: %.3f RMSE' % (train_rmse))\n",
        "    print('Test RMSE: %.3f RMSE' % (test_rmse))    \n",
        "\n",
        "# make predictions\n",
        "train_predict = model.predict(trainX)\n",
        "test_predict = model.predict(testX)\n",
        "# Mean square error\n",
        "print_error(trainY, testY, train_predict, test_predict)"
      ],
      "execution_count": null,
      "outputs": []
    },
    {
      "cell_type": "markdown",
      "metadata": {
        "id": "eed7244NNHs9"
      },
      "source": [
        ""
      ]
    },
    {
      "cell_type": "markdown",
      "metadata": {
        "id": "nDwJvflyNGz3"
      },
      "source": [
        "## Step 6: View The result"
      ]
    },
    {
      "cell_type": "code",
      "metadata": {
        "id": "fQPjWHWvMMGL"
      },
      "source": [
        "# Plot the result\n",
        "def plot_result(trainY, testY, train_predict, test_predict):\n",
        "    actual = np.append(trainY, testY)\n",
        "    predictions = np.append(train_predict, test_predict)\n",
        "    rows = len(actual)\n",
        "    plt.figure(figsize=(15, 6), dpi=80)\n",
        "    plt.plot(range(rows), actual)\n",
        "    plt.plot(range(rows), predictions)\n",
        "    plt.axvline(x=len(trainY), color='r')\n",
        "    plt.legend(['Actual', 'Predictions'])\n",
        "    plt.xlabel('Observation number after given time steps')\n",
        "    plt.ylabel('Sunspots scaled')\n",
        "    plt.title('Actual and Predicted Values. The Red Line Separates The Training And Test Examples')\n",
        "plot_result(trainY, testY, train_predict, test_predict)"
      ],
      "execution_count": null,
      "outputs": []
    }
  ]
}
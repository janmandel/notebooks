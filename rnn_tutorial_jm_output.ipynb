{
  "nbformat": 4,
  "nbformat_minor": 0,
  "metadata": {
    "colab": {
      "name": "rnn_tutorial_jm.ipynb",
      "provenance": [],
      "collapsed_sections": []
    },
    "kernelspec": {
      "name": "python3",
      "display_name": "Python 3"
    },
    "language_info": {
      "name": "python"
    }
  },
  "cells": [
    {
      "cell_type": "markdown",
      "metadata": {
        "id": "hEhvqXQBNN6r"
      },
      "source": [
        "# Understanding Simple Recurrent Neural Networks In Keras\n",
        "From https://machinelearningmastery.com/understanding-simple-recurrent-neural-networks-in-keras/ \n",
        "With changes by Jan Mandel\n",
        "2021-12-26: small changes for clarity\n",
        "2022-06-16: added same by functional interface"
      ]
    },
    {
      "cell_type": "markdown",
      "metadata": {
        "id": "pINycjukQijP"
      },
      "source": [
        "This tutorial is designed for anyone looking for an understanding of how recurrent neural networks (RNN) work and how to use them via the Keras deep learning library. While all the methods required for solving problems and building applications are provided by the Keras library, it is also important to gain an insight on how everything works. In this article, the computations taking place in the RNN model are shown step by step. Next, a complete end to end system for time series prediction is developed.\n",
        "\n",
        "After completing this tutorial, you will know:\n",
        "\n",
        "* The structure of RNN\n",
        "* How RNN computes the output when given an input\n",
        "* How to prepare data for a SimpleRNN in Keras\n",
        "* How to train a SimpleRNN model\n",
        "\n",
        "Let’s get started."
      ]
    },
    {
      "cell_type": "markdown",
      "metadata": {
        "id": "3D7sqhF-QtJ4"
      },
      "source": [
        "## Tutorial Overview\n",
        "\n",
        "This tutorial is divided into two parts; they are:\n",
        "\n",
        "1. The structure of the RNN\n",
        "  1. Different weights and biases associated with different layers of the RNN.\n",
        "  2. How computations are performed to compute the output when given an input.\n",
        "2. A complete application for time series prediction."
      ]
    },
    {
      "cell_type": "markdown",
      "metadata": {
        "id": "jU0opwkmQ9wm"
      },
      "source": [
        "## Prerequisites\n",
        "\n",
        "It is assumed that you have a basic understanding of RNNs before you start implementing them. An [Introduction To Recurrent Neural Networks And The Math That Powers Them](https://machinelearningmastery.com/an-introduction-to-recurrent-neural-networks-and-the-math-that-powers-them) gives you a quick overview of RNNs.\n",
        "\n",
        "Let’s now get right down to the implementation part."
      ]
    },
    {
      "cell_type": "markdown",
      "metadata": {
        "id": "-UcYCr1FMaE7"
      },
      "source": [
        "## Import section"
      ]
    },
    {
      "cell_type": "code",
      "metadata": {
        "id": "FimVgAB4LsI9"
      },
      "source": [
        "from pandas import read_csv\n",
        "import numpy as np\n",
        "from keras.models import Sequential\n",
        "from keras.layers import Dense, SimpleRNN\n",
        "from sklearn.preprocessing import MinMaxScaler\n",
        "from sklearn.metrics import mean_squared_error\n",
        "import math\n",
        "import matplotlib.pyplot as plt\n",
        "import tensorflow as tf"
      ],
      "execution_count": 1,
      "outputs": []
    },
    {
      "cell_type": "markdown",
      "metadata": {
        "id": "O-okDDv9Md4Z"
      },
      "source": [
        "## Keras SimpleRNN"
      ]
    },
    {
      "cell_type": "markdown",
      "metadata": {
        "id": "W-WQZp0qRta0"
      },
      "source": [
        "The function below returns a model that includes a SimpleRNN layer and a Dense layer for learning sequential data. The input_shape specifies the parameter (time_steps x features). We’ll simplify everything and use univariate data, i.e., one feature only; the time_steps are discussed below."
      ]
    },
    {
      "cell_type": "code",
      "source": [
        "api_type = 2   # 1 = sequential, 2 = functional"
      ],
      "metadata": {
        "id": "Qf35beQp1Ewv"
      },
      "execution_count": 2,
      "outputs": []
    },
    {
      "cell_type": "code",
      "metadata": {
        "id": "Aoh0LWQ7Ltdk"
      },
      "source": [
        "def create_RNN_sequential(hidden_units, dense_units, input_shape, activation):\n",
        "    model = Sequential()\n",
        "    model.add(SimpleRNN(hidden_units, input_shape=input_shape, \n",
        "                        activation=activation[0]))\n",
        "    model.add(Dense(units=dense_units, activation=activation[1]))\n",
        "    model.compile(loss='mean_squared_error', optimizer='adam')\n",
        "    return model"
      ],
      "execution_count": 3,
      "outputs": []
    },
    {
      "cell_type": "code",
      "source": [
        "def create_RNN_functional(hidden_units, dense_units, input_shape, activation,\n",
        "                          return_sequences=False):\n",
        "    inputs = tf.keras.Input(shape=input_shape)\n",
        "    x = tf.keras.layers.SimpleRNN(hidden_units, input_shape=input_shape,\n",
        "                        return_sequences=return_sequences,\n",
        "                        activation=activation[0])(inputs)\n",
        "    outputs = tf.keras.layers.Dense(dense_units, activation=activation[1])(x)\n",
        "    model = tf.keras.Model(inputs=inputs, outputs=outputs)\n",
        "    model.compile(loss='mean_squared_error', optimizer='adam')\n",
        "    return model"
      ],
      "metadata": {
        "id": "zBQxW0h8pvGb"
      },
      "execution_count": 4,
      "outputs": []
    },
    {
      "cell_type": "code",
      "source": [
        "def create_RNN(hidden_units, dense_units, input_shape, activation):\n",
        "    if api_type==1:\n",
        "      print('using sequential api')\n",
        "      return create_RNN_sequential(hidden_units, dense_units, input_shape, activation)\n",
        "    if api_type==2:\n",
        "      print('using functional api')\n",
        "      return create_RNN_functional(hidden_units, dense_units, input_shape, activation)\n",
        "    print('api_type must be 1 or 2, got ',api_type)\n",
        "    raise(ValueError)\n",
        "\n",
        "demo_model = create_RNN(hidden_units=2, dense_units=1, input_shape=(3,1), \n",
        "                        activation=['linear', 'linear'])"
      ],
      "metadata": {
        "id": "dYLai9HypVRo",
        "colab": {
          "base_uri": "https://localhost:8080/"
        },
        "outputId": "4b69730d-ccc0-4081-888d-d56254bbc1ad"
      },
      "execution_count": 5,
      "outputs": [
        {
          "output_type": "stream",
          "name": "stdout",
          "text": [
            "using functional api\n"
          ]
        }
      ]
    },
    {
      "cell_type": "markdown",
      "metadata": {
        "id": "_CZtOyDPSuMy"
      },
      "source": [
        "The object demo_model is returned with 2 hidden units created via a the SimpleRNN layer and 1 dense unit created via the Dense layer. The input_shape is set at 3×1 and a linear activation function is used in both layers for simplicity. Just to recall the linear activation function f(x)=x makes no change in the input."
      ]
    },
    {
      "cell_type": "code",
      "source": [
        "print(dir(demo_model))\n",
        "# help(demo_model)\n",
        "help(demo_model.get_weights)"
      ],
      "metadata": {
        "colab": {
          "base_uri": "https://localhost:8080/"
        },
        "id": "TgDQmxwQpUtw",
        "outputId": "cd723670-774f-4ca9-a218-5db711e2badd"
      },
      "execution_count": 6,
      "outputs": [
        {
          "output_type": "stream",
          "name": "stdout",
          "text": [
            "['_SCALAR_UPRANKING_ON', '_TF_MODULE_IGNORED_PROPERTIES', '__call__', '__class__', '__copy__', '__deepcopy__', '__delattr__', '__dict__', '__dir__', '__doc__', '__eq__', '__format__', '__ge__', '__getattribute__', '__getstate__', '__gt__', '__hash__', '__init__', '__init_subclass__', '__le__', '__lt__', '__module__', '__ne__', '__new__', '__reduce__', '__reduce_ex__', '__repr__', '__setattr__', '__setstate__', '__sizeof__', '__str__', '__subclasshook__', '__weakref__', '_activity_regularizer', '_add_trackable', '_add_trackable_child', '_add_variable_with_custom_getter', '_assert_compile_was_called', '_assert_weights_created', '_auto_track_sub_layers', '_autocast', '_autographed_call', '_base_model_initialized', '_build_input_shape', '_call_accepts_kwargs', '_call_arg_was_passed', '_call_fn_arg_defaults', '_call_fn_arg_positions', '_call_fn_args', '_call_full_argspec', '_callable_losses', '_cast_single_input', '_check_call_args', '_checkpoint_dependencies', '_clear_losses', '_cluster_coordinator', '_compile_was_called', '_compiled_trainable_state', '_compute_dtype', '_compute_dtype_object', '_compute_output_and_mask_jointly', '_compute_tensor_usage_count', '_configure_steps_per_execution', '_conform_to_reference_input', '_dedup_weights', '_default_training_arg', '_deferred_dependencies', '_delete_tracking', '_deserialization_dependencies', '_deserialize_from_proto', '_distribution_strategy', '_dtype', '_dtype_policy', '_dynamic', '_eager_losses', '_enable_dict_to_input_mapping', '_expects_mask_arg', '_expects_training_arg', '_feed_input_names', '_feed_input_shapes', '_feed_inputs', '_flatten', '_flatten_layers', '_flatten_modules', '_flatten_to_reference_inputs', '_functional_construction_call', '_gather_children_attribute', '_gather_saveables_for_checkpoint', '_get_call_arg_value', '_get_callback_model', '_get_cell_name', '_get_compile_args', '_get_existing_metric', '_get_input_masks', '_get_legacy_saved_model_children', '_get_node_attribute_at_index', '_get_optimizer', '_get_save_spec', '_get_trainable_state', '_graph_network_add_loss', '_graph_network_add_metric', '_handle_activity_regularization', '_handle_deferred_dependencies', '_handle_deferred_layer_dependencies', '_handle_weight_regularization', '_in_multi_worker_mode', '_inbound_nodes', '_inbound_nodes_value', '_infer_output_signature', '_init_batch_counters', '_init_call_fn_args', '_init_graph_network', '_init_set_name', '_initial_weights', '_input_coordinates', '_input_layers', '_input_spec', '_insert_layers', '_instrument_layer_creation', '_instrumented_keras_api', '_instrumented_keras_layer_class', '_instrumented_keras_model_class', '_is_compiled', '_is_graph_network', '_is_layer', '_is_model_for_instrumentation', '_jit_compile', '_keras_api_names', '_keras_api_names_v1', '_keras_tensor_symbolic_call', '_layer_call_argspecs', '_layer_checkpoint_dependencies', '_list_extra_dependencies_for_serialization', '_list_functions_for_serialization', '_lookup_dependency', '_losses', '_map_resources', '_maybe_build', '_maybe_cast_inputs', '_maybe_create_attribute', '_maybe_initialize_trackable', '_maybe_load_initial_epoch_from_ckpt', '_metrics', '_metrics_lock', '_must_restore_from_config', '_name', '_name_based_attribute_restore', '_name_based_restores', '_name_scope', '_nested_inputs', '_nested_outputs', '_network_nodes', '_no_dependency', '_nodes_by_depth', '_non_trainable_weights', '_obj_reference_counts', '_obj_reference_counts_dict', '_object_identifier', '_outbound_nodes', '_outbound_nodes_value', '_outer_name_scope', '_output_coordinates', '_output_layers', '_output_mask_cache', '_output_shape_cache', '_output_tensor_cache', '_predict_counter', '_preload_simple_restoration', '_preserve_input_structure_in_config', '_reset_compile_cache', '_restore_from_checkpoint_position', '_run_eagerly', '_run_internal_graph', '_saved_model_arg_spec', '_saved_model_inputs_spec', '_self_name_based_restores', '_self_saveable_object_factories', '_self_setattr_tracking', '_self_tracked_trackables', '_self_unconditional_checkpoint_dependencies', '_self_unconditional_deferred_dependencies', '_self_unconditional_dependency_names', '_self_update_uid', '_serialize_to_proto', '_set_call_arg_value', '_set_connectivity_metadata', '_set_dtype_policy', '_set_inputs', '_set_mask_keras_history_checked', '_set_mask_metadata', '_set_output_names', '_set_save_spec', '_set_trainable_state', '_set_training_mode', '_setattr_tracking', '_should_cast_single_input', '_should_compute_mask', '_should_eval', '_single_restoration_from_checkpoint_position', '_split_out_first_arg', '_stateful', '_steps_per_execution', '_supports_masking', '_symbolic_call', '_tensor_usage_count', '_test_counter', '_tf_api_names', '_tf_api_names_v1', '_thread_local', '_track_trackable', '_trackable_children', '_trackable_saved_model_saver', '_trackable_saver', '_tracking_metadata', '_train_counter', '_trainable', '_trainable_weights', '_training_state', '_unconditional_checkpoint_dependencies', '_unconditional_dependency_names', '_undeduplicated_weights', '_update_uid', '_updated_config', '_updates', '_use_input_spec_as_call_signature', '_validate_compile', '_validate_graph_inputs_and_outputs', '_validate_target_and_loss', 'activity_regularizer', 'add_loss', 'add_metric', 'add_update', 'add_variable', 'add_weight', 'apply', 'build', 'built', 'call', 'compile', 'compiled_loss', 'compiled_metrics', 'compute_dtype', 'compute_loss', 'compute_mask', 'compute_metrics', 'compute_output_shape', 'compute_output_signature', 'count_params', 'distribute_strategy', 'dtype', 'dtype_policy', 'dynamic', 'evaluate', 'evaluate_generator', 'finalize_state', 'fit', 'fit_generator', 'from_config', 'get_config', 'get_input_at', 'get_input_mask_at', 'get_input_shape_at', 'get_layer', 'get_losses_for', 'get_output_at', 'get_output_mask_at', 'get_output_shape_at', 'get_updates_for', 'get_weights', 'history', 'inbound_nodes', 'input', 'input_mask', 'input_names', 'input_shape', 'input_spec', 'inputs', 'layers', 'load_weights', 'loss', 'losses', 'make_predict_function', 'make_test_function', 'make_train_function', 'metrics', 'metrics_names', 'name', 'name_scope', 'non_trainable_variables', 'non_trainable_weights', 'optimizer', 'outbound_nodes', 'output', 'output_mask', 'output_names', 'output_shape', 'outputs', 'predict', 'predict_function', 'predict_generator', 'predict_on_batch', 'predict_step', 'reset_metrics', 'reset_states', 'run_eagerly', 'save', 'save_spec', 'save_weights', 'set_weights', 'state_updates', 'stateful', 'stop_training', 'submodules', 'summary', 'supports_masking', 'test_function', 'test_on_batch', 'test_step', 'to_json', 'to_yaml', 'train_function', 'train_on_batch', 'train_step', 'train_tf_function', 'trainable', 'trainable_variables', 'trainable_weights', 'updates', 'variable_dtype', 'variables', 'weights', 'with_name_scope']\n",
            "Help on method get_weights in module keras.engine.training:\n",
            "\n",
            "get_weights() method of keras.engine.functional.Functional instance\n",
            "    Retrieves the weights of the model.\n",
            "    \n",
            "    Returns:\n",
            "        A flat list of Numpy arrays.\n",
            "\n"
          ]
        }
      ]
    },
    {
      "cell_type": "markdown",
      "metadata": {
        "id": "BI0vVCjQTBPF"
      },
      "source": [
        "Look at the model following https://machinelearningmastery.com/visualize-deep-learning-neural-network-model-keras/ :"
      ]
    },
    {
      "cell_type": "code",
      "metadata": {
        "colab": {
          "base_uri": "https://localhost:8080/",
          "height": 598
        },
        "id": "Rdz2nblaTMV5",
        "outputId": "1456977c-479e-4520-b6cf-b3fc55547fc3"
      },
      "source": [
        "print(demo_model.summary())\n",
        "from keras.utils.vis_utils import plot_model\n",
        "plot_model(demo_model, to_file='model_plot.png', \n",
        "           show_shapes=True, show_layer_names=True)"
      ],
      "execution_count": 7,
      "outputs": [
        {
          "output_type": "stream",
          "name": "stdout",
          "text": [
            "Model: \"model\"\n",
            "_________________________________________________________________\n",
            " Layer (type)                Output Shape              Param #   \n",
            "=================================================================\n",
            " input_1 (InputLayer)        [(None, 3, 1)]            0         \n",
            "                                                                 \n",
            " simple_rnn (SimpleRNN)      (None, 2)                 8         \n",
            "                                                                 \n",
            " dense (Dense)               (None, 1)                 3         \n",
            "                                                                 \n",
            "=================================================================\n",
            "Total params: 11\n",
            "Trainable params: 11\n",
            "Non-trainable params: 0\n",
            "_________________________________________________________________\n",
            "None\n"
          ]
        },
        {
          "output_type": "execute_result",
          "data": {
            "text/plain": [
              "<IPython.core.display.Image object>"
            ],
            "image/png": "[encoded data removed]"
          },
          "metadata": {},
          "execution_count": 7
        }
      ]
    },
    {
      "cell_type": "markdown",
      "metadata": {
        "id": "6KMS82uNTZz4"
      },
      "source": [
        "If we have m\n",
        " hidden units (\n",
        "m\n",
        "=\n",
        "2\n",
        " in the above case), then:\n",
        "* Input: \n",
        "x\n",
        "∈\n",
        "R\n",
        "* Hidden unit: \n",
        "h\n",
        "∈\n",
        "R<sup>m</sup>\n",
        "* Weights for input units: \n",
        "w<sub>x</sub>\n",
        "∈\n",
        " R<sup>m</sup>\n",
        "* Weights for hidden units: \n",
        "w<sub>h</sub>\n",
        "∈\n",
        "R<sup>m x m</sup>\n",
        "* Bias for hidden units: \n",
        "b<sub>h</sub>\n",
        "∈\n",
        "R\n",
        "<sup>m</sup>\n",
        "*Weight for the dense layer: \n",
        "w<sub>y</sub>\n",
        "∈\n",
        "R\n",
        "<sup>m</sup>\n",
        "*Bias for the dense layer: \n",
        "b<sub>y</sub>\n",
        "∈\n",
        "R\n",
        "\n",
        "Let’s look at the above weights. The weights are generated randomly so they will be different every time. The important thing is to learn what the structure of each object being used looks like and how it interacts with others to produce the final output. The get_weights() method of the model object returns a list of arrays, which consists of the weights and the bias of each layer, in the order of the layers. The first layer's input takes two entries, the (external) input values and the values of the hidden variables from the previous step."
      ]
    },
    {
      "cell_type": "code",
      "metadata": {
        "colab": {
          "base_uri": "https://localhost:8080/"
        },
        "id": "f-C4rYMDL1_l",
        "outputId": "153b0c55-c283-4af5-d320-2595fb7df7e3"
      },
      "source": [
        "w = demo_model.get_weights()\n",
        "#print(len(w),' weight arrays:',w)\n",
        "wname=('wx','wh','bh','wy','by','wz','bz')\n",
        "for i in range(len(w)):\n",
        "  print(i,':',wname[i],'shape=',w[i].shape)\n",
        "\n",
        "wx = w[0]\n",
        "wh = w[1]\n",
        "bh = w[2]\n",
        "wy = w[3]\n",
        "by = w[4]"
      ],
      "execution_count": 8,
      "outputs": [
        {
          "output_type": "stream",
          "name": "stdout",
          "text": [
            "0 : wx shape= (1, 2)\n",
            "1 : wh shape= (2, 2)\n",
            "2 : bh shape= (2,)\n",
            "3 : wy shape= (2, 1)\n",
            "4 : by shape= (1,)\n"
          ]
        }
      ]
    },
    {
      "cell_type": "code",
      "source": [
        "# help(SimpleRNN)"
      ],
      "metadata": {
        "id": "kNzpNlwP4MSs"
      },
      "execution_count": 9,
      "outputs": []
    },
    {
      "cell_type": "markdown",
      "metadata": {
        "id": "oks2sHZlUQZB"
      },
      "source": [
        "Now let’s do a simple experiment to see how the layers from a SimpleRNN and Dense layer produce an output. Keep this figure in view.\n",
        "<img src=\"https://machinelearningmastery.com/wp-content/uploads/2021/09/rnnCode1.png\">"
      ]
    },
    {
      "cell_type": "markdown",
      "metadata": {
        "id": "eGi9cUkgUkTe"
      },
      "source": [
        "We’ll input x for three time steps and let the network generate an output. The values of the hidden units at time steps 1, 2 and 3 will be computed. \n",
        "h<sub>0</sub>\n",
        " is initialized to the zero vector. The output \n",
        "o<sub>3</sub>\n",
        " is computed from \n",
        "h<sub>3</sub>\n",
        " and \n",
        "w<sub>3</sub>\n",
        ". An activation function is linear, f(x)=x, so the update of $h(k)$ and the output $o(k)$ are given by"
      ]
    },
    {
      "cell_type": "markdown",
      "metadata": {
        "id": "QSD8ABJXxS7K"
      },
      "source": [
        "\\begin{align*}\n",
        "h\\left(  0\\right)  = &\\left[\n",
        "\\begin{array}\n",
        "[c]{c}%\n",
        "0\\\\\n",
        "0\n",
        "\\end{array}\n",
        "\\right]  \\\\\n",
        "h\\left(  k+1\\right)  =&x\\left(  k\\right)  \\left[\n",
        "\\begin{array}\n",
        "[c]{c}%\n",
        "w_{x,0}\\\\\n",
        "w_{x,1}%\n",
        "\\end{array}\n",
        "\\right]  +\\left[  h_{0}(k),h_{1}(k)\\right]  \\left[\n",
        "\\begin{array}\n",
        "[c]{cc}%\n",
        "w_{h,00} & w_{h,01}\\\\\n",
        "w_{h,10} & w_{h,11}%\n",
        "\\end{array}\n",
        "\\right]  +\\left[\n",
        "\\begin{array}\n",
        "[c]{c}%\n",
        "b_{h,0}\\\\\n",
        "b_{h,1}%\n",
        "\\end{array}\n",
        "\\right]  \\\\\n",
        "o(k+1)=& \\left[  h_{0}(k+1),h_{1}(k+1)\\right]  \\left[\n",
        "\\begin{array}\n",
        "[c]{c}%\n",
        "w_{y,0}\\\\\n",
        "w_{y,1}%\n",
        "\\end{array}\n",
        "\\right] \n",
        "\\end{align*}\n"
      ]
    },
    {
      "cell_type": "markdown",
      "metadata": {
        "id": "MAvXBZodx8RP"
      },
      "source": [
        "We compute this for $k=1,2,3$ and compare with the output of the model:"
      ]
    },
    {
      "cell_type": "code",
      "metadata": {
        "colab": {
          "base_uri": "https://localhost:8080/"
        },
        "id": "kMOhAImzL7Ch",
        "outputId": "514a245f-85bd-48aa-b4e5-02c355ca6d01"
      },
      "source": [
        "w = demo_model.get_weights()\n",
        "wx = w[0]\n",
        "wh = w[1]\n",
        "bh = w[2]\n",
        "wy = w[3]\n",
        "by = w[4]\n",
        "x = np.array([1, 2, 3])\n",
        "# Reshape the input to the required sample_size x time_steps x features \n",
        "x_input = np.reshape(x,(1, 3, 1))\n",
        "y_pred_model = demo_model.predict(x_input)\n",
        "\n",
        "\n",
        "m = 2\n",
        "h0 = np.zeros(m)\n",
        "h1 = np.dot(x[0], wx) + np.dot(h0,wh) + bh\n",
        "h2 = np.dot(x[1], wx) + np.dot(h1,wh) + bh\n",
        "h3 = np.dot(x[2], wx) + np.dot(h2,wh) + bh\n",
        "o3 = np.dot(h3, wy) + by\n",
        "\n",
        "print('h1 = ', h1,'h2 = ', h2,'h3 = ', h3)\n",
        "\n",
        "print(\"Prediction from network \", y_pred_model)\n",
        "print(\"Prediction from our computation \", o3)"
      ],
      "execution_count": 10,
      "outputs": [
        {
          "output_type": "stream",
          "name": "stdout",
          "text": [
            "h1 =  [[ 1.14749658 -0.20947528]] h2 =  [[ 3.29422907 -1.02074469]] h3 =  [[ 6.16276048 -2.74833013]]\n",
            "Prediction from network  [[3.5862036]]\n",
            "Prediction from our computation  [[3.58620384]]\n"
          ]
        }
      ]
    },
    {
      "cell_type": "code",
      "source": [
        "# the same using arrays\n",
        "demo_model = create_RNN_functional(hidden_units=2, dense_units=1, input_shape=(3,1), \n",
        "                        activation=['linear', 'linear'])\n",
        "w = demo_model.get_weights()\n",
        "\n",
        "x = np.array([1, 2, 3])\n",
        "# Reshape the input to the required sample_size x time_steps x features \n",
        "x_input = np.reshape(x,(1, 3, 1))\n",
        "y_pred_model = demo_model.predict(x_input)\n",
        "\n",
        "h = np.zeros(2)\n",
        "o = np.empty(3)\n",
        "for i in range(3):\n",
        "  h = np.dot(x[i], w[0]) + np.dot(h, w[1]) + w[2]\n",
        "  o[i]=np.dot(h, w[3]) + w[4]\n",
        "\n",
        "print(\"Prediction from network \", y_pred_model)\n",
        "print(\"Prediction from our computation \", o[2])"
      ],
      "metadata": {
        "colab": {
          "base_uri": "https://localhost:8080/"
        },
        "id": "Q2kuhi2KBNY4",
        "outputId": "67455e3d-b4b3-4265-d48c-ee8757738e2d"
      },
      "execution_count": 11,
      "outputs": [
        {
          "output_type": "stream",
          "name": "stdout",
          "text": [
            "Prediction from network  [[-1.0523229]]\n",
            "Prediction from our computation  -1.0523225195909676\n"
          ]
        }
      ]
    },
    {
      "cell_type": "markdown",
      "metadata": {
        "id": "JopR12ZaVAyS"
      },
      "source": [
        "The predictions came out the same! This confirms that we know what the network is doing."
      ]
    },
    {
      "cell_type": "markdown",
      "metadata": {
        "id": "dHGF-tofMpJP"
      },
      "source": [
        "## Step 1, 2: Reading Data and Splitting Into Train And Test"
      ]
    },
    {
      "cell_type": "markdown",
      "metadata": {
        "id": "5x748YZuY-yL"
      },
      "source": [
        "The following function reads the train and test data from a given URL and splits it into a given percentage of train and test data. It returns single dimensional arrays for train and test data after scaling the data between 0 and 1 using MinMaxScaler from scikit-learn."
      ]
    },
    {
      "cell_type": "code",
      "metadata": {
        "id": "JyrxUuiuL8gv"
      },
      "source": [
        "# Parameter split_percent defines the ratio of training examples\n",
        "def get_train_test(data, split_percent=0.8):\n",
        "    scaler = MinMaxScaler(feature_range=(0, 1))\n",
        "    data = scaler.fit_transform(data).flatten()\n",
        "    n = len(data)\n",
        "    # Point for splitting data into train and test\n",
        "    split = int(n*split_percent)\n",
        "    train_data = data[range(split)]\n",
        "    test_data = data[split:]\n",
        "    return train_data, test_data, data\n",
        "\n",
        "sunspots_url = 'https://raw.githubusercontent.com/jbrownlee/Datasets/master/monthly-sunspots.csv'\n",
        "df = read_csv(sunspots_url, usecols=[1], engine='python')\n",
        "train_data, test_data, data = get_train_test(np.array(df.values.astype('float32')))"
      ],
      "execution_count": 12,
      "outputs": []
    },
    {
      "cell_type": "markdown",
      "metadata": {
        "id": "iCsHwJOcZMJ7"
      },
      "source": [
        "Let's print the data shape so that we know what we got."
      ]
    },
    {
      "cell_type": "code",
      "metadata": {
        "id": "h5AmHug8JViT",
        "colab": {
          "base_uri": "https://localhost:8080/"
        },
        "outputId": "cd94b6d4-d289-4e71-d8a4-6a97f3cf6eda"
      },
      "source": [
        "data.shape"
      ],
      "execution_count": 13,
      "outputs": [
        {
          "output_type": "execute_result",
          "data": {
            "text/plain": [
              "(2820,)"
            ]
          },
          "metadata": {},
          "execution_count": 13
        }
      ]
    },
    {
      "cell_type": "markdown",
      "metadata": {
        "id": "QHoBV8CSMt44"
      },
      "source": [
        "## Step 3: Reshaping Data For Keras"
      ]
    },
    {
      "cell_type": "markdown",
      "metadata": {
        "id": "B1CW_mu8Zbwb"
      },
      "source": [
        "The next step is to prepare the data for Keras model training. The input array should be shaped as: **(total_samples, x time_steps, x features)**.\n",
        "There are many ways of preparing time series data for training. We’ll create input rows with non-overlapping time steps. An example is shown in the figure below. Here time_steps denotes the number of previous time steps to use for predicting the next value of the time series data. We have for time_steps = 2, features = 1, and the first 6 terms are split total_samples=3 samples: 0, 10 predict the next term 20, then 20, 30 predict the next term 40, etc."
      ]
    },
    {
      "cell_type": "markdown",
      "metadata": {
        "id": "OeEc_dmqZmtx"
      },
      "source": [
        "<img src=\"https://machinelearningmastery.com/wp-content/uploads/2021/09/rnnCode2.png\">"
      ]
    },
    {
      "cell_type": "markdown",
      "metadata": {
        "id": "iLqm8291Pd5X"
      },
      "source": [
        "The following function get_XY() takes a one dimensional array as input and converts it to the required input X and target Y arrays."
      ]
    },
    {
      "cell_type": "code",
      "metadata": {
        "id": "IxJEj52BL__o"
      },
      "source": [
        "# Prepare the input X and target Y\n",
        "def get_XY(dat, time_steps):\n",
        "    # Indices of target array\n",
        "    Y_ind = np.arange(time_steps, len(dat), time_steps)\n",
        "    Y = dat[Y_ind]\n",
        "    # Prepare X\n",
        "    rows_x = len(Y)\n",
        "    X = dat[range(time_steps*rows_x)]\n",
        "    X = np.reshape(X, (rows_x, time_steps, 1))    \n",
        "    return X, Y"
      ],
      "execution_count": 14,
      "outputs": []
    },
    {
      "cell_type": "markdown",
      "metadata": {
        "id": "RFhadJjzQO7p"
      },
      "source": [
        "For illustration, on the simple example above it returns the expected result: "
      ]
    },
    {
      "cell_type": "code",
      "metadata": {
        "id": "V38oXJ32QiFK",
        "colab": {
          "base_uri": "https://localhost:8080/"
        },
        "outputId": "a91d1a52-bee8-4dab-cb23-b6308ea31af5"
      },
      "source": [
        "dat = np.linspace(0.,70.,8).reshape(-1,1)\n",
        "print(\"dat shape=\",dat.shape)\n",
        "X, Y = get_XY(dat, 2)\n",
        "print(\"X shape=\",X.shape)\n",
        "print(\"Y shape=\",Y.shape)\n",
        "#print('dat=',dat)\n",
        "print('X=',X)\n",
        "print('Y=',Y)\n"
      ],
      "execution_count": 15,
      "outputs": [
        {
          "output_type": "stream",
          "name": "stdout",
          "text": [
            "dat shape= (8, 1)\n",
            "X shape= (3, 2, 1)\n",
            "Y shape= (3, 1)\n",
            "X= [[[ 0.]\n",
            "  [10.]]\n",
            "\n",
            " [[20.]\n",
            "  [30.]]\n",
            "\n",
            " [[40.]\n",
            "  [50.]]]\n",
            "Y= [[20.]\n",
            " [40.]\n",
            " [60.]]\n"
          ]
        }
      ]
    },
    {
      "cell_type": "markdown",
      "metadata": {
        "id": "4V4IE7TvQpDW"
      },
      "source": [
        "Now use it for the sunspot data.  We’ll use 12 time_steps for the sunspots dataset as the sunspots generally have a cycle of 12 months. You can experiment with other values of time_steps."
      ]
    },
    {
      "cell_type": "code",
      "metadata": {
        "id": "YBnBPDxiQsjL",
        "colab": {
          "base_uri": "https://localhost:8080/"
        },
        "outputId": "d0568f82-fae9-432b-9d28-6cad4e473477"
      },
      "source": [
        "time_steps = 24\n",
        "trainX, trainY = get_XY(train_data, time_steps)\n",
        "testX, testY = get_XY(test_data, time_steps)\n",
        "print(\"trainX shape=\",trainX.shape)\n",
        "print(\"trainY shape=\",trainY.shape)\n",
        "print(\"testX shape=\",testX.shape)\n",
        "print(\"testY shape=\",testY.shape)"
      ],
      "execution_count": 16,
      "outputs": [
        {
          "output_type": "stream",
          "name": "stdout",
          "text": [
            "trainX shape= (93, 24, 1)\n",
            "trainY shape= (93,)\n",
            "testX shape= (23, 24, 1)\n",
            "testY shape= (23,)\n"
          ]
        }
      ]
    },
    {
      "cell_type": "markdown",
      "metadata": {
        "id": "Xz2JRTGKMzo2"
      },
      "source": [
        "## Step 4: Create RNN Model And Train"
      ]
    },
    {
      "cell_type": "code",
      "metadata": {
        "id": "SyAE6XLnMGDO",
        "colab": {
          "base_uri": "https://localhost:8080/"
        },
        "outputId": "027157b4-b956-446b-92aa-fc3d6952a7cb"
      },
      "source": [
        "model = create_RNN(hidden_units=3, dense_units=1, input_shape=(time_steps,1), \n",
        "                   activation=['tanh', 'tanh'])\n",
        "model.fit(trainX, trainY, epochs=20, batch_size=1, verbose=2)"
      ],
      "execution_count": 17,
      "outputs": [
        {
          "output_type": "stream",
          "name": "stdout",
          "text": [
            "using functional api\n",
            "Epoch 1/20\n",
            "93/93 - 2s - loss: 0.0811 - 2s/epoch - 22ms/step\n",
            "Epoch 2/20\n",
            "93/93 - 1s - loss: 0.0298 - 625ms/epoch - 7ms/step\n",
            "Epoch 3/20\n",
            "93/93 - 1s - loss: 0.0186 - 528ms/epoch - 6ms/step\n",
            "Epoch 4/20\n",
            "93/93 - 1s - loss: 0.0125 - 593ms/epoch - 6ms/step\n",
            "Epoch 5/20\n",
            "93/93 - 1s - loss: 0.0097 - 544ms/epoch - 6ms/step\n",
            "Epoch 6/20\n",
            "93/93 - 1s - loss: 0.0094 - 518ms/epoch - 6ms/step\n",
            "Epoch 7/20\n",
            "93/93 - 1s - loss: 0.0081 - 615ms/epoch - 7ms/step\n",
            "Epoch 8/20\n",
            "93/93 - 1s - loss: 0.0081 - 526ms/epoch - 6ms/step\n",
            "Epoch 9/20\n",
            "93/93 - 1s - loss: 0.0082 - 577ms/epoch - 6ms/step\n",
            "Epoch 10/20\n",
            "93/93 - 1s - loss: 0.0069 - 586ms/epoch - 6ms/step\n",
            "Epoch 11/20\n",
            "93/93 - 1s - loss: 0.0067 - 572ms/epoch - 6ms/step\n",
            "Epoch 12/20\n",
            "93/93 - 0s - loss: 0.0070 - 465ms/epoch - 5ms/step\n",
            "Epoch 13/20\n",
            "93/93 - 0s - loss: 0.0060 - 485ms/epoch - 5ms/step\n",
            "Epoch 14/20\n",
            "93/93 - 1s - loss: 0.0061 - 520ms/epoch - 6ms/step\n",
            "Epoch 15/20\n",
            "93/93 - 1s - loss: 0.0058 - 535ms/epoch - 6ms/step\n",
            "Epoch 16/20\n",
            "93/93 - 1s - loss: 0.0056 - 605ms/epoch - 7ms/step\n",
            "Epoch 17/20\n",
            "93/93 - 1s - loss: 0.0058 - 541ms/epoch - 6ms/step\n",
            "Epoch 18/20\n",
            "93/93 - 1s - loss: 0.0054 - 785ms/epoch - 8ms/step\n",
            "Epoch 19/20\n",
            "93/93 - 1s - loss: 0.0054 - 648ms/epoch - 7ms/step\n",
            "Epoch 20/20\n",
            "93/93 - 1s - loss: 0.0050 - 672ms/epoch - 7ms/step\n"
          ]
        },
        {
          "output_type": "execute_result",
          "data": {
            "text/plain": [
              "<keras.callbacks.History at 0x7fe86dce13d0>"
            ]
          },
          "metadata": {},
          "execution_count": 17
        }
      ]
    },
    {
      "cell_type": "markdown",
      "metadata": {
        "id": "tluiPIaxM9FH"
      },
      "source": [
        "## Step 5: Compute And Print The Root Mean Square Error"
      ]
    },
    {
      "cell_type": "code",
      "metadata": {
        "id": "LnWdCmqJMK-k",
        "colab": {
          "base_uri": "https://localhost:8080/"
        },
        "outputId": "633a377d-c51e-4903-a11e-d0f86375471f"
      },
      "source": [
        "def print_error(trainY, testY, train_predict, test_predict):    \n",
        "    # Error of predictions\n",
        "    train_rmse = math.sqrt(mean_squared_error(trainY, train_predict))\n",
        "    test_rmse = math.sqrt(mean_squared_error(testY, test_predict))\n",
        "    # Print RMSE\n",
        "    print('Train RMSE: %.3f RMSE' % (train_rmse))\n",
        "    print('Test RMSE: %.3f RMSE' % (test_rmse))    \n",
        "\n",
        "# make predictions\n",
        "train_predict = model.predict(trainX)\n",
        "test_predict = model.predict(testX)\n",
        "# Mean square error\n",
        "print_error(trainY, testY, train_predict, test_predict)"
      ],
      "execution_count": 18,
      "outputs": [
        {
          "output_type": "stream",
          "name": "stdout",
          "text": [
            "Train RMSE: 0.069 RMSE\n",
            "Test RMSE: 0.134 RMSE\n"
          ]
        }
      ]
    },
    {
      "cell_type": "markdown",
      "metadata": {
        "id": "eed7244NNHs9"
      },
      "source": [
        ""
      ]
    },
    {
      "cell_type": "markdown",
      "metadata": {
        "id": "nDwJvflyNGz3"
      },
      "source": [
        "## Step 6: View The result"
      ]
    },
    {
      "cell_type": "code",
      "metadata": {
        "id": "fQPjWHWvMMGL",
        "colab": {
          "base_uri": "https://localhost:8080/",
          "height": 444
        },
        "outputId": "7edb1c9b-0c7a-44cc-bc5d-74f29f946930"
      },
      "source": [
        "# Plot the result\n",
        "def plot_result(trainY, testY, train_predict, test_predict):\n",
        "    actual = np.append(trainY, testY)\n",
        "    predictions = np.append(train_predict, test_predict)\n",
        "    rows = len(actual)\n",
        "    plt.figure(figsize=(15, 6), dpi=80)\n",
        "    plt.plot(range(rows), actual)\n",
        "    plt.plot(range(rows), predictions)\n",
        "    plt.axvline(x=len(trainY), color='r')\n",
        "    plt.legend(['Actual', 'Predictions'])\n",
        "    plt.xlabel('Observation number after given time steps')\n",
        "    plt.ylabel('Sunspots scaled')\n",
        "    plt.title('Actual and Predicted Values. The Red Line Separates The Training And Test Examples')\n",
        "plot_result(trainY, testY, train_predict, test_predict)"
      ],
      "execution_count": 19,
      "outputs": [
        {
          "output_type": "display_data",
          "data": {
            "text/plain": [
              "<Figure size 1200x480 with 1 Axes>"
            ],
            "image/png": "[encoded data removed]"
          },
          "metadata": {
            "needs_background": "light"
          }
        }
      ]
    }
  ]
}
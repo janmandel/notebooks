{
  "nbformat": 4,
  "nbformat_minor": 0,
  "metadata": {
    "colab": {
      "name": "ros.ipynb",
      "provenance": [],
      "collapsed_sections": []
    },
    "kernelspec": {
      "name": "python3",
      "display_name": "Python 3"
    },
    "language_info": {
      "name": "python"
    }
  },
  "cells": [
    {
      "cell_type": "markdown",
      "metadata": {
        "id": "K6SPUJOeW0Ns"
      },
      "source": [
        "### Computing the rate of spread in the direction normal to the fireline from the fire propagation ellipsoid"
      ]
    },
    {
      "cell_type": "markdown",
      "metadata": {
        "id": "E7kXfvt-Xn6P"
      },
      "source": [
        "Richards (1990) and FARSITE (Finney, 2000) assume that fire spreads to an ellipsoid with axes $a$ and $b$, with the fire starting from a point at distance $c$ on the $b$-axis from the center of the ellipse. The $b$ axis is the direction of the maximal Rate of Spread (ROS), which equals to $b+c$, and is computed from the Rothermel formula. Richards (1990) considers only the wind and zero slope, then the direction of the maximal rate of spread is the wind direction. FARSITE computes a ``resultant'' vector from the slope and wind vectors, which it then substitutes into the Rothermel formula. The computation of the slope and of the resultant vector is not entirely clear; to find out how that is done the heart of the project.\n",
        "\n",
        "When the fire propagates from a fireline, the ellipsoid method considers it as starting from starting points on the fireline, and the new fireline is then the envelope of the ellipsoid.\n",
        "\n",
        "WRF-SFIRE works with ROS in the direction of the normal of the fireline, and substitutes in the Rothermel formula the wind speed projected on the normal (i.e., multiplied by the cosine of the wind vector and the normal vector), and the slope (i.e, slope of the gradient of the terrain height) also projected on the normal (i.e., multiplied by the cosine of the slope direction in the horizontal plane and the normal vector).\n",
        "\n",
        "To compare the fire propagation in WRF-SFIRE and FARSITE, we will find the ROS in the direction normal to the fireline, which is equivalent to what FARSITE does. "
      ]
    },
    {
      "cell_type": "markdown",
      "metadata": {
        "id": "WkuzlJ2SMsi3"
      },
      "source": [
        "Write the equation of an ellipse with horizontal axis $a$ and vertical axis\n",
        "$b$ in parametric form\n",
        "$$\n",
        "\\left[\n",
        "\\begin{array}\n",
        "[c]{c}\n",
        "x\\\\\n",
        "y\n",
        "\\end{array}\n",
        "\\right]  =\\left[\n",
        "\\begin{array}\n",
        "[c]{c}\n",
        "a\\cos s\\\\\n",
        "b\\sin s\n",
        "\\end{array}\n",
        "\\right] .\n",
        "$$\n",
        "Rotate by an angle $\\theta$ clockwise:\n",
        "$$\n",
        "\\left[\n",
        "\\begin{array}\n",
        "[c]{c}\n",
        "x\\\\\n",
        "y\n",
        "\\end{array}\n",
        "\\right]  =\\left[\n",
        "\\begin{array}\n",
        "[c]{cc}\n",
        "\\cos\\theta & \\sin\\theta\\\\\n",
        "-\\sin\\theta & \\cos\\theta\n",
        "\\end{array}\n",
        "\\right]  \\left[\n",
        "\\begin{array}\n",
        "[c]{c}\n",
        "a\\cos s\\\\\n",
        "b\\sin s\n",
        "\\end{array}\n",
        "\\right]  .\n",
        "$$\n",
        "Multiplying out we get\n",
        "$$\n",
        "\\left[\n",
        "\\begin{array}\n",
        "[c]{c}\n",
        "x\\\\\n",
        "y\n",
        "\\end{array}\n",
        "\\right]  =\\left[\n",
        "\\begin{array}\n",
        "[c]{c}\n",
        "a\\cos\\theta\\cos s+b\\sin\\theta\\sin s\\\\\n",
        "-a\\sin\\theta\\cos s+b\\cos\\theta\\sin s\n",
        "\\end{array}\n",
        "\\right]  .\n",
        "$$\n",
        "Move the center vertically so that the point at distance $c$ from the bottom\n",
        "vertex on the $b$ axis is at $y=0$,\n",
        "$$\n",
        "\\left[\n",
        "\\begin{array}\n",
        "[c]{c}\n",
        "x\\\\\n",
        "y\n",
        "\\end{array}\n",
        "\\right]  =\\left[\n",
        "\\begin{array}\n",
        "[c]{c}\n",
        "a\\cos\\theta\\cos s+b\\sin\\theta\\sin s\\\\\n",
        "-a\\sin\\theta\\cos s+b\\cos\\theta\\sin s+(b-c)\\cos\\theta\n",
        "\\end{array}\n",
        "\\right]\n",
        "$$\n",
        "This is the equation of the ellipse from the figure. The rate of spread in the\n",
        "direction of the normal equivalent to the ellipse is the distance of the\n",
        "horizontal lines at $y=0$ and tangent to the top of the rotated shifted\n",
        "ellipse\n",
        "$$\n",
        "R=\\max_{s}-a\\sin\\theta\\cos s+b\\cos\\theta\\sin s+(b-c)\\cos\\theta\n",
        "$$\n",
        "The find the highest point, set\n",
        "$$\n",
        "y^{\\prime}\\left(  s\\right)  =\\frac{\\partial}{\\partial s}\\left(  -a\\sin\n",
        "\\theta\\cos s+b\\cos\\theta\\sin s+(b-c)\\cos\\theta\\right)  =0\n",
        "$$\n",
        "which gives\n",
        "$$\n",
        "a\\sin\\theta\\sin s+b\\cos\\theta\\cos s=0\n",
        "$$\n",
        "We can either divide by $\\sin\\theta\\neq0$,\n",
        "$$\n",
        "\\frac{\\sin s}{\\cos s}+\\frac{b}{a}\\frac{\\cos\\theta}{\\sin\\theta}=0,\n",
        "$$\n",
        "and compute $s$ from\n",
        "$$\n",
        "s=-\\arctan\\left(  \\frac{b\\cos\\theta}{a\\sin\\theta}\\right)\n",
        "$$\n",
        "Using the arctan2 function in numpy\n",
        "$$\n",
        "s=-\\text{arctan2}\\left(  b\\cos\\theta,a\\sin\\theta\\right)\n",
        "$$\n",
        "gives the correct result even for $\\sin\\theta=0.$ In any case, we get two solutions, $s$\n",
        "and $s+\\pi$,  substitute in the equation of the ellipse\n",
        "$$\n",
        "y=-a\\sin\\theta\\cos s+b\\cos\\theta\\sin s+\\left(  b-c\\right)  \\cos\\theta\n",
        "$$\n",
        "and take the larger value:\n",
        "$$\n",
        "R=\\max\\left\\{  u,-u\\right\\}  +c\\cos\\theta,\\quad u=-a\\sin\\theta\\cos\n",
        "s+b\\cos\\theta\\sin s.\n",
        "$$\n"
      ]
    },
    {
      "cell_type": "markdown",
      "metadata": {
        "id": "J-jOgO1aWAeM"
      },
      "source": [
        "The code to compute $R$ from $a,b,c,\\theta$ turns out to be just three lines:"
      ]
    },
    {
      "cell_type": "code",
      "metadata": {
        "id": "MQM-prA63FJU"
      },
      "source": [
        "import numpy as np\n",
        "def ros_n(a,b,c,theta):\n",
        "  # compute fire rate of spread in the direction normal to the fireline for fire\n",
        "  # propagating according the the ellipsoid method with coefficients a, b, c \n",
        "  # and the main axis of the ellipsoid at angle theta from the normal\n",
        "  \n",
        "  s = -np.arctan2(b*np.cos(theta),a*np.sin(theta))\n",
        "  u = -a*np.sin(theta)*np.cos(s) + b*np.cos(theta)*np.sin(s)\n",
        "  return np.maximum(u,-u) + (b-c)*np.cos(theta)\n"
      ],
      "execution_count": null,
      "outputs": []
    },
    {
      "cell_type": "markdown",
      "metadata": {
        "id": "T7xRu4rPWI6k"
      },
      "source": [
        "As always, if we don't verify, it's just a fantasy. Let's draw some pictures."
      ]
    },
    {
      "cell_type": "code",
      "metadata": {
        "id": "ruy0KQ2M9DlD"
      },
      "source": [
        "import matplotlib.pyplot as plt \n",
        "def plot_ros(a,b,c,theta):\n",
        "  r=ros_n(a,b,c,theta)\n",
        "  def xe(s):   # x coordinate of point on the ellipse\n",
        "    return a*np.cos(theta)*np.cos(s) + b*np.sin(theta)*np.sin(s)\n",
        "  def ye(s):   # c coordinate of point on the ellipse\n",
        "    return -a*np.sin(theta)*np.cos(s) + b*np.cos(theta)*np.sin(s) + (b-c)*np.cos(theta)\n",
        "  def cline(t,m): # plot line through the center at angle t\n",
        "    plt.plot([xe(t), xe(t+np.pi)], [ye(t), ye(t+np.pi)],marker='o',linestyle='-.',c=m)\n",
        "  %matplotlib inline\n",
        "  plt.figure(figsize=(8,8))\n",
        "  s=np.linspace(0,2*np.pi,1000)  # parameter\n",
        "  x = xe(s)\n",
        "  y = ye(s)\n",
        "  plt.plot(x,y,      linestyle='--',c='r',label='fire propagation ellipsoid at t=1s')\n",
        "  cline(0.0,'b')\n",
        "  cline(np.pi/2,'r')\n",
        "  \n",
        "  xx=np.linspace(-b,b,100)\n",
        "  oo=np.ones(100)\n",
        "  plt.plot(xx,oo*r,  linestyle='-',c='k',label='fireline at t=1s')\n",
        "  plt.plot(xx,oo*0.0,linestyle='--',c='k',label='fireline at t=0s')\n",
        "  plt.ylabel('fire traveled in normal direction (m)')\n",
        "  plt.title('Normal ROS %s for ellipsoid with a=%s m b=%s m c=%s m at %s rad angle' % (r,a,b,c,theta))\n",
        "  plt.axis('equal')\n",
        "  plt.legend()\n",
        "\n"
      ],
      "execution_count": null,
      "outputs": []
    },
    {
      "cell_type": "markdown",
      "metadata": {
        "id": "fnVD6YlkMy0U"
      },
      "source": [
        "Now try it on few examples."
      ]
    },
    {
      "cell_type": "code",
      "metadata": {
        "id": "rFQwoV0V4xmG"
      },
      "source": [
        "plot_ros(1.0,4.0,1,-1.0)"
      ],
      "execution_count": null,
      "outputs": []
    },
    {
      "cell_type": "code",
      "metadata": {
        "id": "f3eRCsqvSBdD"
      },
      "source": [
        "plot_ros(1.0,1.0,0.1,0.0)"
      ],
      "execution_count": null,
      "outputs": []
    },
    {
      "cell_type": "code",
      "metadata": {
        "id": "teNrqbvoSL_i"
      },
      "source": [
        "plot_ros(1.0,1.0,0.0,1.0)"
      ],
      "execution_count": null,
      "outputs": []
    },
    {
      "cell_type": "code",
      "metadata": {
        "id": "hCuxGpWAEZEy"
      },
      "source": [
        "plot_ros(0.5,1.0,0.1,0.5)"
      ],
      "execution_count": null,
      "outputs": []
    },
    {
      "cell_type": "code",
      "metadata": {
        "id": "W0DQBtLzFA37"
      },
      "source": [
        "plot_ros(0.5,1.0,0.1,-2.0)"
      ],
      "execution_count": null,
      "outputs": []
    },
    {
      "cell_type": "markdown",
      "metadata": {
        "id": "NyaGs8EJXX4M"
      },
      "source": [
        "### How FARSITE and WRF-SFIRE compute the ROS"
      ]
    }
  ]
}
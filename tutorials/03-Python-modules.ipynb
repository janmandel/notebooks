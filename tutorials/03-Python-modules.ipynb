{
  "nbformat": 4,
  "nbformat_minor": 0,
  "metadata": {
    "anaconda-cloud": {},
    "colab": {
      "name": "03-Python-modules.ipynb",
      "provenance": [],
      "collapsed_sections": []
    },
    "kernelspec": {
      "display_name": "Python 3",
      "language": "python",
      "name": "python3"
    },
    "language_info": {
      "codemirror_mode": {
        "name": "ipython",
        "version": 3
      },
      "file_extension": ".py",
      "mimetype": "text/x-python",
      "name": "python",
      "nbconvert_exporter": "python",
      "pygments_lexer": "ipython3",
      "version": "3.8.5"
    }
  },
  "cells": [
    {
      "cell_type": "markdown",
      "metadata": {
        "id": "cB27OQ9zJ5iV"
      },
      "source": [
        "# Python Tutorial III: Modules\n",
        "In this lecture, we will see how to make code more organized by creating user-defined modules and split the code into multiple reusable parts."
      ]
    },
    {
      "cell_type": "markdown",
      "metadata": {
        "collapsed": true,
        "id": "E9MCM1FZ7RzB"
      },
      "source": [
        "## Modules\n",
        "\n",
        "### What is it?\n",
        "* A file containing Python definitions and statements.\n",
        "* The file name is the module name with the suffix .py appended.\n",
        "* Within a module, the module's name is available as the valuable of the global variable *__name__*.\n",
        "\n",
        "### When to use:\n",
        "* Your script gets very long and you want to have easier maintenance. \n",
        "* You want to reuse a function in several programs or scripts without copy/paste.\n",
        "* Performance reasons.\n",
        "\n",
        "Let's look at an example:\n",
        "\n",
        "Let's get file ``differences.py`` "
      ]
    },
    {
      "cell_type": "code",
      "metadata": {
        "id": "PtMqI_JXeVNX"
      },
      "source": [
        "# copy from github raw url if we do not have the file already\n",
        "import os\n",
        "if not os.path.exists('differences.py'):\n",
        "    use the shell escale ! to run the command wget and copy the file at https://raw.githubusercontent.com/janmandel/CCM-Intro-to-SC/main/differences.py to your runtime contents\n",
        "else:\n",
        "    print('file already exists')\n",
        "\n",
        "\n"
      ],
      "execution_count": null,
      "outputs": []
    },
    {
      "cell_type": "code",
      "metadata": {
        "id": "alToqvR87SDN"
      },
      "source": [
        "# and import it\n",
        "import differences as diff # We import the module just like we import numpy\n",
        "print('if we got here the import went OK')\n"
      ],
      "execution_count": null,
      "outputs": []
    },
    {
      "cell_type": "code",
      "metadata": {
        "id": "dcXJbaiQ7RzB"
      },
      "source": [
        "# magic to make the output appear here https://pythonguides.com/what-is-matplotlib-inline/\n",
        "%matplotlib inline   \n",
        "\n",
        "import matplotlib.pyplot as plt\n",
        "import numpy as np\n",
        "\n",
        "# code a functkon and its derivative\n",
        "def myfun(x=0):\n",
        "    return np.exp(-x**2)*np.sin(np.pi*x)\n",
        "\n",
        "def myder(x=0):\n",
        "    return np.exp(-x**2)*(np.pi*np.cos(np.pi*x)-2*x*np.sin(np.pi*x))\n"
      ],
      "execution_count": null,
      "outputs": []
    },
    {
      "cell_type": "code",
      "metadata": {
        "id": "bXYDve3f5WCC"
      },
      "source": [
        "# make a figure number 0\n",
        "plt.figure(0)\n",
        "plt.plot(x,myfun(x))\n",
        "plt.title('$f(x) = e^{-x^2}\\sin(\\pi x)$')"
      ],
      "execution_count": null,
      "outputs": []
    },
    {
      "cell_type": "code",
      "metadata": {
        "id": "cs6RdpFb7RzB"
      },
      "source": [
        "# now compute numerical derivatives \n",
        "\n",
        "# make mesh of points on x axis\n",
        "x = np.linspace(0,1,100)  \n",
        "\n",
        "fprime_FD = diff.for_diff(myfun,x,.1) #array of forward difference approximation to the derivative\n",
        "\n",
        "# remember the figure objects as variable\n",
        "fig1 = plt.figure(1, figsize=(15, 6)) # for plots of forward difference approx\n",
        "\n",
        "axes1_1 = fig1.add_subplot(1, 2, 1) #the first plot in a 1x2 array\n",
        "axes2_1 = fig1.add_subplot(1, 2, 2) #the second plot in a 1x2 array\n",
        "\n",
        "axes1_1.plot(x,myder(x),label='$f^\\prime$')\n",
        "axes1_1.plot(x,fprime_FD,label='FD approx of $f^\\prime$')\n",
        "axes1_1.legend(loc='upper right', fontsize=14)\n",
        "\n",
        "axes2_1.plot(x,myder(x)-fprime_FD)\n",
        "axes2_1.set_title('Error in the approximate forward derivative')\n"
      ],
      "execution_count": null,
      "outputs": []
    },
    {
      "cell_type": "code",
      "metadata": {
        "id": "tcQWbwCB8w24"
      },
      "source": [
        "# compute and plot the same for backward difference approximation to the derivative\n",
        "# use new variables for the figure and axes, do not reuse\n",
        "# can reuse array x\n",
        "fig2 = plt.figure(2, figsize=(15, 6)) # for plots of backward difference approx\n",
        "\n",
        "fprime_BD = diff.back_diff(myfun,x,.1) #backward difference approximation to the derivative\n",
        "axes1_1b = fig2.add_subplot(1, 2, 1) #the first plot in a 1x2 array\n",
        "axes2_1b = fig2.add_subplot(1, 2, 2) #the second plot in a 1x2 array\n",
        "\n",
        "axes1_1b.plot(x,myder(x),label='$f^\\prime$')\n",
        "axes1_1b.plot(x,fprime_BD,label='BD approx of $f^\\prime$')\n",
        "axes1_1b.legend(loc='upper right', fontsize=14)\n",
        "\n",
        "axes2_1b.plot(x,myder(x)-fprime_BD)\n",
        "axes2_1b.set_title('Error in the approximate backward derivative')\n",
        "\n"
      ],
      "execution_count": null,
      "outputs": []
    },
    {
      "cell_type": "code",
      "metadata": {
        "id": "fzE3346E91Ct"
      },
      "source": [
        "# compute and plot the same for central difference approximation to the derivative\n",
        "# use new variable for the figure, do not reuse\n",
        "# can reuse array x\n",
        "your code here\n"
      ],
      "execution_count": null,
      "outputs": []
    },
    {
      "cell_type": "markdown",
      "metadata": {
        "id": "-8ECd_LhBNvM"
      },
      "source": [
        "## Look at the pictures and print below which numerical derivative is most accurate: forward, backward, or central?## "
      ]
    },
    {
      "cell_type": "code",
      "metadata": {
        "id": "GaqBob_2Bxfx"
      },
      "source": [
        "your code"
      ],
      "execution_count": null,
      "outputs": []
    },
    {
      "cell_type": "markdown",
      "metadata": {
        "collapsed": true,
        "id": "0Ia7JMMS7RzB"
      },
      "source": [
        "## Where does a module file need to go?\n",
        "\n",
        "Say you are trying to `import spam`.\n",
        "\n",
        "When importing, the interpreter searches for spam in locations in the list of directories given by the variable *sys.path*.\n",
        "On Colab, this includes the directory /contents, which is your running directory.\n",
        "\n"
      ]
    },
    {
      "cell_type": "markdown",
      "metadata": {
        "id": "JnOf1Q2_I1zq"
      },
      "source": [
        "##Exercise: import the package sys and print the variable sys.path"
      ]
    },
    {
      "cell_type": "code",
      "metadata": {
        "id": "XQHqQc9tIUHB"
      },
      "source": [
        "your code here"
      ],
      "execution_count": null,
      "outputs": []
    },
    {
      "cell_type": "markdown",
      "metadata": {
        "id": "TlyxPtJNIXHj"
      },
      "source": [
        "## Generalizations of Modules: Packages\n",
        "\n",
        "Packages (i.e., libraries) are modules with a *directory* structure.\n",
        "You can even make packages with subpackages and simply exploit the dot.dot reference to navigate through the package to get to the function you want (e.g. matplotlib.pyplot.plot).  \n",
        "If you want to develop a well-comparmentalized package you can look at online help: https://python-packaging.readthedocs.io/en/latest/"
      ]
    }
  ]
}
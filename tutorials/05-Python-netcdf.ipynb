{
  "nbformat": 4,
  "nbformat_minor": 0,
  "metadata": {
    "colab": {
      "name": "read_wrfout.ipynb",
      "provenance": [],
      "collapsed_sections": []
    },
    "kernelspec": {
      "name": "python3",
      "display_name": "Python 3"
    },
    "language_info": {
      "name": "python"
    }
  },
  "cells": [
    {
      "cell_type": "markdown",
      "metadata": {
        "id": "OFIaHCyd0qEQ"
      },
      "source": [
        "**Python basics 05 - download a NetCDF file and read it**"
      ]
    },
    {
      "cell_type": "markdown",
      "metadata": {
        "id": "IKDq7FUT1KMG"
      },
      "source": [
        "Run rhe code below to upload a file. Try to run it twice to see what happens."
      ]
    },
    {
      "cell_type": "code",
      "metadata": {
        "id": "7K6rHVEh0rYE"
      },
      "source": [
        "! wget --no-clobber --output-document=wrf.nc https://home.chpc.utah.edu/~u0703457/people_share/jan/simulation_canopy/wrfout_d01_2018-09-16_00:00:00\n"
      ],
      "execution_count": null,
      "outputs": []
    },
    {
      "cell_type": "markdown",
      "metadata": {
        "id": "tBF5Sq-M0sHO"
      },
      "source": [
        " **Exercise 1** Find the documenation of the wget command online and describe the meaning of the arguments used."
      ]
    },
    {
      "cell_type": "markdown",
      "metadata": {
        "id": "PkltxD-y0g-3"
      },
      "source": [
        "**Exercise 2** Complete the code below to read the arrays XLAT, XLONG as lats, lons, and variable tr17_1 from the file you uploaded similarly as in https://github.com/openwfm/wrfxpy/blob/829abe55c950840693dfae09adbb928ffdf3652a/src/forecast.py#L522, and print their shape (i.e., dimensions). Hint: look up NumPy shape online. "
      ]
    },
    {
      "cell_type": "code",
      "metadata": {
        "id": "3EuCTj_WHNTH"
      },
      "source": [
        "import netCDF4 as nc4\n",
        "your code here\n"
      ],
      "execution_count": null,
      "outputs": []
    }
  ]
}
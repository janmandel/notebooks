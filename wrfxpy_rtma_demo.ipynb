{
  "nbformat": 4,
  "nbformat_minor": 0,
  "metadata": {
    "colab": {
      "name": "wrfxpy-rtma-demo.ipynb",
      "provenance": [],
      "collapsed_sections": []
    },
    "kernelspec": {
      "name": "python3",
      "display_name": "Python 3"
    },
    "language_info": {
      "name": "python"
    }
  },
  "cells": [
    {
      "cell_type": "code",
      "metadata": {
        "id": "eec180b9QCSB"
      },
      "source": [
        "import os\n",
        "if not os.path.exists('wrfxpy'):\n",
        "   ! git clone https://github.com/openwfm/wrfxpy.git\n",
        "! cd wrfxpy; git checkout jm; git pull;  git log | head\n",
        "! pip install pygrib\n"
      ],
      "execution_count": null,
      "outputs": []
    },
    {
      "cell_type": "code",
      "metadata": {
        "colab": {
          "base_uri": "https://localhost:8080/"
        },
        "id": "52aO7XXn7TI_",
        "outputId": "c607cdf2-6a8c-4f1a-b8aa-646b7f9b46d1"
      },
      "source": [
        "!apt install libgrib-api-dev libgrib2c-dev\n",
        "!pip install pyproj\n",
        "!pip install pygrib"
      ],
      "execution_count": null,
      "outputs": [
        {
          "output_type": "stream",
          "name": "stdout",
          "text": [
            "Reading package lists... Done\n",
            "Building dependency tree       \n",
            "Reading state information... Done\n",
            "The following additional packages will be installed:\n",
            "  libgrib-api0 libgrib2c0d\n",
            "The following NEW packages will be installed:\n",
            "  libgrib-api-dev libgrib-api0 libgrib2c-dev libgrib2c0d\n",
            "0 upgraded, 4 newly installed, 0 to remove and 37 not upgraded.\n",
            "Need to get 941 kB of archives.\n",
            "After this operation, 5,832 kB of additional disk space will be used.\n",
            "Get:1 http://archive.ubuntu.com/ubuntu bionic/universe amd64 libgrib-api0 amd64 1.25.0-1 [319 kB]\n",
            "Get:2 http://archive.ubuntu.com/ubuntu bionic/universe amd64 libgrib-api-dev amd64 1.25.0-1 [530 kB]\n",
            "Get:3 http://archive.ubuntu.com/ubuntu bionic/universe amd64 libgrib2c0d amd64 1.6.0-9 [46.5 kB]\n",
            "Get:4 http://archive.ubuntu.com/ubuntu bionic/universe amd64 libgrib2c-dev amd64 1.6.0-9 [45.2 kB]\n",
            "Fetched 941 kB in 1s (653 kB/s)\n",
            "Selecting previously unselected package libgrib-api0.\n",
            "(Reading database ... 155013 files and directories currently installed.)\n",
            "Preparing to unpack .../libgrib-api0_1.25.0-1_amd64.deb ...\n",
            "Unpacking libgrib-api0 (1.25.0-1) ...\n",
            "Selecting previously unselected package libgrib-api-dev.\n",
            "Preparing to unpack .../libgrib-api-dev_1.25.0-1_amd64.deb ...\n",
            "Unpacking libgrib-api-dev (1.25.0-1) ...\n",
            "Selecting previously unselected package libgrib2c0d:amd64.\n",
            "Preparing to unpack .../libgrib2c0d_1.6.0-9_amd64.deb ...\n",
            "Unpacking libgrib2c0d:amd64 (1.6.0-9) ...\n",
            "Selecting previously unselected package libgrib2c-dev:amd64.\n",
            "Preparing to unpack .../libgrib2c-dev_1.6.0-9_amd64.deb ...\n",
            "Unpacking libgrib2c-dev:amd64 (1.6.0-9) ...\n",
            "Setting up libgrib-api0 (1.25.0-1) ...\n",
            "Setting up libgrib2c0d:amd64 (1.6.0-9) ...\n",
            "Setting up libgrib-api-dev (1.25.0-1) ...\n",
            "Setting up libgrib2c-dev:amd64 (1.6.0-9) ...\n",
            "Processing triggers for libc-bin (2.27-3ubuntu1.3) ...\n",
            "/sbin/ldconfig.real: /usr/local/lib/python3.7/dist-packages/ideep4py/lib/libmkldnn.so.0 is not a symbolic link\n",
            "\n",
            "Requirement already satisfied: pyproj in /usr/local/lib/python3.7/dist-packages (3.2.1)\n",
            "Requirement already satisfied: certifi in /usr/local/lib/python3.7/dist-packages (from pyproj) (2021.5.30)\n",
            "Requirement already satisfied: pygrib in /usr/local/lib/python3.7/dist-packages (2.1.4)\n",
            "Requirement already satisfied: pyproj in /usr/local/lib/python3.7/dist-packages (from pygrib) (3.2.1)\n",
            "Requirement already satisfied: numpy in /usr/local/lib/python3.7/dist-packages (from pygrib) (1.19.5)\n",
            "Requirement already satisfied: certifi in /usr/local/lib/python3.7/dist-packages (from pyproj->pygrib) (2021.5.30)\n"
          ]
        }
      ]
    },
    {
      "cell_type": "code",
      "metadata": {
        "id": "rc7RnvGZQQXh"
      },
      "source": [
        "import json\n",
        "cfg = json.load(open('wrfxpy/etc/conf.json.initial'))\n",
        "# make changes to the cfg dictionary here if desired\n",
        "json.dump(cfg, open('wrfxpy/etc/conf.json', 'w'), indent=4, separators=(',', ': '))"
      ],
      "execution_count": null,
      "outputs": []
    },
    {
      "cell_type": "code",
      "metadata": {
        "id": "TPkRrtHVQqLX"
      },
      "source": [
        "import sys\n",
        "sys.path.append('wrfxpy/src')     # source root\n",
        "import ingest.rtma_source\n"
      ],
      "execution_count": null,
      "outputs": []
    },
    {
      "cell_type": "code",
      "metadata": {
        "colab": {
          "base_uri": "https://localhost:8080/",
          "height": 305
        },
        "id": "-STU9kXtwogO",
        "outputId": "58ade569-8e6f-49d4-a94a-9307cc2686e9"
      },
      "source": [
        "import pygrib"
      ],
      "execution_count": null,
      "outputs": [
        {
          "output_type": "error",
          "ename": "ValueError",
          "evalue": "ignored",
          "traceback": [
            "\u001b[0;31m---------------------------------------------------------------------------\u001b[0m",
            "\u001b[0;31mValueError\u001b[0m                                Traceback (most recent call last)",
            "\u001b[0;32m<ipython-input-2-a1d2f888a334>\u001b[0m in \u001b[0;36m<module>\u001b[0;34m()\u001b[0m\n\u001b[0;32m----> 1\u001b[0;31m \u001b[0;32mimport\u001b[0m \u001b[0mpygrib\u001b[0m\u001b[0;34m\u001b[0m\u001b[0;34m\u001b[0m\u001b[0m\n\u001b[0m",
            "\u001b[0;32m/usr/local/lib/python3.7/dist-packages/pygrib/__init__.py\u001b[0m in \u001b[0;36m<module>\u001b[0;34m()\u001b[0m\n\u001b[1;32m      1\u001b[0m \u001b[0;31m# init for pygrib package\u001b[0m\u001b[0;34m\u001b[0m\u001b[0;34m\u001b[0m\u001b[0;34m\u001b[0m\u001b[0m\n\u001b[0;32m----> 2\u001b[0;31m \u001b[0;32mfrom\u001b[0m \u001b[0;34m.\u001b[0m\u001b[0m_pygrib\u001b[0m \u001b[0;32mimport\u001b[0m \u001b[0;34m*\u001b[0m\u001b[0;34m\u001b[0m\u001b[0;34m\u001b[0m\u001b[0m\n\u001b[0m\u001b[1;32m      3\u001b[0m \u001b[0;31m# Need explicit imports for names beginning with underscores\u001b[0m\u001b[0;34m\u001b[0m\u001b[0;34m\u001b[0m\u001b[0;34m\u001b[0m\u001b[0m\n\u001b[1;32m      4\u001b[0m \u001b[0;32mfrom\u001b[0m \u001b[0;34m.\u001b[0m\u001b[0m_pygrib\u001b[0m \u001b[0;32mimport\u001b[0m \u001b[0m__doc__\u001b[0m\u001b[0;34m,\u001b[0m \u001b[0m__version__\u001b[0m\u001b[0;34m\u001b[0m\u001b[0;34m\u001b[0m\u001b[0m\n",
            "\u001b[0;32msrc/pygrib/_pygrib.pyx\u001b[0m in \u001b[0;36minit pygrib._pygrib\u001b[0;34m()\u001b[0m\n",
            "\u001b[0;31mValueError\u001b[0m: numpy.ndarray size changed, may indicate binary incompatibility. Expected 88 from C header, got 80 from PyObject"
          ]
        }
      ]
    }
  ]
}